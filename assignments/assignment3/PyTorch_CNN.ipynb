{
  "nbformat": 4,
  "nbformat_minor": 0,
  "metadata": {
    "colab": {
      "name": "PyTorch_CNN.ipynb",
      "version": "0.3.2",
      "provenance": [],
      "collapsed_sections": [],
      "toc_visible": true
    },
    "language_info": {
      "codemirror_mode": {
        "name": "ipython",
        "version": 3
      },
      "file_extension": ".py",
      "mimetype": "text/x-python",
      "name": "python",
      "nbconvert_exporter": "python",
      "pygments_lexer": "ipython3",
      "version": "3.7.0"
    },
    "kernelspec": {
      "display_name": "Python 3",
      "language": "python",
      "name": "python3"
    },
    "accelerator": "GPU"
  },
  "cells": [
    {
      "cell_type": "markdown",
      "metadata": {
        "id": "Ad55zaoSk7pu",
        "colab_type": "text"
      },
      "source": [
        "# Задание 3.2 - сверточные нейронные сети (CNNs) в PyTorch\n",
        "\n",
        "Это упражнение мы буде выполнять в Google Colab - https://colab.research.google.com/  \n",
        "Google Colab позволяет запускать код в notebook в облаке Google, где можно воспользоваться бесплатным GPU!  \n",
        "\n",
        "Авторы курса благодарят компанию Google и надеятся, что праздник не закончится.\n",
        "\n",
        "Туториал по настройке Google Colab:  \n",
        "https://medium.com/deep-learning-turkey/google-colab-free-gpu-tutorial-e113627b9f5d  \n",
        "(Keras инсталлировать не нужно, наш notebook сам установит PyTorch)\n"
      ]
    },
    {
      "cell_type": "code",
      "metadata": {
        "colab_type": "code",
        "id": "FcXBeP1O7cnY",
        "colab": {
          "base_uri": "https://localhost:8080/",
          "height": 557
        },
        "outputId": "1e933508-c200-4940-c2b0-b6dd9420e290"
      },
      "source": [
        "# Intstall PyTorch and download data\n",
        "!pip3 install torch torchvision\n",
        "\n",
        "!wget -c http://ufldl.stanford.edu/housenumbers/train_32x32.mat http://ufldl.stanford.edu/housenumbers/test_32x32.mat"
      ],
      "execution_count": 1,
      "outputs": [
        {
          "output_type": "stream",
          "text": [
            "Requirement already satisfied: torch in /usr/local/lib/python3.6/dist-packages (1.1.0)\n",
            "Requirement already satisfied: torchvision in /usr/local/lib/python3.6/dist-packages (0.3.0)\n",
            "Requirement already satisfied: numpy in /usr/local/lib/python3.6/dist-packages (from torch) (1.16.4)\n",
            "Requirement already satisfied: six in /usr/local/lib/python3.6/dist-packages (from torchvision) (1.12.0)\n",
            "Requirement already satisfied: pillow>=4.1.1 in /usr/local/lib/python3.6/dist-packages (from torchvision) (4.3.0)\n",
            "Requirement already satisfied: olefile in /usr/local/lib/python3.6/dist-packages (from pillow>=4.1.1->torchvision) (0.46)\n",
            "--2019-07-03 09:56:06--  http://ufldl.stanford.edu/housenumbers/train_32x32.mat\n",
            "Resolving ufldl.stanford.edu (ufldl.stanford.edu)... 171.64.68.10\n",
            "Connecting to ufldl.stanford.edu (ufldl.stanford.edu)|171.64.68.10|:80... connected.\n",
            "HTTP request sent, awaiting response... 200 OK\n",
            "Length: 182040794 (174M) [text/plain]\n",
            "Saving to: ‘train_32x32.mat’\n",
            "\n",
            "train_32x32.mat     100%[===================>] 173.61M  5.44MB/s    in 50s     \n",
            "\n",
            "2019-07-03 09:56:56 (3.50 MB/s) - ‘train_32x32.mat’ saved [182040794/182040794]\n",
            "\n",
            "--2019-07-03 09:56:56--  http://ufldl.stanford.edu/housenumbers/test_32x32.mat\n",
            "Reusing existing connection to ufldl.stanford.edu:80.\n",
            "HTTP request sent, awaiting response... 200 OK\n",
            "Length: 64275384 (61M) [text/plain]\n",
            "Saving to: ‘test_32x32.mat’\n",
            "\n",
            "test_32x32.mat      100%[===================>]  61.30M  6.36MB/s    in 15s     \n",
            "\n",
            "2019-07-03 09:57:11 (4.16 MB/s) - ‘test_32x32.mat’ saved [64275384/64275384]\n",
            "\n",
            "FINISHED --2019-07-03 09:57:11--\n",
            "Total wall clock time: 1m 5s\n",
            "Downloaded: 2 files, 235M in 1m 4s (3.65 MB/s)\n"
          ],
          "name": "stdout"
        }
      ]
    },
    {
      "cell_type": "code",
      "metadata": {
        "colab_type": "code",
        "id": "-afwWw-Q85vD",
        "colab": {}
      },
      "source": [
        "from collections import namedtuple\n",
        "\n",
        "import matplotlib.pyplot as plt\n",
        "import numpy as np\n",
        "import PIL\n",
        "import torch\n",
        "import torch.nn as nn\n",
        "import torch.optim as optim\n",
        "import torchvision.datasets as dset\n",
        "from torch.utils.data.sampler import SubsetRandomSampler\n",
        "\n",
        "from torchvision import transforms"
      ],
      "execution_count": 0,
      "outputs": []
    },
    {
      "cell_type": "code",
      "metadata": {
        "colab_type": "code",
        "id": "NNU-OD9O9ltP",
        "colab": {}
      },
      "source": [
        "device = torch.device(\"cuda:0\") # Let's make sure GPU is available!"
      ],
      "execution_count": 0,
      "outputs": []
    },
    {
      "cell_type": "markdown",
      "metadata": {
        "id": "Xk6eOc-nk7p5",
        "colab_type": "text"
      },
      "source": [
        "# Загружаем данные"
      ]
    },
    {
      "cell_type": "code",
      "metadata": {
        "colab_type": "code",
        "id": "YAvkoRx-9FsP",
        "colab": {}
      },
      "source": [
        "# First, lets load the dataset\n",
        "data_train = dset.SVHN('./', \n",
        "                       transform=transforms.Compose([\n",
        "                           transforms.ToTensor(),\n",
        "                           transforms.Normalize(mean=[0.43,0.44,0.47],\n",
        "                                               std=[0.20,0.20,0.20])                           \n",
        "                       ])\n",
        "                      )\n",
        "data_test = dset.SVHN('./', split='test', transform=transforms.Compose([\n",
        "                           transforms.ToTensor(),\n",
        "                           transforms.Normalize(mean=[0.43,0.44,0.47],\n",
        "                                               std=[0.20,0.20,0.20])                           \n",
        "                       ]))"
      ],
      "execution_count": 0,
      "outputs": []
    },
    {
      "cell_type": "markdown",
      "metadata": {
        "id": "v4Jm-iDDk7p7",
        "colab_type": "text"
      },
      "source": [
        "Разделяем данные на training и validation.\n",
        "\n",
        "На всякий случай для подробностей - https://pytorch.org/tutorials/beginner/data_loading_tutorial.html"
      ]
    },
    {
      "cell_type": "code",
      "metadata": {
        "colab_type": "code",
        "id": "YRnr8CPg7Hli",
        "colab": {}
      },
      "source": [
        "batch_size = 64\n",
        "\n",
        "data_size = data_train.data.shape[0]\n",
        "validation_split = .2\n",
        "split = int(np.floor(validation_split * data_size))\n",
        "indices = list(range(data_size))\n",
        "np.random.shuffle(indices)\n",
        "\n",
        "train_indices, val_indices = indices[split:], indices[:split]\n",
        "\n",
        "train_sampler = SubsetRandomSampler(train_indices)\n",
        "val_sampler = SubsetRandomSampler(val_indices)\n",
        "\n",
        "train_loader = torch.utils.data.DataLoader(data_train, batch_size=batch_size, \n",
        "                                           sampler=train_sampler)\n",
        "val_loader = torch.utils.data.DataLoader(data_train, batch_size=batch_size,\n",
        "                                         sampler=val_sampler)"
      ],
      "execution_count": 0,
      "outputs": []
    },
    {
      "cell_type": "code",
      "metadata": {
        "colab_type": "code",
        "id": "LyYvt-T67PBG",
        "colab": {}
      },
      "source": [
        "# We'll use a special helper module to shape it into a flat tensor\n",
        "class Flattener(nn.Module):\n",
        "    def forward(self, x):\n",
        "        batch_size, *_ = x.shape\n",
        "        return x.view(batch_size, -1)"
      ],
      "execution_count": 0,
      "outputs": []
    },
    {
      "cell_type": "markdown",
      "metadata": {
        "id": "Da2eu5oqk7qB",
        "colab_type": "text"
      },
      "source": [
        "Создадим простейшую сеть с новыми слоями:  \n",
        "Convolutional - `nn.Conv2d`  \n",
        "MaxPool - `nn.MaxPool2d`"
      ]
    },
    {
      "cell_type": "code",
      "metadata": {
        "colab_type": "code",
        "id": "w9SFVGZP7SQd",
        "colab": {}
      },
      "source": [
        "nn_model = nn.Sequential(\n",
        "            nn.Conv2d(3, 64, 3, padding=1),\n",
        "            nn.ReLU(inplace=True),\n",
        "            nn.MaxPool2d(4),\n",
        "            nn.Conv2d(64, 64, 3, padding=1),\n",
        "            nn.ReLU(inplace=True),\n",
        "            nn.MaxPool2d(4),    \n",
        "            Flattener(),\n",
        "            nn.Linear(64*2*2, 10),\n",
        "          )\n",
        "\n",
        "nn_model.type(torch.cuda.FloatTensor)\n",
        "nn_model.to(device)\n",
        "\n",
        "loss = nn.CrossEntropyLoss().type(torch.cuda.FloatTensor)\n",
        "optimizer = optim.SGD(nn_model.parameters(), lr=1e-1, weight_decay=1e-4)"
      ],
      "execution_count": 0,
      "outputs": []
    },
    {
      "cell_type": "markdown",
      "metadata": {
        "id": "oIib8eG2k7qE",
        "colab_type": "text"
      },
      "source": [
        "Восстановите функцию `compute_accuracy` из прошлого задания.  \n",
        "Единственное отличие в новом - она должна передать данные на GPU прежде чем прогонять через модель. Сделайте это так же, как это делает функция `train_model`"
      ]
    },
    {
      "cell_type": "code",
      "metadata": {
        "colab_type": "code",
        "id": "2ek3KVQK7hJ6",
        "colab": {}
      },
      "source": [
        "import math\n",
        "\n",
        "def train_model(model, train_loader, val_loader, loss, optimizer, num_epochs, scheduler=None):    \n",
        "    loss_history = []\n",
        "    train_history = []\n",
        "    val_history = []\n",
        "    for epoch in range(num_epochs):\n",
        "        model.train() # Enter train mode\n",
        "        \n",
        "        loss_accum = 0\n",
        "        correct_samples = 0\n",
        "        total_samples = 0\n",
        "        for i_step, (x, y) in enumerate(train_loader):\n",
        "          \n",
        "            x_gpu = x.to(device)\n",
        "            y_gpu = y.to(device)\n",
        "            prediction = model(x_gpu)    \n",
        "            loss_value = loss(prediction, y_gpu)\n",
        "            optimizer.zero_grad()\n",
        "            loss_value.backward()\n",
        "            optimizer.step()\n",
        "            \n",
        "            _, indices = torch.max(prediction, 1)\n",
        "            correct_samples += torch.sum(indices == y_gpu)\n",
        "            total_samples += y.shape[0]\n",
        "            \n",
        "            loss_accum += loss_value\n",
        "\n",
        "        ave_loss = loss_accum / i_step\n",
        "            \n",
        "        train_accuracy = float(correct_samples) / total_samples\n",
        "        val_accuracy = compute_accuracy(model, val_loader)\n",
        "        \n",
        "        if math.isnan(ave_loss):\n",
        "            ave_loss = 10/val_accuracy\n",
        "            print(\"Loss is out of bounds, trying to force it back\")\n",
        "        \n",
        "        loss_history.append(float(ave_loss))\n",
        "        train_history.append(train_accuracy)\n",
        "        val_history.append(val_accuracy)\n",
        "        if scheduler is not None:\n",
        "          scheduler.step()\n",
        "        \n",
        "        print(\"Average loss: %f, Train accuracy: %f, Val accuracy: %f\" % (ave_loss, train_accuracy, val_accuracy))\n",
        "        \n",
        "    return loss_history, train_history, val_history\n",
        "\n",
        "def multiclass_accuracy(prediction, ground_truth):\n",
        "    '''\n",
        "    Computes metrics for multiclass classification\n",
        "\n",
        "    Arguments:\n",
        "    prediction, np array of int (num_samples) - model predictions\n",
        "    ground_truth, np array of int (num_samples) - true labels\n",
        "\n",
        "    Returns:\n",
        "    accuracy - ratio of accurate predictions to total samples\n",
        "    '''\n",
        "    # TODO: Implement computing accuracy\n",
        "    diff = prediction-ground_truth\n",
        "    \n",
        "    x = torch.ones(diff.shape)\n",
        "    y = torch.zeros(diff.shape)\n",
        "    \n",
        "    x_gpu = x.to(device)\n",
        "    y_gpu = y.to(device)\n",
        "\n",
        "    return torch.where(diff == 0,x_gpu,y_gpu).shape[0]/prediction.shape[0]\n",
        "  \n",
        "from sklearn.metrics import accuracy_score  \n",
        "criterion = nn.MultiLabelSoftMarginLoss()  \n",
        "def compute_accuracy(model, loader):\n",
        "    \"\"\"\n",
        "    Computes accuracy on the dataset wrapped in a loader\n",
        "    \n",
        "    Returns: accuracy as a float value between 0 and 1\n",
        "    \"\"\"\n",
        "    model.eval() # Evaluation mode\n",
        "    # TODO: Copy implementation from previous assignment\n",
        "    # Don't forget to move the data to device before running it through the model!\n",
        "    \n",
        "    diff = []\n",
        "    for i_step, (x, y) in enumerate(loader):\n",
        "        x_gpu = x.to(device)\n",
        "        y_gpu = y.to(device)\n",
        "        pred = model(x_gpu)\n",
        "        _, predicted = torch.max(pred.data, 1)\n",
        "        #print(pred.data)\n",
        "        #print(y_gpu.shape)\n",
        "        #print((predicted == y_gpu.data).shape)\n",
        "#         print(y_gpu)\n",
        "#         print(predicted)\n",
        "#         print((predicted == y_gpu.data))\n",
        "#         print()\n",
        "#         raise Exception(\"Not implemented\")\n",
        "        diff.append(float(torch.sum(predicted == y_gpu.data))/y_gpu.data.shape[0])\n",
        "        \n",
        "        #diff.append(multiclass_accuracy(torch.argmax(pred, dim=1),y_gpu))\n",
        "        #diff.append(criterion(torch.argmax(pred, dim=1),y))\n",
        "        #diff.append(accuracy_score(y, np.argmax(pred.cpu().numpy(), axis=1)))\n",
        "    \n",
        "        \n",
        "    \n",
        "    return torch.tensor(diff).mean()\n",
        "\n",
        "\n",
        "#loss_history, train_history, val_history = train_model(nn_model, train_loader, val_loader, loss, optimizer, 5)"
      ],
      "execution_count": 0,
      "outputs": []
    },
    {
      "cell_type": "markdown",
      "metadata": {
        "colab_type": "text",
        "id": "6a-3a1ZFGEw_"
      },
      "source": [
        "# Аугментация данных (Data augmentation)\n",
        "\n",
        "В работе с изображениями одним из особенно важных методов является аугментация данных - то есть, генерация дополнительных данных для тренировки на основе изначальных.   \n",
        "Таким образом, мы получаем возможность \"увеличить\" набор данных для тренировки, что ведет к лучшей работе сети.\n",
        "Важно, чтобы аугментированные данные были похожи на те, которые могут встретиться в реальной жизни, иначе польза от аугментаций уменьшается и может ухудшить работу сети.\n",
        "\n",
        "С PyTorch идут несколько таких алгоритмов, называемых `transforms`. Более подробно про них можно прочитать тут -\n",
        "https://pytorch.org/tutorials/beginner/data_loading_tutorial.html#transforms\n",
        "\n",
        "Ниже мы используем следующие алгоритмы генерации:\n",
        "- ColorJitter - случайное изменение цвета\n",
        "- RandomHorizontalFlip - горизонтальное отражение с вероятностью 50%\n",
        "- RandomVerticalFlip - вертикальное отражение с вероятностью 50%\n",
        "- RandomRotation - случайный поворот"
      ]
    },
    {
      "cell_type": "code",
      "metadata": {
        "colab_type": "code",
        "id": "jCWMUWmr7t5g",
        "colab": {}
      },
      "source": [
        "tfs = transforms.Compose([\n",
        "    transforms.ColorJitter(hue=.50, saturation=.50),\n",
        "    transforms.RandomHorizontalFlip(),\n",
        "    transforms.RandomVerticalFlip(),\n",
        "    transforms.RandomRotation(50, resample=PIL.Image.BILINEAR),\n",
        "    transforms.ToTensor(),\n",
        "    transforms.Normalize(mean=[0.43,0.44,0.47],\n",
        "                       std=[0.20,0.20,0.20])                           \n",
        "])\n",
        "\n",
        "# Create augmented train dataset\n",
        "data_aug_train = dset.SVHN('./', \n",
        "                       transform=tfs\n",
        "                      )\n",
        "\n",
        "train_aug_loader = torch.utils.data.DataLoader(data_aug_train, batch_size=batch_size, \n",
        "                                           sampler=train_sampler)"
      ],
      "execution_count": 0,
      "outputs": []
    },
    {
      "cell_type": "markdown",
      "metadata": {
        "id": "u_L3dT97k7qL",
        "colab_type": "text"
      },
      "source": [
        "Визуализируем результаты агментации (вообще, смотреть на сгенерированные данные всегда очень полезно)."
      ]
    },
    {
      "cell_type": "code",
      "metadata": {
        "colab_type": "code",
        "id": "YlJJEro1KZ45",
        "colab": {
          "base_uri": "https://localhost:8080/",
          "height": 212
        },
        "outputId": "61c38530-3d77-4d26-c3e2-6f333f6d7650"
      },
      "source": [
        "# TODO: Visualize some augmented images!\n",
        "# hint: you can create new datasets and loaders to accomplish this\n",
        "\n",
        "# Based on the visualizations, should we keep all the augmentations?\n",
        "\n",
        "tfs = transforms.Compose([\n",
        "    transforms.ColorJitter(hue=.20, saturation=.20),\n",
        "    #transforms.RandomHorizontalFlip(),\n",
        "    #transforms.RandomVerticalFlip(),\n",
        "    transforms.RandomRotation(10, resample=PIL.Image.BILINEAR),\n",
        "])\n",
        "\n",
        "data_aug_vis = dset.SVHN('./', \n",
        "                       transform=tfs\n",
        "                      )\n",
        "\n",
        "plt.figure(figsize=(30, 3))\n",
        "\n",
        "for i, (x, y) in enumerate(data_aug_vis):\n",
        "    if i == 10:\n",
        "        break\n",
        "    plt.subplot(1, 10, i+1)\n",
        "    plt.grid(False)\n",
        "    plt.imshow(x)\n",
        "    plt.axis('off')"
      ],
      "execution_count": 37,
      "outputs": [
        {
          "output_type": "display_data",
          "data": {
            "image/png": "[encoded data removed]",
            "text/plain": [
              "<Figure size 2160x216 with 10 Axes>"
            ]
          },
          "metadata": {
            "tags": []
          }
        }
      ]
    },
    {
      "cell_type": "markdown",
      "metadata": {
        "colab_type": "text",
        "id": "o2LrmsYHoguB"
      },
      "source": [
        "Все ли агментации одинаково полезны на этом наборе данных? Могут ли быть среди них те, которые собьют модель с толку?\n",
        "\n",
        "Выберите из них только корректные"
      ]
    },
    {
      "cell_type": "code",
      "metadata": {
        "colab_type": "code",
        "id": "evro9ksXGs9u",
        "colab": {}
      },
      "source": [
        "# TODO: \n",
        "tfs = transforms.Compose([\n",
        "    # TODO: Add good augmentations\n",
        "    transforms.ColorJitter(hue=.20, saturation=.20),\n",
        "    transforms.RandomRotation(10, resample=PIL.Image.BILINEAR),\n",
        "    transforms.ToTensor(),\n",
        "    transforms.Normalize(mean=[0.43,0.44,0.47],\n",
        "                       std=[0.20,0.20,0.20])                           \n",
        "])\n",
        "\n",
        "# TODO create new instances of loaders with the augmentations you chose\n",
        "data_aug_train_ = dset.SVHN('./', \n",
        "                       transform=tfs\n",
        "                           )\n",
        "train_aug_loader = torch.utils.data.DataLoader(data_train, batch_size=batch_size, \n",
        "                                           sampler=train_sampler)"
      ],
      "execution_count": 0,
      "outputs": []
    },
    {
      "cell_type": "code",
      "metadata": {
        "colab_type": "code",
        "id": "PeO6Zw0DHqPR",
        "colab": {
          "base_uri": "https://localhost:8080/",
          "height": 107
        },
        "outputId": "4461be05-022c-452b-e0bc-28018122c587"
      },
      "source": [
        "# Finally, let's train with augmentations!\n",
        "\n",
        "# Note we shouldn't use augmentations on validation\n",
        "\n",
        "loss_history, train_history, val_history = train_model(nn_model, train_aug_loader, val_loader, loss, optimizer, 5)"
      ],
      "execution_count": 49,
      "outputs": [
        {
          "output_type": "stream",
          "text": [
            "Average loss: 0.276597, Train accuracy: 0.914036, Val accuracy: 0.864657\n",
            "Average loss: 0.274780, Train accuracy: 0.916237, Val accuracy: 0.839735\n",
            "Average loss: 0.270410, Train accuracy: 0.917807, Val accuracy: 0.849747\n",
            "Average loss: 0.274646, Train accuracy: 0.913132, Val accuracy: 0.851960\n",
            "Average loss: 0.268927, Train accuracy: 0.915674, Val accuracy: 0.850800\n"
          ],
          "name": "stdout"
        }
      ]
    },
    {
      "cell_type": "markdown",
      "metadata": {
        "colab_type": "text",
        "id": "r0bcioK6JBDK"
      },
      "source": [
        "# LeNet\n",
        "Попробуем имплементировать классическую архитектуру сверточной нейронной сети, предложенную Яном ЛеКуном в 1998 году. В свое время она достигла впечатляющих результатов на MNIST, посмотрим как она справится с SVHN?\n",
        "Она описана в статье [\"Gradient Based Learning Applied to Document Recognition\"](http://yann.lecun.com/exdb/publis/pdf/lecun-01a.pdf), попробуйте прочитать ключевые части и имплементировать предложенную архитетуру на PyTorch.\n",
        "\n",
        "Реализовывать слои и функцию ошибки LeNet, которых нет в PyTorch, **не нужно** - просто возьмите их размеры и переведите в уже известные нам Convolutional, Pooling и Fully Connected layers.\n",
        "\n",
        "Если в статье не очень понятно, можно просто погуглить LeNet и разобраться в деталях :)"
      ]
    },
    {
      "cell_type": "code",
      "metadata": {
        "colab_type": "code",
        "id": "ieEzZUglJAUB",
        "colab": {}
      },
      "source": [
        "from collections import OrderedDict\n",
        " \n",
        "\n",
        "# TODO: Implement LeNet-like architecture for SVHN task\n",
        "lenet_model = nn.Sequential(OrderedDict([\n",
        "            ('c1', nn.Conv2d(1*3, 6*3, kernel_size=(5, 5))),\n",
        "            ('relu1', nn.ReLU()),\n",
        "            ('s2', nn.MaxPool2d(kernel_size=(2, 2), stride=2)),\n",
        "            ('c3', nn.Conv2d(6*3, 16*3, kernel_size=(5, 5))),\n",
        "            ('relu3', nn.ReLU()),\n",
        "            ('s4', nn.MaxPool2d(kernel_size=(2, 2), stride=2)),\n",
        "            ('c5', nn.Conv2d(16*3, 120*3, kernel_size=(5, 5))),\n",
        "            ('relu5', nn.ReLU()),\n",
        "            ('f', Flattener()),\n",
        "            ('f6', nn.Linear(120*3, 84*3)),\n",
        "            ('relu6', nn.ReLU()),\n",
        "            ('f7', nn.Linear(84*3, 10*3)),\n",
        "            ('sig7', nn.LogSoftmax(dim=-1))\n",
        "        ])\n",
        "          )\n",
        "\n",
        "lenet_model.type(torch.cuda.FloatTensor)\n",
        "lenet_model.to(device)\n",
        "\n",
        "loss = nn.CrossEntropyLoss().type(torch.cuda.FloatTensor)\n",
        "optimizer = optim.SGD(lenet_model.parameters(), lr=1e-1, weight_decay=1e-4)"
      ],
      "execution_count": 0,
      "outputs": []
    },
    {
      "cell_type": "code",
      "metadata": {
        "colab_type": "code",
        "id": "WMmaPfdeKk9H",
        "colab": {
          "base_uri": "https://localhost:8080/",
          "height": 35
        },
        "outputId": "69966cda-e4bc-4b26-8fd4-dffdcaa9a7c6"
      },
      "source": [
        "# Let's train it!\n",
        "loss_history, train_history, val_history = train_model(lenet_model, train_aug_loader, val_loader, loss, optimizer, 1)"
      ],
      "execution_count": 22,
      "outputs": [
        {
          "output_type": "stream",
          "text": [
            "Average loss: 1.269176, Train accuracy: 0.576938, Val accuracy: 0.852141\n"
          ],
          "name": "stdout"
        }
      ]
    },
    {
      "cell_type": "markdown",
      "metadata": {
        "colab_type": "text",
        "id": "u_O9qiYySvuj"
      },
      "source": [
        "# Подбор гиперпараметров"
      ]
    },
    {
      "cell_type": "code",
      "metadata": {
        "colab_type": "code",
        "id": "i6mhfdQ9K-N3",
        "colab": {
          "base_uri": "https://localhost:8080/",
          "height": 1000
        },
        "outputId": "925ddf5d-724e-420d-c0df-09cac40504bb"
      },
      "source": [
        "# The key hyperparameters we're going to tune are learning speed, annealing rate and regularization\n",
        "# We also encourage you to try different optimizers as well\n",
        "\n",
        "Hyperparams = namedtuple(\"Hyperparams\", ['learning_rate', 'anneal_epoch', 'reg'])\n",
        "RunResult = namedtuple(\"RunResult\", ['model', 'train_history', 'val_history', 'final_val_accuracy'])\n",
        "\n",
        "#learning_rates = [1e0, 1e-1, 1e-2, 1e-3, 1e-4]\n",
        "anneal_coeff = 0.2\n",
        "#anneal_epochs = [1, 5, 10, 15, 20, 50]\n",
        "#reg = [1e-3, 1e-4, 1e-5, 1e-7]\n",
        "\n",
        "learning_rates = [5e-1, 1e-1, 1e-2, 1e-3, 1e-4]\n",
        "anneal_coeff = 0.2\n",
        "anneal_epochs = [1, 3]\n",
        "reg = [1e-3, 1e-4, 1e-5, 1e-7]\n",
        "\n",
        "\n",
        "batch_size = 64\n",
        "epoch_num = 6\n",
        "\n",
        "# Record all the runs here\n",
        "# Key should be Hyperparams and values should be RunResult\n",
        "run_record = {} \n",
        "\n",
        "# Use grid search or random search and record all runs in run_record dictionnary \n",
        "# Important: perform search in logarithmic space!\n",
        "from sklearn.model_selection import ParameterGrid\n",
        "\n",
        "pg = ParameterGrid({'learning_rate':learning_rates, 'anneal_epoch':anneal_epochs,'reg':reg})\n",
        "i = 0\n",
        "for params in ParameterGrid({'learning_rate':learning_rates, 'anneal_epoch':anneal_epochs,'reg':reg}):\n",
        "  i=i+1\n",
        "  hp = Hyperparams(params['learning_rate'],params['anneal_epoch'],params['reg'])\n",
        "  print(f\"%s/%s %s\"%(i,len(list(pg)),hp))\n",
        "  \n",
        "  lenet_model = nn.Sequential(OrderedDict([\n",
        "            ('c1', nn.Conv2d(1*3, 6*3, kernel_size=(5, 5))),\n",
        "            ('relu1', nn.ReLU()),\n",
        "            ('s2', nn.MaxPool2d(kernel_size=(2, 2), stride=2)),\n",
        "            ('c3', nn.Conv2d(6*3, 16*3, kernel_size=(5, 5))),\n",
        "            ('relu3', nn.ReLU()),\n",
        "            ('s4', nn.MaxPool2d(kernel_size=(2, 2), stride=2)),\n",
        "            ('c5', nn.Conv2d(16*3, 120*3, kernel_size=(5, 5))),\n",
        "            ('relu5', nn.ReLU()),\n",
        "            ('f', Flattener()),\n",
        "            ('f6', nn.Linear(120*3, 84*3)),\n",
        "            ('relu6', nn.ReLU()),\n",
        "            ('f7', nn.Linear(84*3, 10*3)),\n",
        "            ('sig7', nn.LogSoftmax(dim=-1))\n",
        "        ])\n",
        "          )\n",
        "\n",
        "  lenet_model.type(torch.cuda.FloatTensor)\n",
        "  lenet_model.to(device)\n",
        "\n",
        "  loss = nn.CrossEntropyLoss().type(torch.cuda.FloatTensor)\n",
        "\n",
        "  #optimizer = optim.SGD(lenet_model.parameters(), lr=hp.learning_rate, weight_decay=hp.reg)\n",
        "  #scheduler = optim.lr_scheduler.CosineAnnealingLR(optimizer, hp.anneal_epoch)\n",
        "  \n",
        "  \n",
        "  optimizer = optim.SGD(lenet_model.parameters(), lr=hp.learning_rate, weight_decay=hp.reg)\n",
        "  scheduler = optim.lr_scheduler.StepLR(optimizer, hp.anneal_epoch, anneal_coeff)\n",
        "\n",
        "\n",
        "  loss_history, train_history, val_history = train_model(lenet_model, train_aug_loader, val_loader, loss, optimizer, epoch_num, scheduler)\n",
        "  run_record[hp] = RunResult(lenet_model, train_history, val_history, val_history[-1])\n"
      ],
      "execution_count": 45,
      "outputs": [
        {
          "output_type": "stream",
          "text": [
            "1/40 Hyperparams(learning_rate=0.5, anneal_epoch=1, reg=0.001)\n",
            "Loss is out of bounds, trying to force it back\n",
            "Average loss: 141.843124, Train accuracy: 0.068372, Val accuracy: 0.070500\n",
            "Loss is out of bounds, trying to force it back\n",
            "Average loss: 141.819855, Train accuracy: 0.066802, Val accuracy: 0.070512\n",
            "Loss is out of bounds, trying to force it back\n",
            "Average loss: 141.854767, Train accuracy: 0.066802, Val accuracy: 0.070495\n",
            "Loss is out of bounds, trying to force it back\n",
            "Average loss: 141.819855, Train accuracy: 0.066802, Val accuracy: 0.070512\n",
            "Loss is out of bounds, trying to force it back\n",
            "Average loss: 141.819855, Train accuracy: 0.066802, Val accuracy: 0.070512\n",
            "Loss is out of bounds, trying to force it back\n",
            "Average loss: 141.831482, Train accuracy: 0.066802, Val accuracy: 0.070506\n",
            "2/40 Hyperparams(learning_rate=0.5, anneal_epoch=1, reg=0.0001)\n",
            "Average loss: 2.210584, Train accuracy: 0.228117, Val accuracy: 0.526631\n",
            "Average loss: 0.720064, Train accuracy: 0.774938, Val accuracy: 0.824849\n",
            "Average loss: 0.455383, Train accuracy: 0.860543, Val accuracy: 0.859181\n",
            "Average loss: 0.403552, Train accuracy: 0.876156, Val accuracy: 0.868273\n",
            "Average loss: 0.391918, Train accuracy: 0.880234, Val accuracy: 0.869051\n",
            "Average loss: 0.389362, Train accuracy: 0.881207, Val accuracy: 0.869222\n",
            "3/40 Hyperparams(learning_rate=0.5, anneal_epoch=1, reg=1e-05)\n",
            "Average loss: 2.318680, Train accuracy: 0.182831, Val accuracy: 0.182321\n",
            "Average loss: 2.242279, Train accuracy: 0.190834, Val accuracy: 0.182316\n",
            "Average loss: 2.239177, Train accuracy: 0.190936, Val accuracy: 0.182310\n",
            "Average loss: 2.238448, Train accuracy: 0.190936, Val accuracy: 0.182292\n",
            "Average loss: 2.238310, Train accuracy: 0.190936, Val accuracy: 0.182298\n",
            "Average loss: 2.238257, Train accuracy: 0.190936, Val accuracy: 0.182310\n",
            "4/40 Hyperparams(learning_rate=0.5, anneal_epoch=1, reg=1e-07)\n",
            "Average loss: 2.296155, Train accuracy: 0.179009, Val accuracy: 0.182287\n",
            "Average loss: 2.242377, Train accuracy: 0.190936, Val accuracy: 0.182310\n",
            "Average loss: 2.239156, Train accuracy: 0.190936, Val accuracy: 0.182292\n",
            "Average loss: 2.238620, Train accuracy: 0.190936, Val accuracy: 0.182333\n",
            "Average loss: 2.238368, Train accuracy: 0.190936, Val accuracy: 0.182287\n",
            "Average loss: 2.238331, Train accuracy: 0.190936, Val accuracy: 0.182310\n",
            "5/40 Hyperparams(learning_rate=0.1, anneal_epoch=1, reg=0.001)\n",
            "Average loss: 1.270662, Train accuracy: 0.575078, Val accuracy: 0.857691\n",
            "Average loss: 0.374742, Train accuracy: 0.891206, Val accuracy: 0.889692\n",
            "Average loss: 0.317540, Train accuracy: 0.907825, Val accuracy: 0.897300\n",
            "Average loss: 0.305077, Train accuracy: 0.912637, Val accuracy: 0.898710\n",
            "Average loss: 0.302405, Train accuracy: 0.913575, Val accuracy: 0.898835\n",
            "Average loss: 0.301844, Train accuracy: 0.913712, Val accuracy: 0.899000\n",
            "6/40 Hyperparams(learning_rate=0.1, anneal_epoch=1, reg=0.0001)\n",
            "Average loss: 1.294166, Train accuracy: 0.566239, Val accuracy: 0.847252\n",
            "Average loss: 0.380119, Train accuracy: 0.888322, Val accuracy: 0.891347\n",
            "Average loss: 0.319628, Train accuracy: 0.907399, Val accuracy: 0.896259\n",
            "Average loss: 0.306595, Train accuracy: 0.911460, Val accuracy: 0.898215\n",
            "Average loss: 0.303766, Train accuracy: 0.912500, Val accuracy: 0.898369\n",
            "Average loss: 0.303045, Train accuracy: 0.912449, Val accuracy: 0.898402\n",
            "7/40 Hyperparams(learning_rate=0.1, anneal_epoch=1, reg=1e-05)\n",
            "Average loss: 1.287515, Train accuracy: 0.569635, Val accuracy: 0.812362\n",
            "Average loss: 0.376593, Train accuracy: 0.888783, Val accuracy: 0.890039\n",
            "Average loss: 0.317397, Train accuracy: 0.906409, Val accuracy: 0.895429\n",
            "Average loss: 0.305213, Train accuracy: 0.911477, Val accuracy: 0.895764\n",
            "Average loss: 0.302360, Train accuracy: 0.912159, Val accuracy: 0.895924\n",
            "Average loss: 0.301761, Train accuracy: 0.912074, Val accuracy: 0.895940\n",
            "8/40 Hyperparams(learning_rate=0.1, anneal_epoch=1, reg=1e-07)\n",
            "Average loss: 1.224973, Train accuracy: 0.595792, Val accuracy: 0.849554\n",
            "Average loss: 0.363687, Train accuracy: 0.892588, Val accuracy: 0.895247\n",
            "Average loss: 0.306063, Train accuracy: 0.911443, Val accuracy: 0.900149\n",
            "Average loss: 0.293311, Train accuracy: 0.915828, Val accuracy: 0.901104\n",
            "Average loss: 0.290687, Train accuracy: 0.916817, Val accuracy: 0.901160\n",
            "Average loss: 0.290079, Train accuracy: 0.916886, Val accuracy: 0.901178\n",
            "9/40 Hyperparams(learning_rate=0.01, anneal_epoch=1, reg=0.001)\n",
            "Average loss: 2.362246, Train accuracy: 0.177371, Val accuracy: 0.182224\n",
            "Average loss: 2.190402, Train accuracy: 0.212231, Val accuracy: 0.245282\n",
            "Average loss: 2.149121, Train accuracy: 0.231393, Val accuracy: 0.232284\n",
            "Average loss: 2.136810, Train accuracy: 0.237126, Val accuracy: 0.222174\n",
            "Average loss: 2.133920, Train accuracy: 0.235215, Val accuracy: 0.230686\n",
            "Average loss: 2.133269, Train accuracy: 0.238832, Val accuracy: 0.230493\n",
            "10/40 Hyperparams(learning_rate=0.01, anneal_epoch=1, reg=0.0001)\n",
            "Average loss: 2.340195, Train accuracy: 0.181910, Val accuracy: 0.183322\n",
            "Average loss: 2.186489, Train accuracy: 0.211378, Val accuracy: 0.215123\n",
            "Average loss: 2.143563, Train accuracy: 0.228901, Val accuracy: 0.214800\n",
            "Average loss: 2.130848, Train accuracy: 0.237092, Val accuracy: 0.220656\n",
            "Average loss: 2.128049, Train accuracy: 0.236136, Val accuracy: 0.227161\n",
            "Average loss: 2.127425, Train accuracy: 0.239788, Val accuracy: 0.226399\n",
            "11/40 Hyperparams(learning_rate=0.01, anneal_epoch=1, reg=1e-05)\n",
            "Average loss: 2.379870, Train accuracy: 0.180835, Val accuracy: 0.181429\n",
            "Average loss: 2.182382, Train accuracy: 0.217691, Val accuracy: 0.249621\n",
            "Average loss: 2.131906, Train accuracy: 0.238866, Val accuracy: 0.254272\n",
            "Average loss: 2.116249, Train accuracy: 0.248865, Val accuracy: 0.240751\n",
            "Average loss: 2.112576, Train accuracy: 0.250418, Val accuracy: 0.240330\n",
            "Average loss: 2.111824, Train accuracy: 0.251339, Val accuracy: 0.240376\n",
            "12/40 Hyperparams(learning_rate=0.01, anneal_epoch=1, reg=1e-07)\n",
            "Average loss: 2.365038, Train accuracy: 0.181295, Val accuracy: 0.156996\n",
            "Average loss: 2.190731, Train accuracy: 0.219176, Val accuracy: 0.205537\n",
            "Average loss: 2.151693, Train accuracy: 0.235829, Val accuracy: 0.235951\n",
            "Average loss: 2.140286, Train accuracy: 0.243405, Val accuracy: 0.230192\n",
            "Average loss: 2.137674, Train accuracy: 0.242961, Val accuracy: 0.236111\n",
            "Average loss: 2.137064, Train accuracy: 0.244975, Val accuracy: 0.235861\n",
            "13/40 Hyperparams(learning_rate=0.001, anneal_epoch=1, reg=0.001)\n",
            "Average loss: 3.263149, Train accuracy: 0.135686, Val accuracy: 0.182321\n",
            "Average loss: 2.631526, Train accuracy: 0.190936, Val accuracy: 0.182304\n",
            "Average loss: 2.432493, Train accuracy: 0.190936, Val accuracy: 0.182333\n",
            "Average loss: 2.404861, Train accuracy: 0.190936, Val accuracy: 0.182310\n",
            "Average loss: 2.399953, Train accuracy: 0.190936, Val accuracy: 0.182298\n",
            "Average loss: 2.398941, Train accuracy: 0.190936, Val accuracy: 0.182287\n",
            "14/40 Hyperparams(learning_rate=0.001, anneal_epoch=1, reg=0.0001)\n",
            "Average loss: 3.195059, Train accuracy: 0.157782, Val accuracy: 0.182321\n",
            "Average loss: 2.456359, Train accuracy: 0.190936, Val accuracy: 0.182292\n",
            "Average loss: 2.348851, Train accuracy: 0.190936, Val accuracy: 0.182304\n",
            "Average loss: 2.335875, Train accuracy: 0.190936, Val accuracy: 0.182292\n",
            "Average loss: 2.333559, Train accuracy: 0.190936, Val accuracy: 0.182304\n",
            "Average loss: 2.333065, Train accuracy: 0.190936, Val accuracy: 0.182333\n",
            "15/40 Hyperparams(learning_rate=0.001, anneal_epoch=1, reg=1e-05)\n",
            "Average loss: 3.103573, Train accuracy: 0.149473, Val accuracy: 0.182316\n",
            "Average loss: 2.349049, Train accuracy: 0.190936, Val accuracy: 0.182316\n",
            "Average loss: 2.299126, Train accuracy: 0.190936, Val accuracy: 0.182310\n",
            "Average loss: 2.293650, Train accuracy: 0.190936, Val accuracy: 0.182287\n",
            "Average loss: 2.292614, Train accuracy: 0.190936, Val accuracy: 0.182298\n",
            "Average loss: 2.292421, Train accuracy: 0.190936, Val accuracy: 0.182304\n",
            "16/40 Hyperparams(learning_rate=0.001, anneal_epoch=1, reg=1e-07)\n",
            "Average loss: 3.130194, Train accuracy: 0.171262, Val accuracy: 0.182292\n",
            "Average loss: 2.360066, Train accuracy: 0.190936, Val accuracy: 0.182298\n",
            "Average loss: 2.302346, Train accuracy: 0.190919, Val accuracy: 0.182321\n",
            "Average loss: 2.296079, Train accuracy: 0.190936, Val accuracy: 0.182292\n",
            "Average loss: 2.294939, Train accuracy: 0.190936, Val accuracy: 0.182310\n",
            "Average loss: 2.294722, Train accuracy: 0.190936, Val accuracy: 0.182304\n",
            "17/40 Hyperparams(learning_rate=0.0001, anneal_epoch=1, reg=0.001)\n",
            "Average loss: 3.386412, Train accuracy: 0.005511, Val accuracy: 0.014334\n",
            "Average loss: 3.375213, Train accuracy: 0.018036, Val accuracy: 0.022113\n",
            "Average loss: 3.372912, Train accuracy: 0.022472, Val accuracy: 0.023068\n",
            "Average loss: 3.372458, Train accuracy: 0.023223, Val accuracy: 0.023148\n",
            "Average loss: 3.372376, Train accuracy: 0.023394, Val accuracy: 0.023228\n",
            "Average loss: 3.372369, Train accuracy: 0.023428, Val accuracy: 0.023210\n",
            "18/40 Hyperparams(learning_rate=0.0001, anneal_epoch=1, reg=0.0001)\n",
            "Average loss: 3.412649, Train accuracy: 0.049551, Val accuracy: 0.082998\n",
            "Average loss: 3.400728, Train accuracy: 0.092994, Val accuracy: 0.107425\n",
            "Average loss: 3.398345, Train accuracy: 0.107532, Val accuracy: 0.110729\n",
            "Average loss: 3.397872, Train accuracy: 0.110125, Val accuracy: 0.110973\n",
            "Average loss: 3.397789, Train accuracy: 0.110603, Val accuracy: 0.111207\n",
            "Average loss: 3.397776, Train accuracy: 0.110603, Val accuracy: 0.111201\n",
            "19/40 Hyperparams(learning_rate=0.0001, anneal_epoch=1, reg=1e-05)\n",
            "Average loss: 3.411113, Train accuracy: 0.016142, Val accuracy: 0.046358\n",
            "Average loss: 3.400743, Train accuracy: 0.055199, Val accuracy: 0.062779\n",
            "Average loss: 3.398725, Train accuracy: 0.064823, Val accuracy: 0.065173\n",
            "Average loss: 3.398322, Train accuracy: 0.066495, Val accuracy: 0.065576\n",
            "Average loss: 3.398253, Train accuracy: 0.066802, Val accuracy: 0.065576\n",
            "Average loss: 3.398239, Train accuracy: 0.066836, Val accuracy: 0.065582\n",
            "20/40 Hyperparams(learning_rate=0.0001, anneal_epoch=1, reg=1e-07)\n",
            "Average loss: 3.395001, Train accuracy: 0.056974, Val accuracy: 0.069568\n",
            "Average loss: 3.379452, Train accuracy: 0.075197, Val accuracy: 0.077534\n",
            "Average loss: 3.376219, Train accuracy: 0.080521, Val accuracy: 0.078785\n",
            "Average loss: 3.375580, Train accuracy: 0.081459, Val accuracy: 0.079234\n",
            "Average loss: 3.375466, Train accuracy: 0.081596, Val accuracy: 0.079337\n",
            "Average loss: 3.375449, Train accuracy: 0.081613, Val accuracy: 0.079314\n",
            "21/40 Hyperparams(learning_rate=0.5, anneal_epoch=3, reg=0.001)\n",
            "Loss is out of bounds, trying to force it back\n",
            "Average loss: 141.854767, Train accuracy: 0.090810, Val accuracy: 0.070495\n",
            "Loss is out of bounds, trying to force it back\n",
            "Average loss: 141.866394, Train accuracy: 0.066802, Val accuracy: 0.070489\n",
            "Loss is out of bounds, trying to force it back\n",
            "Average loss: 141.831482, Train accuracy: 0.066802, Val accuracy: 0.070506\n",
            "Loss is out of bounds, trying to force it back\n",
            "Average loss: 141.819855, Train accuracy: 0.066802, Val accuracy: 0.070512\n",
            "Loss is out of bounds, trying to force it back\n",
            "Average loss: 141.854767, Train accuracy: 0.066802, Val accuracy: 0.070495\n",
            "Loss is out of bounds, trying to force it back\n",
            "Average loss: 141.831482, Train accuracy: 0.066802, Val accuracy: 0.070506\n",
            "22/40 Hyperparams(learning_rate=0.5, anneal_epoch=3, reg=0.0001)\n",
            "Average loss: 2.297330, Train accuracy: 0.179453, Val accuracy: 0.182304\n",
            "Average loss: 2.251828, Train accuracy: 0.185083, Val accuracy: 0.182292\n",
            "Average loss: 2.249154, Train accuracy: 0.187319, Val accuracy: 0.182327\n",
            "Average loss: 2.240527, Train accuracy: 0.190936, Val accuracy: 0.182287\n",
            "Average loss: 2.240236, Train accuracy: 0.190765, Val accuracy: 0.182292\n",
            "Average loss: 2.240015, Train accuracy: 0.190902, Val accuracy: 0.182310\n",
            "23/40 Hyperparams(learning_rate=0.5, anneal_epoch=3, reg=1e-05)\n",
            "Loss is out of bounds, trying to force it back\n",
            "Average loss: 141.831482, Train accuracy: 0.067979, Val accuracy: 0.070506\n",
            "Loss is out of bounds, trying to force it back\n",
            "Average loss: 141.819855, Train accuracy: 0.066802, Val accuracy: 0.070512\n",
            "Loss is out of bounds, trying to force it back\n",
            "Average loss: 141.808228, Train accuracy: 0.066802, Val accuracy: 0.070518\n",
            "Loss is out of bounds, trying to force it back\n",
            "Average loss: 141.866394, Train accuracy: 0.066802, Val accuracy: 0.070489\n",
            "Loss is out of bounds, trying to force it back\n",
            "Average loss: 141.808228, Train accuracy: 0.066802, Val accuracy: 0.070518\n",
            "Loss is out of bounds, trying to force it back\n",
            "Average loss: 141.854767, Train accuracy: 0.066802, Val accuracy: 0.070495\n",
            "24/40 Hyperparams(learning_rate=0.5, anneal_epoch=3, reg=1e-07)\n",
            "Loss is out of bounds, trying to force it back\n",
            "Average loss: 141.831482, Train accuracy: 0.068696, Val accuracy: 0.070506\n",
            "Loss is out of bounds, trying to force it back\n",
            "Average loss: 141.796585, Train accuracy: 0.066802, Val accuracy: 0.070524\n",
            "Loss is out of bounds, trying to force it back\n",
            "Average loss: 141.808228, Train accuracy: 0.066802, Val accuracy: 0.070518\n",
            "Loss is out of bounds, trying to force it back\n",
            "Average loss: 141.843124, Train accuracy: 0.066802, Val accuracy: 0.070500\n",
            "Loss is out of bounds, trying to force it back\n",
            "Average loss: 141.854767, Train accuracy: 0.066802, Val accuracy: 0.070495\n",
            "Loss is out of bounds, trying to force it back\n",
            "Average loss: 141.784958, Train accuracy: 0.066802, Val accuracy: 0.070529\n",
            "25/40 Hyperparams(learning_rate=0.1, anneal_epoch=3, reg=0.001)\n",
            "Average loss: 1.114254, Train accuracy: 0.634884, Val accuracy: 0.839320\n",
            "Average loss: 0.415739, Train accuracy: 0.878715, Val accuracy: 0.847252\n",
            "Average loss: 0.327003, Train accuracy: 0.903730, Val accuracy: 0.902059\n",
            "Average loss: 0.206870, Train accuracy: 0.942634, Val accuracy: 0.919811\n",
            "Average loss: 0.179308, Train accuracy: 0.951063, Val accuracy: 0.923392\n",
            "Average loss: 0.162127, Train accuracy: 0.956762, Val accuracy: 0.922193\n",
            "26/40 Hyperparams(learning_rate=0.1, anneal_epoch=3, reg=0.0001)\n",
            "Average loss: 1.179771, Train accuracy: 0.612207, Val accuracy: 0.862325\n",
            "Average loss: 0.415668, Train accuracy: 0.877316, Val accuracy: 0.881993\n",
            "Average loss: 0.314514, Train accuracy: 0.907655, Val accuracy: 0.886280\n",
            "Average loss: 0.195015, Train accuracy: 0.944937, Val accuracy: 0.919657\n",
            "Average loss: 0.165524, Train accuracy: 0.954902, Val accuracy: 0.919123\n",
            "Average loss: 0.145727, Train accuracy: 0.960738, Val accuracy: 0.920618\n",
            "27/40 Hyperparams(learning_rate=0.1, anneal_epoch=3, reg=1e-05)\n",
            "Average loss: 1.274696, Train accuracy: 0.577535, Val accuracy: 0.842702\n",
            "Average loss: 0.415928, Train accuracy: 0.878442, Val accuracy: 0.895020\n",
            "Average loss: 0.313185, Train accuracy: 0.908422, Val accuracy: 0.893012\n",
            "Average loss: 0.189974, Train accuracy: 0.947633, Val accuracy: 0.920015\n",
            "Average loss: 0.160750, Train accuracy: 0.956472, Val accuracy: 0.921232\n",
            "Average loss: 0.140709, Train accuracy: 0.962444, Val accuracy: 0.921107\n",
            "28/40 Hyperparams(learning_rate=0.1, anneal_epoch=3, reg=1e-07)\n",
            "Average loss: 1.144897, Train accuracy: 0.621387, Val accuracy: 0.848662\n",
            "Average loss: 0.404586, Train accuracy: 0.881309, Val accuracy: 0.894281\n",
            "Average loss: 0.306156, Train accuracy: 0.910641, Val accuracy: 0.908137\n",
            "Average loss: 0.183211, Train accuracy: 0.949647, Val accuracy: 0.919844\n",
            "Average loss: 0.155264, Train accuracy: 0.957649, Val accuracy: 0.920425\n",
            "Average loss: 0.134712, Train accuracy: 0.963707, Val accuracy: 0.919799\n",
            "29/40 Hyperparams(learning_rate=0.01, anneal_epoch=3, reg=0.001)\n",
            "Average loss: 2.371577, Train accuracy: 0.180238, Val accuracy: 0.128520\n",
            "Average loss: 2.019780, Train accuracy: 0.299628, Val accuracy: 0.557045\n",
            "Average loss: 0.911406, Train accuracy: 0.726564, Val accuracy: 0.813891\n",
            "Average loss: 0.611635, Train accuracy: 0.828413, Val accuracy: 0.834009\n",
            "Average loss: 0.577848, Train accuracy: 0.838976, Val accuracy: 0.842583\n",
            "Average loss: 0.551629, Train accuracy: 0.846842, Val accuracy: 0.847877\n",
            "30/40 Hyperparams(learning_rate=0.01, anneal_epoch=3, reg=0.0001)\n",
            "Average loss: 2.352192, Train accuracy: 0.186210, Val accuracy: 0.231613\n",
            "Average loss: 1.853086, Train accuracy: 0.373938, Val accuracy: 0.662281\n",
            "Average loss: 0.813237, Train accuracy: 0.762499, Val accuracy: 0.818174\n",
            "Average loss: 0.591551, Train accuracy: 0.835205, Val accuracy: 0.836442\n",
            "Average loss: 0.560776, Train accuracy: 0.844385, Val accuracy: 0.844704\n",
            "Average loss: 0.536941, Train accuracy: 0.851415, Val accuracy: 0.855837\n",
            "31/40 Hyperparams(learning_rate=0.01, anneal_epoch=3, reg=1e-05)\n",
            "Average loss: 2.339195, Train accuracy: 0.186500, Val accuracy: 0.182639\n",
            "Average loss: 1.655858, Train accuracy: 0.452053, Val accuracy: 0.708900\n",
            "Average loss: 0.776228, Train accuracy: 0.773180, Val accuracy: 0.813715\n",
            "Average loss: 0.581582, Train accuracy: 0.838105, Val accuracy: 0.842208\n",
            "Average loss: 0.553139, Train accuracy: 0.845511, Val accuracy: 0.845285\n",
            "Average loss: 0.530227, Train accuracy: 0.852404, Val accuracy: 0.848975\n",
            "32/40 Hyperparams(learning_rate=0.01, anneal_epoch=3, reg=1e-07)\n",
            "Average loss: 2.341975, Train accuracy: 0.180715, Val accuracy: 0.214464\n",
            "Average loss: 1.902129, Train accuracy: 0.350357, Val accuracy: 0.641140\n",
            "Average loss: 0.833624, Train accuracy: 0.753643, Val accuracy: 0.808025\n",
            "Average loss: 0.584629, Train accuracy: 0.839095, Val accuracy: 0.840144\n",
            "Average loss: 0.553243, Train accuracy: 0.847831, Val accuracy: 0.848002\n",
            "Average loss: 0.529255, Train accuracy: 0.854025, Val accuracy: 0.855354\n",
            "33/40 Hyperparams(learning_rate=0.001, anneal_epoch=3, reg=0.001)\n",
            "Average loss: 3.286008, Train accuracy: 0.151367, Val accuracy: 0.182310\n",
            "Average loss: 2.387250, Train accuracy: 0.190851, Val accuracy: 0.182390\n",
            "Average loss: 2.247123, Train accuracy: 0.190868, Val accuracy: 0.182310\n",
            "Average loss: 2.237982, Train accuracy: 0.191158, Val accuracy: 0.185517\n",
            "Average loss: 2.236198, Train accuracy: 0.191243, Val accuracy: 0.182304\n",
            "Average loss: 2.234585, Train accuracy: 0.192045, Val accuracy: 0.182333\n",
            "34/40 Hyperparams(learning_rate=0.001, anneal_epoch=3, reg=0.0001)\n",
            "Average loss: 2.980775, Train accuracy: 0.157151, Val accuracy: 0.182287\n",
            "Average loss: 2.261579, Train accuracy: 0.192062, Val accuracy: 0.182435\n",
            "Average loss: 2.241235, Train accuracy: 0.192967, Val accuracy: 0.182458\n",
            "Average loss: 2.232296, Train accuracy: 0.191857, Val accuracy: 0.182304\n",
            "Average loss: 2.230749, Train accuracy: 0.191994, Val accuracy: 0.182321\n",
            "Average loss: 2.229111, Train accuracy: 0.192472, Val accuracy: 0.183129\n",
            "35/40 Hyperparams(learning_rate=0.001, anneal_epoch=3, reg=1e-05)\n",
            "Average loss: 3.209759, Train accuracy: 0.152083, Val accuracy: 0.182298\n",
            "Average loss: 2.309455, Train accuracy: 0.190885, Val accuracy: 0.182333\n",
            "Average loss: 2.244421, Train accuracy: 0.191892, Val accuracy: 0.182287\n",
            "Average loss: 2.234935, Train accuracy: 0.191533, Val accuracy: 0.183714\n",
            "Average loss: 2.233202, Train accuracy: 0.191636, Val accuracy: 0.182321\n",
            "Average loss: 2.231344, Train accuracy: 0.192335, Val accuracy: 0.184351\n",
            "36/40 Hyperparams(learning_rate=0.001, anneal_epoch=3, reg=1e-07)\n",
            "Average loss: 3.236253, Train accuracy: 0.162048, Val accuracy: 0.182287\n",
            "Average loss: 2.347876, Train accuracy: 0.190748, Val accuracy: 0.182111\n",
            "Average loss: 2.245683, Train accuracy: 0.190510, Val accuracy: 0.191464\n",
            "Average loss: 2.237461, Train accuracy: 0.190834, Val accuracy: 0.182366\n",
            "Average loss: 2.235694, Train accuracy: 0.190936, Val accuracy: 0.182384\n",
            "Average loss: 2.234160, Train accuracy: 0.190919, Val accuracy: 0.182264\n",
            "37/40 Hyperparams(learning_rate=0.0001, anneal_epoch=3, reg=0.001)\n",
            "Average loss: 3.404073, Train accuracy: 0.002031, Val accuracy: 0.014329\n",
            "Average loss: 3.388791, Train accuracy: 0.085810, Val accuracy: 0.138061\n",
            "Average loss: 3.373546, Train accuracy: 0.144593, Val accuracy: 0.144447\n",
            "Average loss: 3.364186, Train accuracy: 0.148005, Val accuracy: 0.145237\n",
            "Average loss: 3.360983, Train accuracy: 0.148534, Val accuracy: 0.147125\n",
            "Average loss: 3.357727, Train accuracy: 0.149882, Val accuracy: 0.147688\n",
            "38/40 Hyperparams(learning_rate=0.0001, anneal_epoch=3, reg=0.0001)\n",
            "Average loss: 3.410244, Train accuracy: 0.004061, Val accuracy: 0.014198\n",
            "Average loss: 3.389741, Train accuracy: 0.041139, Val accuracy: 0.076505\n",
            "Average loss: 3.367936, Train accuracy: 0.097464, Val accuracy: 0.121658\n",
            "Average loss: 3.353512, Train accuracy: 0.129765, Val accuracy: 0.132825\n",
            "Average loss: 3.348265, Train accuracy: 0.144422, Val accuracy: 0.146869\n",
            "Average loss: 3.342757, Train accuracy: 0.158670, Val accuracy: 0.158252\n",
            "39/40 Hyperparams(learning_rate=0.0001, anneal_epoch=3, reg=1e-05)\n",
            "Average loss: 3.394787, Train accuracy: 0.088080, Val accuracy: 0.092136\n",
            "Average loss: 3.374433, Train accuracy: 0.093216, Val accuracy: 0.095490\n",
            "Average loss: 3.352277, Train accuracy: 0.097891, Val accuracy: 0.103337\n",
            "Average loss: 3.337231, Train accuracy: 0.103112, Val accuracy: 0.107698\n",
            "Average loss: 3.331627, Train accuracy: 0.106508, Val accuracy: 0.108404\n",
            "Average loss: 3.325690, Train accuracy: 0.111047, Val accuracy: 0.111252\n",
            "40/40 Hyperparams(learning_rate=0.0001, anneal_epoch=3, reg=1e-07)\n",
            "Average loss: 3.382097, Train accuracy: 0.051189, Val accuracy: 0.089901\n",
            "Average loss: 3.367033, Train accuracy: 0.114698, Val accuracy: 0.124892\n",
            "Average loss: 3.350607, Train accuracy: 0.127308, Val accuracy: 0.131136\n",
            "Average loss: 3.339799, Train accuracy: 0.130345, Val accuracy: 0.131778\n",
            "Average loss: 3.335917, Train accuracy: 0.131898, Val accuracy: 0.133934\n",
            "Average loss: 3.331906, Train accuracy: 0.133638, Val accuracy: 0.136185\n"
          ],
          "name": "stdout"
        }
      ]
    },
    {
      "cell_type": "code",
      "metadata": {
        "colab_type": "code",
        "id": "Y6xExdw8JB1l",
        "outputId": "e7a259f8-9d58-486b-9fa3-da04805752e6",
        "colab": {
          "base_uri": "https://localhost:8080/",
          "height": 35
        }
      },
      "source": [
        "best_val_accuracy = None\n",
        "best_hyperparams = None\n",
        "best_run = None\n",
        "\n",
        "for hyperparams, run_result in run_record.items():\n",
        "    if best_val_accuracy is None or best_val_accuracy < run_result.final_val_accuracy:\n",
        "        best_val_accuracy = run_result.final_val_accuracy\n",
        "        best_hyperparams = hyperparams\n",
        "        best_run = run_result\n",
        "        \n",
        "print(\"Best validation accuracy: %4.2f, best hyperparams: %s\" % (best_val_accuracy, best_hyperparams))\n",
        "        "
      ],
      "execution_count": 46,
      "outputs": [
        {
          "output_type": "stream",
          "text": [
            "Best validation accuracy: 0.92, best hyperparams: Hyperparams(learning_rate=0.1, anneal_epoch=3, reg=0.001)\n"
          ],
          "name": "stdout"
        }
      ]
    },
    {
      "cell_type": "markdown",
      "metadata": {
        "colab_type": "text",
        "id": "LOmsR0uVgtgf"
      },
      "source": [
        "# Свободное упражнение - догоним и перегоним LeNet!\n",
        "\n",
        "Попробуйте найти архитектуру и настройки тренировки, чтобы выступить лучше наших бейзлайнов.\n",
        "\n",
        "Что можно и нужно попробовать:\n",
        "- BatchNormalization (для convolution layers он в PyTorch называется [batchnorm2d](https://pytorch.org/docs/stable/nn.html#batchnorm2d))\n",
        "- Изменить количество слоев и их толщину\n",
        "- Изменять количество эпох тренировки\n",
        "- Попробовать и другие агментации"
      ]
    },
    {
      "cell_type": "code",
      "metadata": {
        "colab_type": "code",
        "id": "tSVhD747icoc",
        "colab": {
          "base_uri": "https://localhost:8080/",
          "height": 377
        },
        "outputId": "0d56be1c-0730-4b14-a752-80472e658eb1"
      },
      "source": [
        "best_model = nn.Sequential(OrderedDict([\n",
        "            ('c1', nn.Conv2d(1*3, 6*3, kernel_size=(5, 5))),\n",
        "            ('relu1', nn.ReLU()),\n",
        "            ('s2', nn.MaxPool2d(kernel_size=(2, 2), stride=2)),\n",
        "            ('c3', nn.Conv2d(6*3, 16*3, kernel_size=(5, 5))),\n",
        "            ('relu3', nn.ReLU()),\n",
        "            ('s4', nn.MaxPool2d(kernel_size=(2, 2), stride=2)),\n",
        "            ('c5', nn.Conv2d(16*3, 120*3, kernel_size=(5, 5))),\n",
        "            ('relu5', nn.ReLU()),\n",
        "            ('f', Flattener()),\n",
        "            ('f6', nn.Linear(120*3, 84*3)),\n",
        "            ('relu6', nn.ReLU()),\n",
        "            ('f7', nn.Linear(84*3, 10*3)),\n",
        "            ('sig7', nn.LogSoftmax(dim=-1))\n",
        "        ])\n",
        "          )\n",
        "\n",
        "best_model.type(torch.cuda.FloatTensor)\n",
        "best_model.to(device)\n",
        "\n",
        "loss = nn.CrossEntropyLoss().type(torch.cuda.FloatTensor)\n",
        "\n",
        "optimizer = optim.SGD(best_model.parameters(), lr=0.1, weight_decay=0.001)\n",
        "scheduler = optim.lr_scheduler.StepLR(optimizer, 3, anneal_coeff)\n",
        "\n",
        "\n",
        "loss_history, train_history, val_history = train_model(best_model, train_aug_loader, val_loader, loss, optimizer, 20, scheduler)"
      ],
      "execution_count": 48,
      "outputs": [
        {
          "output_type": "stream",
          "text": [
            "Average loss: 1.273091, Train accuracy: 0.574497, Val accuracy: 0.858857\n",
            "Average loss: 0.419521, Train accuracy: 0.875491, Val accuracy: 0.887463\n",
            "Average loss: 0.328992, Train accuracy: 0.903030, Val accuracy: 0.892308\n",
            "Average loss: 0.208599, Train accuracy: 0.942054, Val accuracy: 0.917093\n",
            "Average loss: 0.182413, Train accuracy: 0.950056, Val accuracy: 0.919856\n",
            "Average loss: 0.165064, Train accuracy: 0.955636, Val accuracy: 0.920407\n",
            "Average loss: 0.138457, Train accuracy: 0.964987, Val accuracy: 0.921789\n",
            "Average loss: 0.133302, Train accuracy: 0.966642, Val accuracy: 0.923546\n",
            "Average loss: 0.129673, Train accuracy: 0.967700, Val accuracy: 0.922454\n",
            "Average loss: 0.123743, Train accuracy: 0.969457, Val accuracy: 0.922671\n",
            "Average loss: 0.122772, Train accuracy: 0.969696, Val accuracy: 0.922608\n",
            "Average loss: 0.121966, Train accuracy: 0.969969, Val accuracy: 0.922778\n",
            "Average loss: 0.120753, Train accuracy: 0.970430, Val accuracy: 0.923092\n",
            "Average loss: 0.120584, Train accuracy: 0.970413, Val accuracy: 0.922864\n",
            "Average loss: 0.120392, Train accuracy: 0.970515, Val accuracy: 0.922881\n",
            "Average loss: 0.120119, Train accuracy: 0.970669, Val accuracy: 0.922796\n",
            "Average loss: 0.120070, Train accuracy: 0.970651, Val accuracy: 0.922813\n",
            "Average loss: 0.120043, Train accuracy: 0.970617, Val accuracy: 0.922801\n",
            "Average loss: 0.119994, Train accuracy: 0.970634, Val accuracy: 0.922813\n",
            "Average loss: 0.119992, Train accuracy: 0.970651, Val accuracy: 0.922807\n"
          ],
          "name": "stdout"
        }
      ]
    },
    {
      "cell_type": "markdown",
      "metadata": {
        "colab_type": "text",
        "id": "ubeKgBcnhx7N"
      },
      "source": [
        "# Финальный аккорд - проверим лучшую модель на test set\n",
        "\n",
        "В качестве разнообразия - напишите код для прогона модели на test set вы.\n",
        "\n",
        "В результате вы должны натренировать модель, которая покажет более **90%** точности на test set.  \n",
        "Как водится, лучший результат в группе получит дополнительные баллы!"
      ]
    },
    {
      "cell_type": "code",
      "metadata": {
        "colab_type": "code",
        "id": "EIqM1kdeh-hd",
        "colab": {
          "base_uri": "https://localhost:8080/",
          "height": 35
        },
        "outputId": "72c0d9e0-941a-40a5-fc4a-fe2645824ee1"
      },
      "source": [
        "# TODO Write the code to compute accuracy on test set\n",
        "final_test_accuracy = compute_accuracy(best_model, torch.utils.data.DataLoader(data_test, batch_size=batch_size))\n",
        "print(\"Final test accuracy - \", final_test_accuracy)"
      ],
      "execution_count": 50,
      "outputs": [
        {
          "output_type": "stream",
          "text": [
            "Final test accuracy -  tensor(0.9083)\n"
          ],
          "name": "stdout"
        }
      ]
    },
    {
      "cell_type": "code",
      "metadata": {
        "colab_type": "code",
        "id": "BfH6qip6kVX_",
        "colab": {}
      },
      "source": [
        ""
      ],
      "execution_count": 0,
      "outputs": []
    }
  ]
}