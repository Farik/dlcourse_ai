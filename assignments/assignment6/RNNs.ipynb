{
 "cells": [
  {
   "cell_type": "markdown",
   "metadata": {
    "colab_type": "text",
    "id": "RJW9PnaqE5n_"
   },
   "source": [
    "# Задание 6: Рекуррентные нейронные сети (RNNs)\n",
    "\n",
    "Это задание адаптиповано из Deep NLP Course at ABBYY (https://github.com/DanAnastasyev/DeepNLP-Course) с разрешения автора - Даниила Анастасьева. Спасибо ему огромное!"
   ]
  },
  {
   "cell_type": "code",
   "execution_count": 1,
   "metadata": {
    "colab": {
     "base_uri": "https://localhost:8080/",
     "height": 125
    },
    "colab_type": "code",
    "id": "P59NYU98GCb9",
    "outputId": "a927a293-0a32-4e5c-b0cc-237455d890d6"
   },
   "outputs": [
    {
     "name": "stdout",
     "output_type": "stream",
     "text": [
      "\u001b[K     |████████████████████████████████| 519.5MB 31kB/s \n",
      "\u001b[31mERROR: torchvision 0.3.0 has requirement torch>=1.1.0, but you'll have torch 0.4.1 which is incompatible.\u001b[0m\n",
      "\u001b[31mERROR: fastai 1.0.54 has requirement torch>=1.0.0, but you'll have torch 0.4.1 which is incompatible.\u001b[0m\n",
      "\u001b[K     |████████████████████████████████| 16.0MB 6.3MB/s \n",
      "\u001b[?25h  Building wheel for bokeh (setup.py) ... \u001b[?25l\u001b[?25hdone\n",
      "\u001b[K     |████████████████████████████████| 5.4MB 6.3MB/s \n",
      "\u001b[?25h"
     ]
    }
   ],
   "source": [
    "!pip3 -qq install torch==0.4.1\n",
    "!pip3 -qq install bokeh==0.13.0\n",
    "!pip3 -qq install gensim==3.6.0\n",
    "!pip3 -qq install nltk\n",
    "!pip3 -qq install scikit-learn==0.20.2"
   ]
  },
  {
   "cell_type": "code",
   "execution_count": 1,
   "metadata": {
    "colab": {},
    "colab_type": "code",
    "id": "8sVtGHmA9aBM",
    "pycharm": {
     "is_executing": false
    }
   },
   "outputs": [],
   "source": [
    "import numpy as np\n",
    "\n",
    "import torch\n",
    "import torch.nn as nn\n",
    "import torch.nn.functional as F\n",
    "import torch.optim as optim\n",
    "\n",
    "\n",
    "if torch.cuda.is_available():\n",
    "    from torch.cuda import FloatTensor, LongTensor\n",
    "else:\n",
    "    from torch import FloatTensor, LongTensor\n",
    "\n",
    "np.random.seed(42)"
   ]
  },
  {
   "cell_type": "markdown",
   "metadata": {
    "colab_type": "text",
    "id": "-6CNKM3b4hT1"
   },
   "source": [
    "# Рекуррентные нейронные сети (RNNs)"
   ]
  },
  {
   "cell_type": "markdown",
   "metadata": {
    "colab_type": "text",
    "id": "O_XkoGNQUeGm"
   },
   "source": [
    "## POS Tagging"
   ]
  },
  {
   "cell_type": "markdown",
   "metadata": {
    "colab_type": "text",
    "id": "QFEtWrS_4rUs"
   },
   "source": [
    "Мы рассмотрим применение рекуррентных сетей к задаче sequence labeling (последняя картинка).\n",
    "\n",
    "![RNN types](http://karpathy.github.io/assets/rnn/diags.jpeg)\n",
    "\n",
    "*From [The Unreasonable Effectiveness of Recurrent Neural Networks](http://karpathy.github.io/2015/05/21/rnn-effectiveness/)*\n",
    "\n",
    "Самые популярные примеры для такой постановки задачи - Part-of-Speech Tagging и Named Entity Recognition.\n",
    "\n",
    "Мы порешаем сейчас POS Tagging для английского.\n",
    "\n",
    "Будем работать с таким набором тегов:\n",
    "- ADJ - adjective (new, good, high, ...)\n",
    "- ADP - adposition (on, of, at, ...)\n",
    "- ADV - adverb (really, already, still, ...)\n",
    "- CONJ - conjunction (and, or, but, ...)\n",
    "- DET - determiner, article (the, a, some, ...)\n",
    "- NOUN - noun (year, home, costs, ...)\n",
    "- NUM - numeral (twenty-four, fourth, 1991, ...)\n",
    "- PRT - particle (at, on, out, ...)\n",
    "- PRON - pronoun (he, their, her, ...)\n",
    "- VERB - verb (is, say, told, ...)\n",
    "- . - punctuation marks (. , ;)\n",
    "- X - other (ersatz, esprit, dunno, ...)"
   ]
  },
  {
   "cell_type": "markdown",
   "metadata": {
    "colab_type": "text",
    "id": "EPIkKdFlHB-X"
   },
   "source": [
    "Скачаем данные:"
   ]
  },
  {
   "cell_type": "code",
   "execution_count": 2,
   "metadata": {
    "colab": {
     "base_uri": "https://localhost:8080/",
     "height": 89
    },
    "colab_type": "code",
    "id": "TiA2dGmgF1rW",
    "outputId": "ddd46e08-707a-4cc0-993f-723dbf89ae16",
    "pycharm": {
     "is_executing": false
    }
   },
   "outputs": [
    {
     "name": "stderr",
     "text": [
      "[nltk_data] Downloading package brown to /Users/farik/nltk_data...\n[nltk_data]   Package brown is already up-to-date!\n[nltk_data] Downloading package universal_tagset to\n[nltk_data]     /Users/farik/nltk_data...\n[nltk_data]   Package universal_tagset is already up-to-date!\n"
     ],
     "output_type": "stream"
    }
   ],
   "source": [
    "import nltk\n",
    "from sklearn.model_selection import train_test_split\n",
    "\n",
    "nltk.download('brown')\n",
    "nltk.download('universal_tagset')\n",
    "\n",
    "data = nltk.corpus.brown.tagged_sents(tagset='universal')"
   ]
  },
  {
   "cell_type": "markdown",
   "metadata": {
    "colab_type": "text",
    "id": "d93g_swyJA_V"
   },
   "source": [
    "Пример размеченного предложения:"
   ]
  },
  {
   "cell_type": "code",
   "execution_count": 3,
   "metadata": {
    "colab": {
     "base_uri": "https://localhost:8080/",
     "height": 467
    },
    "colab_type": "code",
    "id": "QstS4NO0L97c",
    "outputId": "be5a63ba-b3fe-4ee3-8e9d-83c444167ebb",
    "pycharm": {
     "is_executing": false
    }
   },
   "outputs": [
    {
     "name": "stdout",
     "text": [
      "The            \tDET\nFulton         \tNOUN\nCounty         \tNOUN\nGrand          \tADJ\nJury           \tNOUN\nsaid           \tVERB\nFriday         \tNOUN\nan             \tDET\ninvestigation  \tNOUN\nof             \tADP\nAtlanta's      \tNOUN\nrecent         \tADJ\nprimary        \tNOUN\nelection       \tNOUN\nproduced       \tVERB\n``             \t.\nno             \tDET\nevidence       \tNOUN\n''             \t.\nthat           \tADP\nany            \tDET\nirregularities \tNOUN\ntook           \tVERB\nplace          \tNOUN\n.              \t.\n"
     ],
     "output_type": "stream"
    }
   ],
   "source": [
    "for word, tag in data[0]:\n",
    "    print('{:15}\\t{}'.format(word, tag))"
   ]
  },
  {
   "cell_type": "markdown",
   "metadata": {
    "colab_type": "text",
    "id": "epdW8u_YXcAv"
   },
   "source": [
    "Построим разбиение на train/val/test - наконец-то, всё как у нормальных людей.\n",
    "\n",
    "На train будем учиться, по val - подбирать параметры и делать всякие early stopping, а на test - принимать модель по ее финальному качеству."
   ]
  },
  {
   "cell_type": "code",
   "execution_count": 4,
   "metadata": {
    "colab": {
     "base_uri": "https://localhost:8080/",
     "height": 71
    },
    "colab_type": "code",
    "id": "xTai8Ta0lgwL",
    "outputId": "47a6291b-2166-4fd7-bffa-96aed3100554",
    "pycharm": {
     "is_executing": false
    }
   },
   "outputs": [
    {
     "name": "stdout",
     "text": [
      "Words count in train set: 739769\nWords count in val set: 130954\nWords count in test set: 290469\n"
     ],
     "output_type": "stream"
    }
   ],
   "source": [
    "train_data, test_data = train_test_split(data, test_size=0.25, random_state=42)\n",
    "train_data, val_data = train_test_split(train_data, test_size=0.15, random_state=42)\n",
    "\n",
    "print('Words count in train set:', sum(len(sent) for sent in train_data))\n",
    "print('Words count in val set:', sum(len(sent) for sent in val_data))\n",
    "print('Words count in test set:', sum(len(sent) for sent in test_data))"
   ]
  },
  {
   "cell_type": "markdown",
   "metadata": {
    "colab_type": "text",
    "id": "eChdLNGtXyP0"
   },
   "source": [
    "Построим маппинги из слов в индекс и из тега в индекс:\n"
   ]
  },
  {
   "cell_type": "code",
   "execution_count": 5,
   "metadata": {
    "colab": {
     "base_uri": "https://localhost:8080/",
     "height": 35
    },
    "colab_type": "code",
    "id": "pCjwwDs6Zq9x",
    "outputId": "33723fb1-533a-463c-8ce5-a2521d8a7256",
    "pycharm": {
     "is_executing": false
    }
   },
   "outputs": [
    {
     "name": "stdout",
     "text": [
      "Unique words in train = 45441. Tags = {'ADP', 'PRON', 'ADJ', 'PRT', 'DET', 'VERB', 'ADV', 'X', 'NOUN', 'CONJ', '.', 'NUM'}\n"
     ],
     "output_type": "stream"
    }
   ],
   "source": [
    "words = {word for sample in train_data for word, tag in sample}\n",
    "word2ind = {word: ind + 1 for ind, word in enumerate(words)}\n",
    "word2ind['<pad>'] = 0\n",
    "\n",
    "tags = {tag for sample in train_data for word, tag in sample}\n",
    "tag2ind = {tag: ind + 1 for ind, tag in enumerate(tags)}\n",
    "tag2ind['<pad>'] = 0\n",
    "\n",
    "print('Unique words in train = {}. Tags = {}'.format(len(word2ind), tags))"
   ]
  },
  {
   "cell_type": "code",
   "execution_count": 6,
   "metadata": {
    "colab": {
     "base_uri": "https://localhost:8080/",
     "height": 323
    },
    "colab_type": "code",
    "id": "URC1B2nvPGFt",
    "outputId": "7793ad45-b27a-4ad3-8955-d02a69c8ff5e",
    "pycharm": {
     "is_executing": false
    }
   },
   "outputs": [
    {
     "data": {
      "text/plain": "<Figure size 720x360 with 1 Axes>",
      "image/png": "[encoded data removed]"
     },
     "metadata": {
      "needs_background": "light"
     },
     "output_type": "display_data"
    }
   ],
   "source": [
    "import matplotlib.pyplot as plt\n",
    "%matplotlib inline\n",
    "\n",
    "from collections import Counter\n",
    "\n",
    "tag_distribution = Counter(tag for sample in train_data for _, tag in sample)\n",
    "tag_distribution = [tag_distribution[tag] for tag in tags]\n",
    "\n",
    "plt.figure(figsize=(10, 5))\n",
    "\n",
    "bar_width = 0.35\n",
    "plt.bar(np.arange(len(tags)), tag_distribution, bar_width, align='center', alpha=0.5)\n",
    "plt.xticks(np.arange(len(tags)), tags)\n",
    "    \n",
    "plt.show()"
   ]
  },
  {
   "cell_type": "markdown",
   "metadata": {
    "colab_type": "text",
    "id": "gArQwbzWWkgi"
   },
   "source": [
    "## Бейзлайн\n",
    "\n",
    "Какой самый простой теггер можно придумать? Давайте просто запоминать, какие теги самые вероятные для слова (или для последовательности):\n",
    "\n",
    "![tag-context](https://www.nltk.org/images/tag-context.png)  \n",
    "*From [Categorizing and Tagging Words, nltk](https://www.nltk.org/book/ch05.html)*\n",
    "\n",
    "На картинке показано, что для предсказания $t_n$ используются два предыдущих предсказанных тега + текущее слово. По корпусу считаются вероятность для $P(t_n| w_n, t_{n-1}, t_{n-2})$, выбирается тег с максимальной вероятностью.\n",
    "\n",
    "Более аккуратно такая идея реализована в Hidden Markov Models: по тренировочному корпусу вычисляются вероятности $P(w_n| t_n), P(t_n|t_{n-1}, t_{n-2})$ и максимизируется их произведение.\n",
    "\n",
    "Простейший вариант - униграммная модель, учитывающая только слово:"
   ]
  },
  {
   "cell_type": "code",
   "execution_count": 7,
   "metadata": {
    "colab": {
     "base_uri": "https://localhost:8080/",
     "height": 35
    },
    "colab_type": "code",
    "id": "5rWmSToIaeAo",
    "outputId": "9c35a395-55da-4e55-ec4e-bbb7d0d66620",
    "pycharm": {
     "is_executing": false
    }
   },
   "outputs": [
    {
     "name": "stdout",
     "text": [
      "Accuracy of unigram tagger = 92.62%\n"
     ],
     "output_type": "stream"
    }
   ],
   "source": [
    "import nltk\n",
    "\n",
    "default_tagger = nltk.DefaultTagger('NN')\n",
    "\n",
    "unigram_tagger = nltk.UnigramTagger(train_data, backoff=default_tagger)\n",
    "print('Accuracy of unigram tagger = {:.2%}'.format(unigram_tagger.evaluate(test_data)))"
   ]
  },
  {
   "cell_type": "markdown",
   "metadata": {
    "colab_type": "text",
    "id": "07Ymb_MkbWsF"
   },
   "source": [
    "Добавим вероятности переходов:"
   ]
  },
  {
   "cell_type": "code",
   "execution_count": 8,
   "metadata": {
    "colab": {
     "base_uri": "https://localhost:8080/",
     "height": 35
    },
    "colab_type": "code",
    "id": "vjz_Rk0bbMyH",
    "outputId": "710f7354-41d3-40ae-9315-b6005c5f0c1a",
    "pycharm": {
     "is_executing": false
    }
   },
   "outputs": [
    {
     "name": "stdout",
     "text": [
      "Accuracy of bigram tagger = 93.42%\n"
     ],
     "output_type": "stream"
    }
   ],
   "source": [
    "bigram_tagger = nltk.BigramTagger(train_data, backoff=unigram_tagger)\n",
    "print('Accuracy of bigram tagger = {:.2%}'.format(bigram_tagger.evaluate(test_data)))"
   ]
  },
  {
   "cell_type": "markdown",
   "metadata": {
    "colab_type": "text",
    "id": "uWMw6QHvbaDd"
   },
   "source": [
    "Обратите внимание, что `backoff` важен:"
   ]
  },
  {
   "cell_type": "code",
   "execution_count": 12,
   "metadata": {
    "colab": {
     "base_uri": "https://localhost:8080/",
     "height": 35
    },
    "colab_type": "code",
    "id": "8XCuxEBVbOY_",
    "outputId": "80efd2b7-d469-479d-ad62-de4cb633b51e",
    "pycharm": {
     "is_executing": false
    }
   },
   "outputs": [
    {
     "name": "stdout",
     "output_type": "stream",
     "text": [
      "Accuracy of trigram tagger = 23.33%\n"
     ]
    }
   ],
   "source": [
    "trigram_tagger = nltk.TrigramTagger(train_data)\n",
    "print('Accuracy of trigram tagger = {:.2%}'.format(trigram_tagger.evaluate(test_data)))"
   ]
  },
  {
   "cell_type": "markdown",
   "metadata": {
    "colab_type": "text",
    "id": "4t3xyYd__8d-"
   },
   "source": [
    "## Увеличиваем контекст с рекуррентными сетями\n",
    "\n",
    "Униграмная модель работает на удивление хорошо, но мы же собрались учить сеточки.\n",
    "\n",
    "Омонимия - основная причина, почему униграмная модель плоха:  \n",
    "*“he cashed a check at the **bank**”*  \n",
    "vs  \n",
    "*“he sat on the **bank** of the river”*\n",
    "\n",
    "Поэтому нам очень полезно учитывать контекст при предсказании тега.\n",
    "\n",
    "Воспользуемся LSTM - он умеет работать с контекстом очень даже хорошо:\n",
    "\n",
    "![](https://image.ibb.co/kgmoff/Baseline-Tagger.png)\n",
    "\n",
    "Синим показано выделение фичей из слова, LSTM оранжевенький - он строит эмбеддинги слов с учетом контекста, а дальше зелененькая логистическая регрессия делает предсказания тегов."
   ]
  },
  {
   "cell_type": "code",
   "execution_count": 9,
   "metadata": {
    "colab": {},
    "colab_type": "code",
    "id": "RtRbz1SwgEqc",
    "pycharm": {
     "is_executing": false
    }
   },
   "outputs": [],
   "source": [
    "def convert_data(data, word2ind, tag2ind):\n",
    "    X = [[word2ind.get(word, 0) for word, _ in sample] for sample in data]\n",
    "    y = [[tag2ind[tag] for _, tag in sample] for sample in data]\n",
    "    \n",
    "    return X, y\n",
    "\n",
    "X_train, y_train = convert_data(train_data, word2ind, tag2ind)\n",
    "X_val, y_val = convert_data(val_data, word2ind, tag2ind)\n",
    "X_test, y_test = convert_data(test_data, word2ind, tag2ind)"
   ]
  },
  {
   "cell_type": "code",
   "execution_count": 10,
   "metadata": {
    "colab": {},
    "colab_type": "code",
    "id": "DhsTKZalfih6",
    "pycharm": {
     "is_executing": false
    }
   },
   "outputs": [],
   "source": [
    "def iterate_batches(data, batch_size):\n",
    "    X, y = data\n",
    "    n_samples = len(X)\n",
    "\n",
    "    indices = np.arange(n_samples)\n",
    "    np.random.shuffle(indices)\n",
    "    \n",
    "    for start in range(0, n_samples, batch_size):\n",
    "        end = min(start + batch_size, n_samples)\n",
    "        \n",
    "        batch_indices = indices[start:end]\n",
    "        \n",
    "        max_sent_len = max(len(X[ind]) for ind in batch_indices)\n",
    "        X_batch = np.zeros((max_sent_len, len(batch_indices)))\n",
    "        y_batch = np.zeros((max_sent_len, len(batch_indices)))\n",
    "        \n",
    "        for batch_ind, sample_ind in enumerate(batch_indices):\n",
    "            X_batch[:len(X[sample_ind]), batch_ind] = X[sample_ind]\n",
    "            y_batch[:len(y[sample_ind]), batch_ind] = y[sample_ind]\n",
    "            \n",
    "        yield X_batch, y_batch"
   ]
  },
  {
   "cell_type": "code",
   "execution_count": 11,
   "metadata": {
    "colab": {
     "base_uri": "https://localhost:8080/",
     "height": 35
    },
    "colab_type": "code",
    "id": "l4XsRII5kW5x",
    "outputId": "2202c674-729f-478f-9973-deb41973ed5f",
    "pycharm": {
     "is_executing": false
    }
   },
   "outputs": [
    {
     "data": {
      "text/plain": "((32, 4), (32, 4))"
     },
     "metadata": {},
     "output_type": "execute_result",
     "execution_count": 11
    }
   ],
   "source": [
    "X_batch, y_batch = next(iterate_batches((X_train, y_train), 4))\n",
    "\n",
    "X_batch.shape, y_batch.shape"
   ]
  },
  {
   "cell_type": "markdown",
   "metadata": {
    "colab_type": "text",
    "id": "C5I9E9P6eFYv"
   },
   "source": [
    "**Задание** Реализуйте `LSTMTagger`:"
   ]
  },
  {
   "cell_type": "code",
   "execution_count": 37,
   "metadata": {
    "colab": {},
    "colab_type": "code",
    "id": "WVEHju54d68T",
    "pycharm": {
     "is_executing": false
    }
   },
   "outputs": [],
   "source": [
    "class LSTMTagger(nn.Module):\n",
    "    def __init__(self, vocab_size, tagset_size, word_emb_dim=100, lstm_hidden_dim=128, lstm_layers_count=1):\n",
    "        super().__init__()\n",
    "        self.hidden_dim = lstm_hidden_dim\n",
    "        self.word_embeddings = nn.Embedding(vocab_size, word_emb_dim)\n",
    "        \n",
    "        self.lstm = nn.LSTM(word_emb_dim, self.hidden_dim)\n",
    "        \n",
    "        \n",
    "\n",
    "\n",
    "        self.hidden2tag = nn.Linear(self.hidden_dim, tagset_size)\n",
    "\n",
    "#     def init_hidden(self):\n",
    "#         hidden_a = torch.randn(self.hparams.nb_lstm_layers, self.batch_size, self.nb_lstm_units)\n",
    "        \n",
    "    def forward(self, inputs):\n",
    "        # print(\"input\",inputs.shape)\n",
    "        \n",
    "      \n",
    "        embeds = self.word_embeddings(inputs)\n",
    "        # print(\"embeds\",embeds.shape)\n",
    "        \n",
    "        pad_sizes = torch.full((inputs.shape[0],),inputs.shape[1],dtype=torch.int64)\n",
    "        \n",
    "        \n",
    "        # pack the batch\n",
    "        packed = torch.nn.utils.rnn.pack_padded_sequence(embeds, pad_sizes, batch_first=True)\n",
    "        \n",
    "        packed_output, _ = self.lstm(packed)\n",
    "#         print(packed_output.shape)\n",
    "        lstm_out, _ = torch.nn.utils.rnn.pad_packed_sequence(packed_output, batch_first=True)\n",
    "        # print(\"packed from lstm\",lstm_out.shape)\n",
    "        # lstm_out = lstm_out.contiguous()\n",
    "        # lstm_out = lstm_out.view(inputs.shape[0], -1)\n",
    "        # print(\"unpacked from\", lstm_out.shape)\n",
    "        \n",
    "        # for_tag_space = lstm_out#.permute(2, 0, 1)\n",
    "        # print(\"for_tag_space\",for_tag_space.shape)\n",
    "        \n",
    "        tag_space = self.hidden2tag(lstm_out)\n",
    "        # print(\"tag_space\",tag_space.shape)\n",
    "        \n",
    "        tag_scores = F.log_softmax(tag_space, dim=1)\n",
    "        return tag_scores"
   ]
  },
  {
   "cell_type": "markdown",
   "metadata": {
    "colab_type": "text",
    "id": "q_HA8zyheYGH"
   },
   "source": [
    "**Задание** Научитесь считать accuracy и loss (а заодно проверьте, что модель работает)"
   ]
  },
  {
   "cell_type": "code",
   "execution_count": 34,
   "metadata": {
    "colab": {
     "base_uri": "https://localhost:8080/",
     "height": 89
    },
    "colab_type": "code",
    "id": "jbrxsZ2mehWB",
    "outputId": "8b04d268-042b-4ff8-a8ce-0d6f0cd1710c",
    "pycharm": {
     "is_executing": false
    }
   },
   "outputs": [
    {
     "name": "stdout",
     "text": [
      "input torch.Size([32, 4])\nembeds torch.Size([32, 4, 100])\npacked from lstm torch.Size([32, 4, 128])\nfor_tag_space torch.Size([32, 4, 128])\ntag_space torch.Size([32, 4, 13])\n0.09375 12 128\n"
     ],
     "output_type": "stream"
    }
   ],
   "source": [
    "model = LSTMTagger(\n",
    "    vocab_size=len(word2ind),\n",
    "    tagset_size=len(tag2ind)\n",
    ")\n",
    "\n",
    "X_batch, y_batch = torch.LongTensor(X_batch), torch.LongTensor(y_batch)\n",
    "\n",
    "logits = model(X_batch).view(-1,len(tag2ind))\n",
    "\n",
    "_, indices = torch.max(logits, 1)\n",
    "\n",
    "#First index is always target          \n",
    "correct_samples = int(torch.sum(indices == y_batch.view(-1)))\n",
    "total_samples = y_batch.view(-1).shape[0]\n",
    "\n",
    "train_accuracy = correct_samples / total_samples\n",
    "\n",
    "print(train_accuracy, correct_samples, total_samples)\n",
    "\n"
   ]
  },
  {
   "cell_type": "code",
   "execution_count": 36,
   "metadata": {
    "colab": {},
    "colab_type": "code",
    "id": "GMUyUm1hgpe3",
    "pycharm": {
     "is_executing": false
    }
   },
   "outputs": [
    {
     "name": "stdout",
     "text": [
      "tensor(2.5694, grad_fn=<NllLossBackward>)\n"
     ],
     "output_type": "stream"
    }
   ],
   "source": [
    "criterion = nn.CrossEntropyLoss()\n",
    "loss_value = criterion(logits, y_batch.view(-1))\n",
    "print(loss_value)"
   ]
  },
  {
   "cell_type": "markdown",
   "metadata": {
    "colab_type": "text",
    "id": "nSgV3NPUpcjH"
   },
   "source": [
    "**Задание** Вставьте эти вычисление в функцию:"
   ]
  },
  {
   "cell_type": "code",
   "execution_count": 52,
   "metadata": {
    "colab": {},
    "colab_type": "code",
    "id": "FprPQ0gllo7b",
    "pycharm": {
     "is_executing": false
    }
   },
   "outputs": [],
   "source": [
    "import math\n",
    "from tqdm import tqdm\n",
    "\n",
    "\n",
    "def do_epoch(model, criterion, data, batch_size, optimizer=None, name=None):\n",
    "    epoch_loss = 0\n",
    "    correct_count = 0\n",
    "    sum_count = 0\n",
    "    \n",
    "    is_train = not optimizer is None\n",
    "    name = name or ''\n",
    "    model.train(is_train)\n",
    "    \n",
    "    batches_count = math.ceil(len(data[0]) / batch_size)\n",
    "    \n",
    "    with torch.autograd.set_grad_enabled(is_train):\n",
    "        with tqdm(total=batches_count) as progress_bar:\n",
    "            for i, (X_batch, y_batch) in enumerate(iterate_batches(data, batch_size)):\n",
    "                X_batch, y_batch = LongTensor(X_batch), LongTensor(y_batch)\n",
    "                logits = model(X_batch)\n",
    "\n",
    "                loss = criterion(logits.view(-1,len(tag2ind)), y_batch.view(-1))\n",
    "\n",
    "                epoch_loss += loss.item()\n",
    "\n",
    "                if optimizer:\n",
    "                    optimizer.zero_grad()\n",
    "                    loss.backward()\n",
    "                    optimizer.step()\n",
    "\n",
    "                _, indices = torch.max(logits.view(-1,len(tag2ind)), 1)\n",
    "                cur_correct_count = int(torch.sum(indices == y_batch.view(-1)))\n",
    "                \n",
    "                cur_sum_count = y_batch.view(-1).shape[0]\n",
    "\n",
    "                correct_count += cur_correct_count\n",
    "                sum_count += cur_sum_count\n",
    "\n",
    "                progress_bar.update()\n",
    "                progress_bar.set_description('{:>5s} Loss = {:.5f}, Accuracy = {:.2%}'.format(\n",
    "                    name, loss.item(), cur_correct_count / cur_sum_count)\n",
    "                )\n",
    "                \n",
    "            progress_bar.set_description('{:>5s} Loss = {:.5f}, Accuracy = {:.2%}'.format(\n",
    "                name, epoch_loss / batches_count, correct_count / sum_count)\n",
    "            )\n",
    "\n",
    "    return epoch_loss / batches_count, correct_count / sum_count\n",
    "\n",
    "\n",
    "def fit(model, criterion, optimizer, train_data, epochs_count=1, batch_size=32,\n",
    "        val_data=None, val_batch_size=None):\n",
    "        \n",
    "    if not val_data is None and val_batch_size is None:\n",
    "        val_batch_size = batch_size\n",
    "        \n",
    "    for epoch in range(epochs_count):\n",
    "        name_prefix = '[{} / {}] '.format(epoch + 1, epochs_count)\n",
    "        train_loss, train_acc = do_epoch(model, criterion, train_data, batch_size, optimizer, name_prefix + 'Train:')\n",
    "        \n",
    "        if not val_data is None:\n",
    "            val_loss, val_acc = do_epoch(model, criterion, val_data, val_batch_size, None, name_prefix + '  Val:')"
   ]
  },
  {
   "cell_type": "code",
   "execution_count": null,
   "metadata": {
    "colab": {},
    "colab_type": "code",
    "id": "Pqfbeh1ltEYa",
    "pycharm": {
     "is_executing": true
    }
   },
   "outputs": [
    {
     "name": "stderr",
     "text": [
      "\r  0%|          | 0/572 [00:00<?, ?it/s]",
      "\r  0%|          | 1/572 [00:00<03:52,  2.46it/s]",
      "\r[1 / 50] Train: Loss = 2.56581, Accuracy = 3.06%:   0%|          | 1/572 [00:00<03:52,  2.46it/s]",
      "\r[1 / 50] Train: Loss = 2.56581, Accuracy = 3.06%:   0%|          | 2/572 [00:00<03:38,  2.61it/s]",
      "\r[1 / 50] Train: Loss = 2.54226, Accuracy = 43.03%:   0%|          | 2/572 [00:00<03:38,  2.61it/s]",
      "\r[1 / 50] Train: Loss = 2.54226, Accuracy = 43.03%:   1%|          | 3/572 [00:01<03:34,  2.65it/s]",
      "\r[1 / 50] Train: Loss = 2.53055, Accuracy = 58.17%:   1%|          | 3/572 [00:01<03:34,  2.65it/s]",
      "\r[1 / 50] Train: Loss = 2.53055, Accuracy = 58.17%:   1%|          | 4/572 [00:01<03:10,  2.98it/s]",
      "\r[1 / 50] Train: Loss = 2.50144, Accuracy = 53.32%:   1%|          | 4/572 [00:01<03:10,  2.98it/s]",
      "\r[1 / 50] Train: Loss = 2.50144, Accuracy = 53.32%:   1%|          | 5/572 [00:01<03:19,  2.85it/s]",
      "\r[1 / 50] Train: Loss = 2.51758, Accuracy = 68.04%:   1%|          | 5/572 [00:01<03:19,  2.85it/s]",
      "\r[1 / 50] Train: Loss = 2.51758, Accuracy = 68.04%:   1%|          | 6/572 [00:01<03:00,  3.14it/s]",
      "\r[1 / 50] Train: Loss = 2.46995, Accuracy = 62.98%:   1%|          | 6/572 [00:01<03:00,  3.14it/s]",
      "\r[1 / 50] Train: Loss = 2.46995, Accuracy = 62.98%:   1%|          | 7/572 [00:02<03:26,  2.74it/s]",
      "\r[1 / 50] Train: Loss = 2.48553, Accuracy = 72.17%:   1%|          | 7/572 [00:02<03:26,  2.74it/s]",
      "\r[1 / 50] Train: Loss = 2.48553, Accuracy = 72.17%:   1%|▏         | 8/572 [00:02<03:11,  2.94it/s]",
      "\r[1 / 50] Train: Loss = 2.45635, Accuracy = 66.59%:   1%|▏         | 8/572 [00:02<03:11,  2.94it/s]",
      "\r[1 / 50] Train: Loss = 2.45635, Accuracy = 66.59%:   2%|▏         | 9/572 [00:03<03:04,  3.05it/s]",
      "\r[1 / 50] Train: Loss = 2.40469, Accuracy = 62.87%:   2%|▏         | 9/572 [00:03<03:04,  3.05it/s]",
      "\r[1 / 50] Train: Loss = 2.40469, Accuracy = 62.87%:   2%|▏         | 10/572 [00:03<03:05,  3.02it/s]",
      "\r[1 / 50] Train: Loss = 2.42109, Accuracy = 70.91%:   2%|▏         | 10/572 [00:03<03:05,  3.02it/s]",
      "\r[1 / 50] Train: Loss = 2.42109, Accuracy = 70.91%:   2%|▏         | 11/572 [00:03<03:05,  3.02it/s]",
      "\r[1 / 50] Train: Loss = 2.44707, Accuracy = 77.03%:   2%|▏         | 11/572 [00:03<03:05,  3.02it/s]",
      "\r[1 / 50] Train: Loss = 2.44707, Accuracy = 77.03%:   2%|▏         | 12/572 [00:03<02:52,  3.25it/s]",
      "\r[1 / 50] Train: Loss = 2.35957, Accuracy = 70.67%:   2%|▏         | 12/572 [00:03<02:52,  3.25it/s]",
      "\r[1 / 50] Train: Loss = 2.35957, Accuracy = 70.67%:   2%|▏         | 13/572 [00:04<03:07,  2.98it/s]",
      "\r[1 / 50] Train: Loss = 2.33932, Accuracy = 70.47%:   2%|▏         | 13/572 [00:04<03:07,  2.98it/s]",
      "\r[1 / 50] Train: Loss = 2.33932, Accuracy = 70.47%:   2%|▏         | 14/572 [00:04<03:01,  3.07it/s]",
      "\r[1 / 50] Train: Loss = 2.34353, Accuracy = 74.43%:   2%|▏         | 14/572 [00:04<03:01,  3.07it/s]",
      "\r[1 / 50] Train: Loss = 2.34353, Accuracy = 74.43%:   3%|▎         | 15/572 [00:04<02:49,  3.30it/s]",
      "\r[1 / 50] Train: Loss = 2.38401, Accuracy = 77.51%:   3%|▎         | 15/572 [00:04<02:49,  3.30it/s]",
      "\r[1 / 50] Train: Loss = 2.38401, Accuracy = 77.51%:   3%|▎         | 16/572 [00:05<02:50,  3.27it/s]",
      "\r[1 / 50] Train: Loss = 2.29865, Accuracy = 74.62%:   3%|▎         | 16/572 [00:05<02:50,  3.27it/s]",
      "\r[1 / 50] Train: Loss = 2.29865, Accuracy = 74.62%:   3%|▎         | 17/572 [00:05<02:43,  3.40it/s]",
      "\r[1 / 50] Train: Loss = 2.25571, Accuracy = 74.78%:   3%|▎         | 17/572 [00:05<02:43,  3.40it/s]",
      "\r[1 / 50] Train: Loss = 2.25571, Accuracy = 74.78%:   3%|▎         | 18/572 [00:05<02:33,  3.60it/s]",
      "\r[1 / 50] Train: Loss = 2.32060, Accuracy = 79.82%:   3%|▎         | 18/572 [00:05<02:33,  3.60it/s]",
      "\r[1 / 50] Train: Loss = 2.32060, Accuracy = 79.82%:   3%|▎         | 19/572 [00:05<02:26,  3.76it/s]",
      "\r[1 / 50] Train: Loss = 2.27129, Accuracy = 79.29%:   3%|▎         | 19/572 [00:05<02:26,  3.76it/s]",
      "\r[1 / 50] Train: Loss = 2.27129, Accuracy = 79.29%:   3%|▎         | 20/572 [00:06<02:33,  3.59it/s]",
      "\r[1 / 50] Train: Loss = 2.24335, Accuracy = 79.87%:   3%|▎         | 20/572 [00:06<02:33,  3.59it/s]",
      "\r[1 / 50] Train: Loss = 2.24335, Accuracy = 79.87%:   4%|▎         | 21/572 [00:06<02:30,  3.65it/s]",
      "\r[1 / 50] Train: Loss = 2.14138, Accuracy = 72.58%:   4%|▎         | 21/572 [00:06<02:30,  3.65it/s]",
      "\r[1 / 50] Train: Loss = 2.14138, Accuracy = 72.58%:   4%|▍         | 22/572 [00:06<02:50,  3.23it/s]",
      "\r[1 / 50] Train: Loss = 2.33529, Accuracy = 85.67%:   4%|▍         | 22/572 [00:06<02:50,  3.23it/s]",
      "\r[1 / 50] Train: Loss = 2.33529, Accuracy = 85.67%:   4%|▍         | 23/572 [00:07<02:41,  3.39it/s]",
      "\r[1 / 50] Train: Loss = 2.14758, Accuracy = 76.94%:   4%|▍         | 23/572 [00:07<02:41,  3.39it/s]",
      "\r[1 / 50] Train: Loss = 2.14758, Accuracy = 76.94%:   4%|▍         | 24/572 [00:07<02:37,  3.48it/s]",
      "\r[1 / 50] Train: Loss = 2.13000, Accuracy = 77.08%:   4%|▍         | 24/572 [00:07<02:37,  3.48it/s]",
      "\r[1 / 50] Train: Loss = 2.13000, Accuracy = 77.08%:   4%|▍         | 25/572 [00:07<02:33,  3.57it/s]",
      "\r[1 / 50] Train: Loss = 2.09277, Accuracy = 77.04%:   4%|▍         | 25/572 [00:07<02:33,  3.57it/s]",
      "\r[1 / 50] Train: Loss = 2.09277, Accuracy = 77.04%:   5%|▍         | 26/572 [00:07<02:32,  3.58it/s]",
      "\r[1 / 50] Train: Loss = 2.12390, Accuracy = 79.74%:   5%|▍         | 26/572 [00:07<02:32,  3.58it/s]",
      "\r[1 / 50] Train: Loss = 2.12390, Accuracy = 79.74%:   5%|▍         | 27/572 [00:08<02:31,  3.59it/s]",
      "\r[1 / 50] Train: Loss = 2.15811, Accuracy = 81.53%:   5%|▍         | 27/572 [00:08<02:31,  3.59it/s]",
      "\r[1 / 50] Train: Loss = 2.15811, Accuracy = 81.53%:   5%|▍         | 28/572 [00:08<02:35,  3.49it/s]",
      "\r[1 / 50] Train: Loss = 1.99819, Accuracy = 78.96%:   5%|▍         | 28/572 [00:08<02:35,  3.49it/s]",
      "\r[1 / 50] Train: Loss = 1.99819, Accuracy = 78.96%:   5%|▌         | 29/572 [00:08<02:37,  3.44it/s]",
      "\r[1 / 50] Train: Loss = 2.00922, Accuracy = 80.08%:   5%|▌         | 29/572 [00:08<02:37,  3.44it/s]",
      "\r[1 / 50] Train: Loss = 2.00922, Accuracy = 80.08%:   5%|▌         | 30/572 [00:09<02:27,  3.68it/s]",
      "\r[1 / 50] Train: Loss = 1.89651, Accuracy = 73.71%:   5%|▌         | 30/572 [00:09<02:27,  3.68it/s]",
      "\r[1 / 50] Train: Loss = 1.89651, Accuracy = 73.71%:   5%|▌         | 31/572 [00:09<02:27,  3.68it/s]",
      "\r[1 / 50] Train: Loss = 1.80360, Accuracy = 77.95%:   5%|▌         | 31/572 [00:09<02:27,  3.68it/s]",
      "\r[1 / 50] Train: Loss = 1.80360, Accuracy = 77.95%:   6%|▌         | 32/572 [00:09<02:36,  3.45it/s]",
      "\r[1 / 50] Train: Loss = 1.80314, Accuracy = 79.04%:   6%|▌         | 32/572 [00:09<02:36,  3.45it/s]",
      "\r[1 / 50] Train: Loss = 1.80314, Accuracy = 79.04%:   6%|▌         | 33/572 [00:09<02:33,  3.52it/s]",
      "\r[1 / 50] Train: Loss = 1.80950, Accuracy = 76.97%:   6%|▌         | 33/572 [00:09<02:33,  3.52it/s]",
      "\r[1 / 50] Train: Loss = 1.80950, Accuracy = 76.97%:   6%|▌         | 34/572 [00:10<02:25,  3.69it/s]",
      "\r[1 / 50] Train: Loss = 1.63979, Accuracy = 73.06%:   6%|▌         | 34/572 [00:10<02:25,  3.69it/s]",
      "\r[1 / 50] Train: Loss = 1.63979, Accuracy = 73.06%:   6%|▌         | 35/572 [00:10<02:25,  3.70it/s]",
      "\r[1 / 50] Train: Loss = 1.59987, Accuracy = 78.53%:   6%|▌         | 35/572 [00:10<02:25,  3.70it/s]",
      "\r[1 / 50] Train: Loss = 1.59987, Accuracy = 78.53%:   6%|▋         | 36/572 [00:10<02:36,  3.42it/s]",
      "\r[1 / 50] Train: Loss = 1.55874, Accuracy = 80.27%:   6%|▋         | 36/572 [00:10<02:36,  3.42it/s]",
      "\r[1 / 50] Train: Loss = 1.55874, Accuracy = 80.27%:   6%|▋         | 37/572 [00:11<02:33,  3.48it/s]",
      "\r[1 / 50] Train: Loss = 1.51648, Accuracy = 78.01%:   6%|▋         | 37/572 [00:11<02:33,  3.48it/s]",
      "\r[1 / 50] Train: Loss = 1.51648, Accuracy = 78.01%:   7%|▋         | 38/572 [00:11<02:22,  3.75it/s]",
      "\r[1 / 50] Train: Loss = 1.36258, Accuracy = 76.59%:   7%|▋         | 38/572 [00:11<02:22,  3.75it/s]",
      "\r[1 / 50] Train: Loss = 1.36258, Accuracy = 76.59%:   7%|▋         | 39/572 [00:11<02:08,  4.13it/s]",
      "\r[1 / 50] Train: Loss = 1.32272, Accuracy = 75.16%:   7%|▋         | 39/572 [00:11<02:08,  4.13it/s]",
      "\r[1 / 50] Train: Loss = 1.32272, Accuracy = 75.16%:   7%|▋         | 40/572 [00:11<02:03,  4.30it/s]",
      "\r[1 / 50] Train: Loss = 1.29142, Accuracy = 70.71%:   7%|▋         | 40/572 [00:11<02:03,  4.30it/s]",
      "\r[1 / 50] Train: Loss = 1.29142, Accuracy = 70.71%:   7%|▋         | 41/572 [00:11<02:06,  4.19it/s]",
      "\r[1 / 50] Train: Loss = 1.21969, Accuracy = 73.13%:   7%|▋         | 41/572 [00:11<02:06,  4.19it/s]",
      "\r[1 / 50] Train: Loss = 1.21969, Accuracy = 73.13%:   7%|▋         | 42/572 [00:12<02:16,  3.87it/s]",
      "\r[1 / 50] Train: Loss = 1.15004, Accuracy = 81.67%:   7%|▋         | 42/572 [00:12<02:16,  3.87it/s]",
      "\r[1 / 50] Train: Loss = 1.15004, Accuracy = 81.67%:   8%|▊         | 43/572 [00:12<02:19,  3.78it/s]",
      "\r[1 / 50] Train: Loss = 0.98601, Accuracy = 79.21%:   8%|▊         | 43/572 [00:12<02:19,  3.78it/s]",
      "\r[1 / 50] Train: Loss = 0.98601, Accuracy = 79.21%:   8%|▊         | 44/572 [00:12<02:15,  3.90it/s]",
      "\r[1 / 50] Train: Loss = 1.18736, Accuracy = 72.49%:   8%|▊         | 44/572 [00:12<02:15,  3.90it/s]",
      "\r[1 / 50] Train: Loss = 1.18736, Accuracy = 72.49%:   8%|▊         | 45/572 [00:13<02:13,  3.96it/s]",
      "\r[1 / 50] Train: Loss = 1.09511, Accuracy = 73.95%:   8%|▊         | 45/572 [00:13<02:13,  3.96it/s]",
      "\r[1 / 50] Train: Loss = 1.09511, Accuracy = 73.95%:   8%|▊         | 46/572 [00:13<02:23,  3.66it/s]",
      "\r[1 / 50] Train: Loss = 0.85073, Accuracy = 82.70%:   8%|▊         | 46/572 [00:13<02:23,  3.66it/s]",
      "\r[1 / 50] Train: Loss = 0.85073, Accuracy = 82.70%:   8%|▊         | 47/572 [00:13<02:25,  3.60it/s]",
      "\r[1 / 50] Train: Loss = 0.77135, Accuracy = 84.33%:   8%|▊         | 47/572 [00:13<02:25,  3.60it/s]",
      "\r[1 / 50] Train: Loss = 0.77135, Accuracy = 84.33%:   8%|▊         | 48/572 [00:14<02:47,  3.12it/s]",
      "\r[1 / 50] Train: Loss = 0.66823, Accuracy = 87.99%:   8%|▊         | 48/572 [00:14<02:47,  3.12it/s]",
      "\r[1 / 50] Train: Loss = 0.66823, Accuracy = 87.99%:   9%|▊         | 49/572 [00:14<03:12,  2.71it/s]",
      "\r[1 / 50] Train: Loss = 0.62624, Accuracy = 88.98%:   9%|▊         | 49/572 [00:14<03:12,  2.71it/s]",
      "\r[1 / 50] Train: Loss = 0.62624, Accuracy = 88.98%:   9%|▊         | 50/572 [00:14<02:51,  3.05it/s]",
      "\r[1 / 50] Train: Loss = 1.01194, Accuracy = 77.70%:   9%|▊         | 50/572 [00:14<02:51,  3.05it/s]",
      "\r[1 / 50] Train: Loss = 1.01194, Accuracy = 77.70%:   9%|▉         | 51/572 [00:15<03:04,  2.82it/s]",
      "\r[1 / 50] Train: Loss = 0.83045, Accuracy = 81.59%:   9%|▉         | 51/572 [00:15<03:04,  2.82it/s]",
      "\r[1 / 50] Train: Loss = 0.83045, Accuracy = 81.59%:   9%|▉         | 52/572 [00:15<02:58,  2.92it/s]",
      "\r[1 / 50] Train: Loss = 0.60043, Accuracy = 86.43%:   9%|▉         | 52/572 [00:15<02:58,  2.92it/s]",
      "\r[1 / 50] Train: Loss = 0.60043, Accuracy = 86.43%:   9%|▉         | 53/572 [00:15<02:44,  3.16it/s]",
      "\r[1 / 50] Train: Loss = 0.76359, Accuracy = 81.99%:   9%|▉         | 53/572 [00:15<02:44,  3.16it/s]",
      "\r[1 / 50] Train: Loss = 0.76359, Accuracy = 81.99%:   9%|▉         | 54/572 [00:16<02:37,  3.29it/s]",
      "\r[1 / 50] Train: Loss = 0.80927, Accuracy = 81.20%:   9%|▉         | 54/572 [00:16<02:37,  3.29it/s]",
      "\r[1 / 50] Train: Loss = 0.80927, Accuracy = 81.20%:  10%|▉         | 55/572 [00:16<02:25,  3.56it/s]",
      "\r[1 / 50] Train: Loss = 0.88172, Accuracy = 78.03%:  10%|▉         | 55/572 [00:16<02:25,  3.56it/s]",
      "\r[1 / 50] Train: Loss = 0.88172, Accuracy = 78.03%:  10%|▉         | 56/572 [00:16<02:26,  3.51it/s]",
      "\r[1 / 50] Train: Loss = 0.74191, Accuracy = 81.95%:  10%|▉         | 56/572 [00:16<02:26,  3.51it/s]",
      "\r[1 / 50] Train: Loss = 0.74191, Accuracy = 81.95%:  10%|▉         | 57/572 [00:16<02:30,  3.43it/s]",
      "\r[1 / 50] Train: Loss = 0.57490, Accuracy = 85.74%:  10%|▉         | 57/572 [00:16<02:30,  3.43it/s]",
      "\r[1 / 50] Train: Loss = 0.57490, Accuracy = 85.74%:  10%|█         | 58/572 [00:17<02:58,  2.88it/s]",
      "\r[1 / 50] Train: Loss = 0.45432, Accuracy = 89.26%:  10%|█         | 58/572 [00:17<02:58,  2.88it/s]",
      "\r[1 / 50] Train: Loss = 0.45432, Accuracy = 89.26%:  10%|█         | 59/572 [00:17<02:47,  3.07it/s]",
      "\r[1 / 50] Train: Loss = 0.79077, Accuracy = 78.95%:  10%|█         | 59/572 [00:17<02:47,  3.07it/s]",
      "\r[1 / 50] Train: Loss = 0.79077, Accuracy = 78.95%:  10%|█         | 60/572 [00:17<02:40,  3.18it/s]",
      "\r[1 / 50] Train: Loss = 0.74120, Accuracy = 80.64%:  10%|█         | 60/572 [00:17<02:40,  3.18it/s]",
      "\r[1 / 50] Train: Loss = 0.74120, Accuracy = 80.64%:  11%|█         | 61/572 [00:18<02:55,  2.92it/s]",
      "\r[1 / 50] Train: Loss = 0.51777, Accuracy = 87.39%:  11%|█         | 61/572 [00:18<02:55,  2.92it/s]",
      "\r[1 / 50] Train: Loss = 0.51777, Accuracy = 87.39%:  11%|█         | 62/572 [00:18<02:49,  3.01it/s]",
      "\r[1 / 50] Train: Loss = 0.57701, Accuracy = 85.65%:  11%|█         | 62/572 [00:18<02:49,  3.01it/s]",
      "\r[1 / 50] Train: Loss = 0.57701, Accuracy = 85.65%:  11%|█         | 63/572 [00:19<03:15,  2.60it/s]",
      "\r[1 / 50] Train: Loss = 0.42050, Accuracy = 89.74%:  11%|█         | 63/572 [00:19<03:15,  2.60it/s]",
      "\r[1 / 50] Train: Loss = 0.42050, Accuracy = 89.74%:  11%|█         | 64/572 [00:19<03:23,  2.49it/s]",
      "\r[1 / 50] Train: Loss = 0.48014, Accuracy = 87.58%:  11%|█         | 64/572 [00:19<03:23,  2.49it/s]",
      "\r[1 / 50] Train: Loss = 0.48014, Accuracy = 87.58%:  11%|█▏        | 65/572 [00:19<03:00,  2.82it/s]",
      "\r[1 / 50] Train: Loss = 0.83192, Accuracy = 78.03%:  11%|█▏        | 65/572 [00:19<03:00,  2.82it/s]",
      "\r[1 / 50] Train: Loss = 0.83192, Accuracy = 78.03%:  12%|█▏        | 66/572 [00:20<02:44,  3.07it/s]",
      "\r[1 / 50] Train: Loss = 0.77561, Accuracy = 80.04%:  12%|█▏        | 66/572 [00:20<02:44,  3.07it/s]",
      "\r[1 / 50] Train: Loss = 0.77561, Accuracy = 80.04%:  12%|█▏        | 67/572 [00:20<02:58,  2.84it/s]",
      "\r[1 / 50] Train: Loss = 0.58297, Accuracy = 85.12%:  12%|█▏        | 67/572 [00:20<02:58,  2.84it/s]",
      "\r[1 / 50] Train: Loss = 0.58297, Accuracy = 85.12%:  12%|█▏        | 68/572 [00:20<02:43,  3.09it/s]",
      "\r[1 / 50] Train: Loss = 0.72865, Accuracy = 81.77%:  12%|█▏        | 68/572 [00:20<02:43,  3.09it/s]",
      "\r[1 / 50] Train: Loss = 0.72865, Accuracy = 81.77%:  12%|█▏        | 69/572 [00:21<02:37,  3.20it/s]",
      "\r[1 / 50] Train: Loss = 0.66761, Accuracy = 83.01%:  12%|█▏        | 69/572 [00:21<02:37,  3.20it/s]",
      "\r[1 / 50] Train: Loss = 0.66761, Accuracy = 83.01%:  12%|█▏        | 70/572 [00:21<02:26,  3.43it/s]",
      "\r[1 / 50] Train: Loss = 0.81558, Accuracy = 81.38%:  12%|█▏        | 70/572 [00:21<02:26,  3.43it/s]",
      "\r[1 / 50] Train: Loss = 0.81558, Accuracy = 81.38%:  12%|█▏        | 71/572 [00:21<02:12,  3.78it/s]",
      "\r[1 / 50] Train: Loss = 1.02854, Accuracy = 73.16%:  12%|█▏        | 71/572 [00:21<02:12,  3.78it/s]",
      "\r[1 / 50] Train: Loss = 1.02854, Accuracy = 73.16%:  13%|█▎        | 72/572 [00:21<02:14,  3.71it/s]",
      "\r[1 / 50] Train: Loss = 0.70625, Accuracy = 81.67%:  13%|█▎        | 72/572 [00:21<02:14,  3.71it/s]",
      "\r[1 / 50] Train: Loss = 0.70625, Accuracy = 81.67%:  13%|█▎        | 73/572 [00:22<02:12,  3.76it/s]",
      "\r[1 / 50] Train: Loss = 0.78205, Accuracy = 79.34%:  13%|█▎        | 73/572 [00:22<02:12,  3.76it/s]",
      "\r[1 / 50] Train: Loss = 0.78205, Accuracy = 79.34%:  13%|█▎        | 74/572 [00:22<02:16,  3.64it/s]",
      "\r[1 / 50] Train: Loss = 0.65194, Accuracy = 83.05%:  13%|█▎        | 74/572 [00:22<02:16,  3.64it/s]",
      "\r[1 / 50] Train: Loss = 0.65194, Accuracy = 83.05%:  13%|█▎        | 75/572 [00:22<02:12,  3.75it/s]",
      "\r[1 / 50] Train: Loss = 0.81478, Accuracy = 77.98%:  13%|█▎        | 75/572 [00:22<02:12,  3.75it/s]",
      "\r[1 / 50] Train: Loss = 0.81478, Accuracy = 77.98%:  13%|█▎        | 76/572 [00:22<02:13,  3.70it/s]",
      "\r[1 / 50] Train: Loss = 0.62103, Accuracy = 83.61%:  13%|█▎        | 76/572 [00:22<02:13,  3.70it/s]",
      "\r[1 / 50] Train: Loss = 0.62103, Accuracy = 83.61%:  13%|█▎        | 77/572 [00:23<02:14,  3.68it/s]",
      "\r[1 / 50] Train: Loss = 0.64120, Accuracy = 83.13%:  13%|█▎        | 77/572 [00:23<02:14,  3.68it/s]",
      "\r[1 / 50] Train: Loss = 0.64120, Accuracy = 83.13%:  14%|█▎        | 78/572 [00:23<02:21,  3.50it/s]",
      "\r[1 / 50] Train: Loss = 0.51427, Accuracy = 86.88%:  14%|█▎        | 78/572 [00:23<02:21,  3.50it/s]",
      "\r[1 / 50] Train: Loss = 0.51427, Accuracy = 86.88%:  14%|█▍        | 79/572 [00:23<02:18,  3.55it/s]",
      "\r[1 / 50] Train: Loss = 0.59484, Accuracy = 84.02%:  14%|█▍        | 79/572 [00:23<02:18,  3.55it/s]",
      "\r[1 / 50] Train: Loss = 0.59484, Accuracy = 84.02%:  14%|█▍        | 80/572 [00:23<02:20,  3.51it/s]",
      "\r[1 / 50] Train: Loss = 0.62363, Accuracy = 84.11%:  14%|█▍        | 80/572 [00:23<02:20,  3.51it/s]",
      "\r[1 / 50] Train: Loss = 0.62363, Accuracy = 84.11%:  14%|█▍        | 81/572 [00:24<02:09,  3.80it/s]",
      "\r[1 / 50] Train: Loss = 0.78430, Accuracy = 79.30%:  14%|█▍        | 81/572 [00:24<02:09,  3.80it/s]",
      "\r[1 / 50] Train: Loss = 0.78430, Accuracy = 79.30%:  14%|█▍        | 82/572 [00:24<02:09,  3.79it/s]",
      "\r[1 / 50] Train: Loss = 0.51305, Accuracy = 86.55%:  14%|█▍        | 82/572 [00:24<02:09,  3.79it/s]",
      "\r[1 / 50] Train: Loss = 0.51305, Accuracy = 86.55%:  15%|█▍        | 83/572 [00:24<02:17,  3.57it/s]",
      "\r[1 / 50] Train: Loss = 0.55218, Accuracy = 86.03%:  15%|█▍        | 83/572 [00:24<02:17,  3.57it/s]",
      "\r[1 / 50] Train: Loss = 0.55218, Accuracy = 86.03%:  15%|█▍        | 84/572 [00:25<02:12,  3.70it/s]",
      "\r[1 / 50] Train: Loss = 0.63880, Accuracy = 83.14%:  15%|█▍        | 84/572 [00:25<02:12,  3.70it/s]",
      "\r[1 / 50] Train: Loss = 0.63880, Accuracy = 83.14%:  15%|█▍        | 85/572 [00:25<02:02,  3.98it/s]",
      "\r[1 / 50] Train: Loss = 0.83162, Accuracy = 78.33%:  15%|█▍        | 85/572 [00:25<02:02,  3.98it/s]",
      "\r[1 / 50] Train: Loss = 0.83162, Accuracy = 78.33%:  15%|█▌        | 86/572 [00:25<02:29,  3.25it/s]",
      "\r[1 / 50] Train: Loss = 0.36403, Accuracy = 90.62%:  15%|█▌        | 86/572 [00:25<02:29,  3.25it/s]",
      "\r[1 / 50] Train: Loss = 0.36403, Accuracy = 90.62%:  15%|█▌        | 87/572 [00:25<02:20,  3.46it/s]",
      "\r[1 / 50] Train: Loss = 0.68637, Accuracy = 81.28%:  15%|█▌        | 87/572 [00:25<02:20,  3.46it/s]",
      "\r[1 / 50] Train: Loss = 0.68637, Accuracy = 81.28%:  15%|█▌        | 88/572 [00:26<02:25,  3.32it/s]",
      "\r[1 / 50] Train: Loss = 0.50016, Accuracy = 86.18%:  15%|█▌        | 88/572 [00:26<02:25,  3.32it/s]",
      "\r[1 / 50] Train: Loss = 0.50016, Accuracy = 86.18%:  16%|█▌        | 89/572 [00:26<02:32,  3.17it/s]",
      "\r[1 / 50] Train: Loss = 0.42402, Accuracy = 89.04%:  16%|█▌        | 89/572 [00:26<02:32,  3.17it/s]",
      "\r[1 / 50] Train: Loss = 0.42402, Accuracy = 89.04%:  16%|█▌        | 90/572 [00:26<02:23,  3.36it/s]",
      "\r[1 / 50] Train: Loss = 0.70598, Accuracy = 80.64%:  16%|█▌        | 90/572 [00:26<02:23,  3.36it/s]",
      "\r[1 / 50] Train: Loss = 0.70598, Accuracy = 80.64%:  16%|█▌        | 91/572 [00:27<02:48,  2.86it/s]",
      "\r[1 / 50] Train: Loss = 0.38388, Accuracy = 90.25%:  16%|█▌        | 91/572 [00:27<02:48,  2.86it/s]",
      "\r[1 / 50] Train: Loss = 0.38388, Accuracy = 90.25%:  16%|█▌        | 92/572 [00:27<02:32,  3.14it/s]",
      "\r[1 / 50] Train: Loss = 0.62054, Accuracy = 83.64%:  16%|█▌        | 92/572 [00:27<02:32,  3.14it/s]",
      "\r[1 / 50] Train: Loss = 0.62054, Accuracy = 83.64%:  16%|█▋        | 93/572 [00:27<02:30,  3.19it/s]",
      "\r[1 / 50] Train: Loss = 0.52299, Accuracy = 85.91%:  16%|█▋        | 93/572 [00:27<02:30,  3.19it/s]",
      "\r[1 / 50] Train: Loss = 0.52299, Accuracy = 85.91%:  16%|█▋        | 94/572 [00:28<02:48,  2.83it/s]",
      "\r[1 / 50] Train: Loss = 0.47045, Accuracy = 86.91%:  16%|█▋        | 94/572 [00:28<02:48,  2.83it/s]",
      "\r[1 / 50] Train: Loss = 0.47045, Accuracy = 86.91%:  17%|█▋        | 95/572 [00:28<02:27,  3.23it/s]",
      "\r[1 / 50] Train: Loss = 0.69492, Accuracy = 80.57%:  17%|█▋        | 95/572 [00:28<02:27,  3.23it/s]",
      "\r[1 / 50] Train: Loss = 0.69492, Accuracy = 80.57%:  17%|█▋        | 96/572 [00:28<02:19,  3.40it/s]",
      "\r[1 / 50] Train: Loss = 0.60711, Accuracy = 83.59%:  17%|█▋        | 96/572 [00:28<02:19,  3.40it/s]",
      "\r[1 / 50] Train: Loss = 0.60711, Accuracy = 83.59%:  17%|█▋        | 97/572 [00:29<02:14,  3.53it/s]",
      "\r[1 / 50] Train: Loss = 0.59978, Accuracy = 83.90%:  17%|█▋        | 97/572 [00:29<02:14,  3.53it/s]",
      "\r[1 / 50] Train: Loss = 0.59978, Accuracy = 83.90%:  17%|█▋        | 98/572 [00:29<02:26,  3.24it/s]",
      "\r[1 / 50] Train: Loss = 0.61207, Accuracy = 83.05%:  17%|█▋        | 98/572 [00:29<02:26,  3.24it/s]",
      "\r[1 / 50] Train: Loss = 0.61207, Accuracy = 83.05%:  17%|█▋        | 99/572 [00:29<02:37,  3.01it/s]",
      "\r[1 / 50] Train: Loss = 0.51928, Accuracy = 86.37%:  17%|█▋        | 99/572 [00:29<02:37,  3.01it/s]",
      "\r[1 / 50] Train: Loss = 0.51928, Accuracy = 86.37%:  17%|█▋        | 100/572 [00:30<02:37,  2.99it/s]",
      "\r[1 / 50] Train: Loss = 0.60610, Accuracy = 83.87%:  17%|█▋        | 100/572 [00:30<02:37,  2.99it/s]",
      "\r[1 / 50] Train: Loss = 0.60610, Accuracy = 83.87%:  18%|█▊        | 101/572 [00:30<02:34,  3.05it/s]",
      "\r[1 / 50] Train: Loss = 0.61104, Accuracy = 83.56%:  18%|█▊        | 101/572 [00:30<02:34,  3.05it/s]",
      "\r[1 / 50] Train: Loss = 0.61104, Accuracy = 83.56%:  18%|█▊        | 102/572 [00:30<02:27,  3.20it/s]",
      "\r[1 / 50] Train: Loss = 0.65299, Accuracy = 82.41%:  18%|█▊        | 102/572 [00:30<02:27,  3.20it/s]",
      "\r[1 / 50] Train: Loss = 0.65299, Accuracy = 82.41%:  18%|█▊        | 103/572 [00:31<02:29,  3.14it/s]",
      "\r[1 / 50] Train: Loss = 0.47123, Accuracy = 87.55%:  18%|█▊        | 103/572 [00:31<02:29,  3.14it/s]",
      "\r[1 / 50] Train: Loss = 0.47123, Accuracy = 87.55%:  18%|█▊        | 104/572 [00:31<02:30,  3.10it/s]",
      "\r[1 / 50] Train: Loss = 0.48606, Accuracy = 86.50%:  18%|█▊        | 104/572 [00:31<02:30,  3.10it/s]",
      "\r[1 / 50] Train: Loss = 0.48606, Accuracy = 86.50%:  18%|█▊        | 105/572 [00:31<02:19,  3.34it/s]",
      "\r[1 / 50] Train: Loss = 0.56078, Accuracy = 84.24%:  18%|█▊        | 105/572 [00:31<02:19,  3.34it/s]",
      "\r[1 / 50] Train: Loss = 0.56078, Accuracy = 84.24%:  19%|█▊        | 106/572 [00:32<03:03,  2.53it/s]",
      "\r[1 / 50] Train: Loss = 0.28002, Accuracy = 92.52%:  19%|█▊        | 106/572 [00:32<03:03,  2.53it/s]",
      "\r[1 / 50] Train: Loss = 0.28002, Accuracy = 92.52%:  19%|█▊        | 107/572 [00:32<02:47,  2.78it/s]",
      "\r[1 / 50] Train: Loss = 0.61485, Accuracy = 82.98%:  19%|█▊        | 107/572 [00:32<02:47,  2.78it/s]",
      "\r[1 / 50] Train: Loss = 0.61485, Accuracy = 82.98%:  19%|█▉        | 108/572 [00:32<02:27,  3.15it/s]",
      "\r[1 / 50] Train: Loss = 0.61634, Accuracy = 83.16%:  19%|█▉        | 108/572 [00:32<02:27,  3.15it/s]",
      "\r[1 / 50] Train: Loss = 0.61634, Accuracy = 83.16%:  19%|█▉        | 109/572 [00:33<02:17,  3.36it/s]",
      "\r[1 / 50] Train: Loss = 0.53327, Accuracy = 85.07%:  19%|█▉        | 109/572 [00:33<02:17,  3.36it/s]",
      "\r[1 / 50] Train: Loss = 0.53327, Accuracy = 85.07%:  19%|█▉        | 110/572 [00:33<02:16,  3.39it/s]",
      "\r[1 / 50] Train: Loss = 0.67440, Accuracy = 80.73%:  19%|█▉        | 110/572 [00:33<02:16,  3.39it/s]",
      "\r[1 / 50] Train: Loss = 0.67440, Accuracy = 80.73%:  19%|█▉        | 111/572 [00:33<02:16,  3.37it/s]",
      "\r[1 / 50] Train: Loss = 0.62056, Accuracy = 82.54%:  19%|█▉        | 111/572 [00:33<02:16,  3.37it/s]",
      "\r[1 / 50] Train: Loss = 0.62056, Accuracy = 82.54%:  20%|█▉        | 112/572 [00:33<02:28,  3.10it/s]",
      "\r[1 / 50] Train: Loss = 0.50195, Accuracy = 85.96%:  20%|█▉        | 112/572 [00:33<02:28,  3.10it/s]",
      "\r[1 / 50] Train: Loss = 0.50195, Accuracy = 85.96%:  20%|█▉        | 113/572 [00:34<02:28,  3.10it/s]",
      "\r[1 / 50] Train: Loss = 0.49965, Accuracy = 85.87%:  20%|█▉        | 113/572 [00:34<02:28,  3.10it/s]",
      "\r[1 / 50] Train: Loss = 0.49965, Accuracy = 85.87%:  20%|█▉        | 114/572 [00:34<02:14,  3.42it/s]",
      "\r[1 / 50] Train: Loss = 0.54346, Accuracy = 85.05%:  20%|█▉        | 114/572 [00:34<02:14,  3.42it/s]",
      "\r[1 / 50] Train: Loss = 0.54346, Accuracy = 85.05%:  20%|██        | 115/572 [00:34<02:09,  3.53it/s]",
      "\r[1 / 50] Train: Loss = 0.65726, Accuracy = 85.13%:  20%|██        | 115/572 [00:34<02:09,  3.53it/s]",
      "\r[1 / 50] Train: Loss = 0.65726, Accuracy = 85.13%:  20%|██        | 116/572 [00:35<02:18,  3.30it/s]",
      "\r[1 / 50] Train: Loss = 0.45536, Accuracy = 88.06%:  20%|██        | 116/572 [00:35<02:18,  3.30it/s]",
      "\r[1 / 50] Train: Loss = 0.45536, Accuracy = 88.06%:  20%|██        | 117/572 [00:35<02:26,  3.11it/s]",
      "\r[1 / 50] Train: Loss = 0.33895, Accuracy = 90.71%:  20%|██        | 117/572 [00:35<02:26,  3.11it/s]",
      "\r[1 / 50] Train: Loss = 0.33895, Accuracy = 90.71%:  21%|██        | 118/572 [00:35<02:20,  3.23it/s]",
      "\r[1 / 50] Train: Loss = 0.50785, Accuracy = 86.05%:  21%|██        | 118/572 [00:35<02:20,  3.23it/s]",
      "\r[1 / 50] Train: Loss = 0.50785, Accuracy = 86.05%:  21%|██        | 119/572 [00:36<02:16,  3.31it/s]",
      "\r[1 / 50] Train: Loss = 0.56035, Accuracy = 83.44%:  21%|██        | 119/572 [00:36<02:16,  3.31it/s]",
      "\r[1 / 50] Train: Loss = 0.56035, Accuracy = 83.44%:  21%|██        | 120/572 [00:36<02:17,  3.29it/s]",
      "\r[1 / 50] Train: Loss = 0.55952, Accuracy = 84.51%:  21%|██        | 120/572 [00:36<02:17,  3.29it/s]",
      "\r[1 / 50] Train: Loss = 0.55952, Accuracy = 84.51%:  21%|██        | 121/572 [00:36<02:12,  3.39it/s]",
      "\r[1 / 50] Train: Loss = 0.49756, Accuracy = 85.50%:  21%|██        | 121/572 [00:36<02:12,  3.39it/s]",
      "\r[1 / 50] Train: Loss = 0.49756, Accuracy = 85.50%:  21%|██▏       | 122/572 [00:37<02:22,  3.15it/s]",
      "\r[1 / 50] Train: Loss = 0.48707, Accuracy = 86.54%:  21%|██▏       | 122/572 [00:37<02:22,  3.15it/s]",
      "\r[1 / 50] Train: Loss = 0.48707, Accuracy = 86.54%:  22%|██▏       | 123/572 [00:37<02:17,  3.28it/s]",
      "\r[1 / 50] Train: Loss = 0.55032, Accuracy = 83.94%:  22%|██▏       | 123/572 [00:37<02:17,  3.28it/s]",
      "\r[1 / 50] Train: Loss = 0.55032, Accuracy = 83.94%:  22%|██▏       | 124/572 [00:37<02:11,  3.41it/s]",
      "\r[1 / 50] Train: Loss = 0.53345, Accuracy = 84.92%:  22%|██▏       | 124/572 [00:37<02:11,  3.41it/s]",
      "\r[1 / 50] Train: Loss = 0.53345, Accuracy = 84.92%:  22%|██▏       | 125/572 [00:37<02:06,  3.55it/s]",
      "\r[1 / 50] Train: Loss = 0.48833, Accuracy = 86.14%:  22%|██▏       | 125/572 [00:37<02:06,  3.55it/s]",
      "\r[1 / 50] Train: Loss = 0.48833, Accuracy = 86.14%:  22%|██▏       | 126/572 [00:38<02:11,  3.40it/s]",
      "\r[1 / 50] Train: Loss = 0.36888, Accuracy = 89.13%:  22%|██▏       | 126/572 [00:38<02:11,  3.40it/s]",
      "\r[1 / 50] Train: Loss = 0.36888, Accuracy = 89.13%:  22%|██▏       | 127/572 [00:38<02:14,  3.30it/s]",
      "\r[1 / 50] Train: Loss = 0.39731, Accuracy = 89.08%:  22%|██▏       | 127/572 [00:38<02:14,  3.30it/s]",
      "\r[1 / 50] Train: Loss = 0.39731, Accuracy = 89.08%:  22%|██▏       | 128/572 [00:38<02:16,  3.26it/s]",
      "\r[1 / 50] Train: Loss = 0.42944, Accuracy = 88.30%:  22%|██▏       | 128/572 [00:38<02:16,  3.26it/s]",
      "\r[1 / 50] Train: Loss = 0.42944, Accuracy = 88.30%:  23%|██▎       | 129/572 [00:39<02:05,  3.53it/s]",
      "\r[1 / 50] Train: Loss = 0.59294, Accuracy = 82.65%:  23%|██▎       | 129/572 [00:39<02:05,  3.53it/s]",
      "\r[1 / 50] Train: Loss = 0.59294, Accuracy = 82.65%:  23%|██▎       | 130/572 [00:39<02:12,  3.33it/s]",
      "\r[1 / 50] Train: Loss = 0.35804, Accuracy = 90.05%:  23%|██▎       | 130/572 [00:39<02:12,  3.33it/s]",
      "\r[1 / 50] Train: Loss = 0.35804, Accuracy = 90.05%:  23%|██▎       | 131/572 [00:39<02:01,  3.64it/s]",
      "\r[1 / 50] Train: Loss = 0.56441, Accuracy = 84.00%:  23%|██▎       | 131/572 [00:39<02:01,  3.64it/s]",
      "\r[1 / 50] Train: Loss = 0.56441, Accuracy = 84.00%:  23%|██▎       | 132/572 [00:39<01:58,  3.73it/s]",
      "\r[1 / 50] Train: Loss = 0.54134, Accuracy = 84.66%:  23%|██▎       | 132/572 [00:39<01:58,  3.73it/s]",
      "\r[1 / 50] Train: Loss = 0.54134, Accuracy = 84.66%:  23%|██▎       | 133/572 [00:40<01:50,  3.96it/s]",
      "\r[1 / 50] Train: Loss = 0.71091, Accuracy = 79.61%:  23%|██▎       | 133/572 [00:40<01:50,  3.96it/s]",
      "\r[1 / 50] Train: Loss = 0.71091, Accuracy = 79.61%:  23%|██▎       | 134/572 [00:40<02:05,  3.49it/s]",
      "\r[1 / 50] Train: Loss = 0.28272, Accuracy = 92.31%:  23%|██▎       | 134/572 [00:40<02:05,  3.49it/s]",
      "\r[1 / 50] Train: Loss = 0.28272, Accuracy = 92.31%:  24%|██▎       | 135/572 [00:40<02:04,  3.50it/s]",
      "\r[1 / 50] Train: Loss = 0.42591, Accuracy = 88.14%:  24%|██▎       | 135/572 [00:40<02:04,  3.50it/s]",
      "\r[1 / 50] Train: Loss = 0.42591, Accuracy = 88.14%:  24%|██▍       | 136/572 [00:40<02:04,  3.50it/s]",
      "\r[1 / 50] Train: Loss = 0.41089, Accuracy = 88.70%:  24%|██▍       | 136/572 [00:40<02:04,  3.50it/s]",
      "\r[1 / 50] Train: Loss = 0.41089, Accuracy = 88.70%:  24%|██▍       | 137/572 [00:41<02:01,  3.59it/s]",
      "\r[1 / 50] Train: Loss = 0.51624, Accuracy = 84.91%:  24%|██▍       | 137/572 [00:41<02:01,  3.59it/s]",
      "\r[1 / 50] Train: Loss = 0.51624, Accuracy = 84.91%:  24%|██▍       | 138/572 [00:41<02:05,  3.47it/s]",
      "\r[1 / 50] Train: Loss = 0.41244, Accuracy = 88.55%:  24%|██▍       | 138/572 [00:41<02:05,  3.47it/s]",
      "\r[1 / 50] Train: Loss = 0.41244, Accuracy = 88.55%:  24%|██▍       | 139/572 [00:41<02:00,  3.58it/s]",
      "\r[1 / 50] Train: Loss = 0.42404, Accuracy = 88.36%:  24%|██▍       | 139/572 [00:41<02:00,  3.58it/s]",
      "\r[1 / 50] Train: Loss = 0.42404, Accuracy = 88.36%:  24%|██▍       | 140/572 [00:42<01:57,  3.66it/s]",
      "\r[1 / 50] Train: Loss = 0.53109, Accuracy = 85.60%:  24%|██▍       | 140/572 [00:42<01:57,  3.66it/s]",
      "\r[1 / 50] Train: Loss = 0.53109, Accuracy = 85.60%:  25%|██▍       | 141/572 [00:42<01:58,  3.62it/s]",
      "\r[1 / 50] Train: Loss = 0.48803, Accuracy = 86.02%:  25%|██▍       | 141/572 [00:42<01:58,  3.62it/s]",
      "\r[1 / 50] Train: Loss = 0.48803, Accuracy = 86.02%:  25%|██▍       | 142/572 [00:42<02:10,  3.30it/s]",
      "\r[1 / 50] Train: Loss = 0.45876, Accuracy = 87.15%:  25%|██▍       | 142/572 [00:42<02:10,  3.30it/s]",
      "\r[1 / 50] Train: Loss = 0.45876, Accuracy = 87.15%:  25%|██▌       | 143/572 [00:42<02:06,  3.38it/s]",
      "\r[1 / 50] Train: Loss = 0.47676, Accuracy = 86.80%:  25%|██▌       | 143/572 [00:42<02:06,  3.38it/s]",
      "\r[1 / 50] Train: Loss = 0.47676, Accuracy = 86.80%:  25%|██▌       | 144/572 [00:43<02:12,  3.24it/s]",
      "\r[1 / 50] Train: Loss = 0.40009, Accuracy = 88.81%:  25%|██▌       | 144/572 [00:43<02:12,  3.24it/s]",
      "\r[1 / 50] Train: Loss = 0.40009, Accuracy = 88.81%:  25%|██▌       | 145/572 [00:43<02:09,  3.29it/s]",
      "\r[1 / 50] Train: Loss = 0.40184, Accuracy = 88.00%:  25%|██▌       | 145/572 [00:43<02:09,  3.29it/s]",
      "\r[1 / 50] Train: Loss = 0.40184, Accuracy = 88.00%:  26%|██▌       | 146/572 [00:43<02:12,  3.21it/s]",
      "\r[1 / 50] Train: Loss = 0.36302, Accuracy = 89.72%:  26%|██▌       | 146/572 [00:43<02:12,  3.21it/s]",
      "\r[1 / 50] Train: Loss = 0.36302, Accuracy = 89.72%:  26%|██▌       | 147/572 [00:44<02:11,  3.23it/s]",
      "\r[1 / 50] Train: Loss = 0.39929, Accuracy = 89.20%:  26%|██▌       | 147/572 [00:44<02:11,  3.23it/s]",
      "\r[1 / 50] Train: Loss = 0.39929, Accuracy = 89.20%:  26%|██▌       | 148/572 [00:44<02:15,  3.12it/s]",
      "\r[1 / 50] Train: Loss = 0.30299, Accuracy = 91.35%:  26%|██▌       | 148/572 [00:44<02:15,  3.12it/s]",
      "\r[1 / 50] Train: Loss = 0.30299, Accuracy = 91.35%:  26%|██▌       | 149/572 [00:44<02:14,  3.13it/s]",
      "\r[1 / 50] Train: Loss = 0.41475, Accuracy = 87.59%:  26%|██▌       | 149/572 [00:44<02:14,  3.13it/s]",
      "\r[1 / 50] Train: Loss = 0.41475, Accuracy = 87.59%:  26%|██▌       | 150/572 [00:45<02:10,  3.23it/s]",
      "\r[1 / 50] Train: Loss = 0.36502, Accuracy = 89.67%:  26%|██▌       | 150/572 [00:45<02:10,  3.23it/s]",
      "\r[1 / 50] Train: Loss = 0.36502, Accuracy = 89.67%:  26%|██▋       | 151/572 [00:45<02:09,  3.26it/s]",
      "\r[1 / 50] Train: Loss = 0.39435, Accuracy = 88.53%:  26%|██▋       | 151/572 [00:45<02:09,  3.26it/s]",
      "\r[1 / 50] Train: Loss = 0.39435, Accuracy = 88.53%:  27%|██▋       | 152/572 [00:45<02:06,  3.32it/s]",
      "\r[1 / 50] Train: Loss = 0.44543, Accuracy = 87.59%:  27%|██▋       | 152/572 [00:45<02:06,  3.32it/s]",
      "\r[1 / 50] Train: Loss = 0.44543, Accuracy = 87.59%:  27%|██▋       | 153/572 [00:46<02:00,  3.47it/s]",
      "\r[1 / 50] Train: Loss = 0.47704, Accuracy = 85.94%:  27%|██▋       | 153/572 [00:46<02:00,  3.47it/s]",
      "\r[1 / 50] Train: Loss = 0.47704, Accuracy = 85.94%:  27%|██▋       | 154/572 [00:46<02:36,  2.67it/s]",
      "\r[1 / 50] Train: Loss = 0.40481, Accuracy = 88.21%:  27%|██▋       | 154/572 [00:46<02:36,  2.67it/s]",
      "\r[1 / 50] Train: Loss = 0.40481, Accuracy = 88.21%:  27%|██▋       | 155/572 [00:47<02:42,  2.57it/s]",
      "\r[1 / 50] Train: Loss = 0.50422, Accuracy = 85.51%:  27%|██▋       | 155/572 [00:47<02:42,  2.57it/s]",
      "\r[1 / 50] Train: Loss = 0.50422, Accuracy = 85.51%:  27%|██▋       | 156/572 [00:47<02:41,  2.58it/s]",
      "\r[1 / 50] Train: Loss = 0.43868, Accuracy = 87.80%:  27%|██▋       | 156/572 [00:47<02:41,  2.58it/s]",
      "\r[1 / 50] Train: Loss = 0.43868, Accuracy = 87.80%:  27%|██▋       | 157/572 [00:47<02:40,  2.58it/s]",
      "\r[1 / 50] Train: Loss = 0.41060, Accuracy = 87.95%:  27%|██▋       | 157/572 [00:47<02:40,  2.58it/s]",
      "\r[1 / 50] Train: Loss = 0.41060, Accuracy = 87.95%:  28%|██▊       | 158/572 [00:48<02:40,  2.58it/s]",
      "\r[1 / 50] Train: Loss = 0.41271, Accuracy = 88.56%:  28%|██▊       | 158/572 [00:48<02:40,  2.58it/s]",
      "\r[1 / 50] Train: Loss = 0.41271, Accuracy = 88.56%:  28%|██▊       | 159/572 [00:48<02:35,  2.65it/s]",
      "\r[1 / 50] Train: Loss = 0.30952, Accuracy = 91.40%:  28%|██▊       | 159/572 [00:48<02:35,  2.65it/s]",
      "\r[1 / 50] Train: Loss = 0.30952, Accuracy = 91.40%:  28%|██▊       | 160/572 [00:48<02:34,  2.68it/s]",
      "\r[1 / 50] Train: Loss = 0.45309, Accuracy = 86.30%:  28%|██▊       | 160/572 [00:48<02:34,  2.68it/s]",
      "\r[1 / 50] Train: Loss = 0.45309, Accuracy = 86.30%:  28%|██▊       | 161/572 [00:49<02:15,  3.02it/s]",
      "\r[1 / 50] Train: Loss = 0.57001, Accuracy = 83.79%:  28%|██▊       | 161/572 [00:49<02:15,  3.02it/s]",
      "\r[1 / 50] Train: Loss = 0.57001, Accuracy = 83.79%:  28%|██▊       | 162/572 [00:49<02:10,  3.14it/s]",
      "\r[1 / 50] Train: Loss = 0.42244, Accuracy = 87.73%:  28%|██▊       | 162/572 [00:49<02:10,  3.14it/s]",
      "\r[1 / 50] Train: Loss = 0.42244, Accuracy = 87.73%:  28%|██▊       | 163/572 [00:49<02:09,  3.15it/s]",
      "\r[1 / 50] Train: Loss = 0.36255, Accuracy = 90.13%:  28%|██▊       | 163/572 [00:49<02:09,  3.15it/s]",
      "\r[1 / 50] Train: Loss = 0.36255, Accuracy = 90.13%:  29%|██▊       | 164/572 [00:49<01:57,  3.47it/s]",
      "\r[1 / 50] Train: Loss = 0.51419, Accuracy = 84.99%:  29%|██▊       | 164/572 [00:49<01:57,  3.47it/s]",
      "\r[1 / 50] Train: Loss = 0.51419, Accuracy = 84.99%:  29%|██▉       | 165/572 [00:50<01:50,  3.70it/s]",
      "\r[1 / 50] Train: Loss = 0.52748, Accuracy = 84.18%:  29%|██▉       | 165/572 [00:50<01:50,  3.70it/s]",
      "\r[1 / 50] Train: Loss = 0.52748, Accuracy = 84.18%:  29%|██▉       | 166/572 [00:50<01:58,  3.44it/s]",
      "\r[1 / 50] Train: Loss = 0.39696, Accuracy = 88.47%:  29%|██▉       | 166/572 [00:50<01:58,  3.44it/s]",
      "\r[1 / 50] Train: Loss = 0.39696, Accuracy = 88.47%:  29%|██▉       | 167/572 [00:50<02:02,  3.32it/s]",
      "\r[1 / 50] Train: Loss = 0.35902, Accuracy = 89.60%:  29%|██▉       | 167/572 [00:50<02:02,  3.32it/s]",
      "\r[1 / 50] Train: Loss = 0.35902, Accuracy = 89.60%:  29%|██▉       | 168/572 [00:51<01:59,  3.37it/s]",
      "\r[1 / 50] Train: Loss = 0.49207, Accuracy = 85.81%:  29%|██▉       | 168/572 [00:51<01:59,  3.37it/s]",
      "\r[1 / 50] Train: Loss = 0.49207, Accuracy = 85.81%:  30%|██▉       | 169/572 [00:51<01:58,  3.41it/s]",
      "\r[1 / 50] Train: Loss = 0.38558, Accuracy = 88.91%:  30%|██▉       | 169/572 [00:51<01:58,  3.41it/s]",
      "\r[1 / 50] Train: Loss = 0.38558, Accuracy = 88.91%:  30%|██▉       | 170/572 [00:51<02:09,  3.10it/s]",
      "\r[1 / 50] Train: Loss = 0.30875, Accuracy = 91.16%:  30%|██▉       | 170/572 [00:51<02:09,  3.10it/s]",
      "\r[1 / 50] Train: Loss = 0.30875, Accuracy = 91.16%:  30%|██▉       | 171/572 [00:52<02:04,  3.23it/s]",
      "\r[1 / 50] Train: Loss = 0.51490, Accuracy = 84.89%:  30%|██▉       | 171/572 [00:52<02:04,  3.23it/s]",
      "\r[1 / 50] Train: Loss = 0.51490, Accuracy = 84.89%:  30%|███       | 172/572 [00:52<02:19,  2.86it/s]",
      "\r[1 / 50] Train: Loss = 0.30089, Accuracy = 91.36%:  30%|███       | 172/572 [00:52<02:19,  2.86it/s]",
      "\r[1 / 50] Train: Loss = 0.30089, Accuracy = 91.36%:  30%|███       | 173/572 [00:52<02:20,  2.84it/s]",
      "\r[1 / 50] Train: Loss = 0.42721, Accuracy = 87.42%:  30%|███       | 173/572 [00:52<02:20,  2.84it/s]",
      "\r[1 / 50] Train: Loss = 0.42721, Accuracy = 87.42%:  30%|███       | 174/572 [00:53<02:10,  3.05it/s]",
      "\r[1 / 50] Train: Loss = 0.50024, Accuracy = 84.50%:  30%|███       | 174/572 [00:53<02:10,  3.05it/s]",
      "\r[1 / 50] Train: Loss = 0.50024, Accuracy = 84.50%:  31%|███       | 175/572 [00:53<02:18,  2.87it/s]",
      "\r[1 / 50] Train: Loss = 0.38017, Accuracy = 89.33%:  31%|███       | 175/572 [00:53<02:18,  2.87it/s]",
      "\r[1 / 50] Train: Loss = 0.38017, Accuracy = 89.33%:  31%|███       | 176/572 [00:53<02:10,  3.03it/s]",
      "\r[1 / 50] Train: Loss = 0.43710, Accuracy = 87.98%:  31%|███       | 176/572 [00:53<02:10,  3.03it/s]",
      "\r[1 / 50] Train: Loss = 0.43710, Accuracy = 87.98%:  31%|███       | 177/572 [00:54<02:07,  3.09it/s]",
      "\r[1 / 50] Train: Loss = 0.40589, Accuracy = 88.12%:  31%|███       | 177/572 [00:54<02:07,  3.09it/s]",
      "\r[1 / 50] Train: Loss = 0.40589, Accuracy = 88.12%:  31%|███       | 178/572 [00:54<02:15,  2.90it/s]",
      "\r[1 / 50] Train: Loss = 0.34176, Accuracy = 90.44%:  31%|███       | 178/572 [00:54<02:15,  2.90it/s]",
      "\r[1 / 50] Train: Loss = 0.34176, Accuracy = 90.44%:  31%|███▏      | 179/572 [00:54<02:04,  3.15it/s]",
      "\r[1 / 50] Train: Loss = 0.58008, Accuracy = 81.83%:  31%|███▏      | 179/572 [00:54<02:04,  3.15it/s]",
      "\r[1 / 50] Train: Loss = 0.58008, Accuracy = 81.83%:  31%|███▏      | 180/572 [00:55<02:09,  3.03it/s]",
      "\r[1 / 50] Train: Loss = 0.39754, Accuracy = 88.80%:  31%|███▏      | 180/572 [00:55<02:09,  3.03it/s]",
      "\r[1 / 50] Train: Loss = 0.39754, Accuracy = 88.80%:  32%|███▏      | 181/572 [00:55<02:01,  3.22it/s]",
      "\r[1 / 50] Train: Loss = 0.49463, Accuracy = 86.03%:  32%|███▏      | 181/572 [00:55<02:01,  3.22it/s]",
      "\r[1 / 50] Train: Loss = 0.49463, Accuracy = 86.03%:  32%|███▏      | 182/572 [00:55<02:04,  3.13it/s]",
      "\r[1 / 50] Train: Loss = 0.38223, Accuracy = 88.62%:  32%|███▏      | 182/572 [00:55<02:04,  3.13it/s]",
      "\r[1 / 50] Train: Loss = 0.38223, Accuracy = 88.62%:  32%|███▏      | 183/572 [00:56<02:08,  3.02it/s]",
      "\r[1 / 50] Train: Loss = 0.37618, Accuracy = 88.82%:  32%|███▏      | 183/572 [00:56<02:08,  3.02it/s]",
      "\r[1 / 50] Train: Loss = 0.37618, Accuracy = 88.82%:  32%|███▏      | 184/572 [00:56<02:39,  2.43it/s]",
      "\r[1 / 50] Train: Loss = 0.20563, Accuracy = 94.69%:  32%|███▏      | 184/572 [00:56<02:39,  2.43it/s]",
      "\r[1 / 50] Train: Loss = 0.20563, Accuracy = 94.69%:  32%|███▏      | 185/572 [00:57<02:33,  2.53it/s]",
      "\r[1 / 50] Train: Loss = 0.42670, Accuracy = 87.07%:  32%|███▏      | 185/572 [00:57<02:33,  2.53it/s]",
      "\r[1 / 50] Train: Loss = 0.42670, Accuracy = 87.07%:  33%|███▎      | 186/572 [00:57<02:22,  2.71it/s]",
      "\r[1 / 50] Train: Loss = 0.41676, Accuracy = 87.81%:  33%|███▎      | 186/572 [00:57<02:22,  2.71it/s]",
      "\r[1 / 50] Train: Loss = 0.41676, Accuracy = 87.81%:  33%|███▎      | 187/572 [00:57<02:14,  2.87it/s]",
      "\r[1 / 50] Train: Loss = 0.41659, Accuracy = 87.84%:  33%|███▎      | 187/572 [00:57<02:14,  2.87it/s]",
      "\r[1 / 50] Train: Loss = 0.41659, Accuracy = 87.84%:  33%|███▎      | 188/572 [00:58<02:18,  2.77it/s]",
      "\r[1 / 50] Train: Loss = 0.35099, Accuracy = 89.49%:  33%|███▎      | 188/572 [00:58<02:18,  2.77it/s]",
      "\r[1 / 50] Train: Loss = 0.35099, Accuracy = 89.49%:  33%|███▎      | 189/572 [00:58<02:08,  2.99it/s]",
      "\r[1 / 50] Train: Loss = 0.51436, Accuracy = 84.70%:  33%|███▎      | 189/572 [00:58<02:08,  2.99it/s]",
      "\r[1 / 50] Train: Loss = 0.51436, Accuracy = 84.70%:  33%|███▎      | 190/572 [00:58<01:59,  3.20it/s]",
      "\r[1 / 50] Train: Loss = 0.46167, Accuracy = 86.06%:  33%|███▎      | 190/572 [00:58<01:59,  3.20it/s]",
      "\r[1 / 50] Train: Loss = 0.46167, Accuracy = 86.06%:  33%|███▎      | 191/572 [00:59<02:19,  2.72it/s]",
      "\r[1 / 50] Train: Loss = 0.36532, Accuracy = 88.97%:  33%|███▎      | 191/572 [00:59<02:19,  2.72it/s]",
      "\r[1 / 50] Train: Loss = 0.36532, Accuracy = 88.97%:  34%|███▎      | 192/572 [00:59<02:20,  2.71it/s]",
      "\r[1 / 50] Train: Loss = 0.32231, Accuracy = 90.79%:  34%|███▎      | 192/572 [00:59<02:20,  2.71it/s]",
      "\r[1 / 50] Train: Loss = 0.32231, Accuracy = 90.79%:  34%|███▎      | 193/572 [00:59<02:14,  2.82it/s]",
      "\r[1 / 50] Train: Loss = 0.39522, Accuracy = 88.53%:  34%|███▎      | 193/572 [00:59<02:14,  2.82it/s]",
      "\r[1 / 50] Train: Loss = 0.39522, Accuracy = 88.53%:  34%|███▍      | 194/572 [01:00<02:06,  3.00it/s]",
      "\r[1 / 50] Train: Loss = 0.41280, Accuracy = 88.25%:  34%|███▍      | 194/572 [01:00<02:06,  3.00it/s]",
      "\r[1 / 50] Train: Loss = 0.41280, Accuracy = 88.25%:  34%|███▍      | 195/572 [01:00<02:09,  2.92it/s]",
      "\r[1 / 50] Train: Loss = 0.39765, Accuracy = 88.10%:  34%|███▍      | 195/572 [01:00<02:09,  2.92it/s]",
      "\r[1 / 50] Train: Loss = 0.39765, Accuracy = 88.10%:  34%|███▍      | 196/572 [01:00<02:08,  2.94it/s]",
      "\r[1 / 50] Train: Loss = 0.34724, Accuracy = 89.95%:  34%|███▍      | 196/572 [01:00<02:08,  2.94it/s]",
      "\r[1 / 50] Train: Loss = 0.34724, Accuracy = 89.95%:  34%|███▍      | 197/572 [01:01<02:01,  3.10it/s]",
      "\r[1 / 50] Train: Loss = 0.35499, Accuracy = 89.70%:  34%|███▍      | 197/572 [01:01<02:01,  3.10it/s]",
      "\r[1 / 50] Train: Loss = 0.35499, Accuracy = 89.70%:  35%|███▍      | 198/572 [01:01<02:01,  3.07it/s]",
      "\r[1 / 50] Train: Loss = 0.39244, Accuracy = 88.85%:  35%|███▍      | 198/572 [01:01<02:01,  3.07it/s]",
      "\r[1 / 50] Train: Loss = 0.39244, Accuracy = 88.85%:  35%|███▍      | 199/572 [01:01<02:01,  3.06it/s]",
      "\r[1 / 50] Train: Loss = 0.35019, Accuracy = 89.67%:  35%|███▍      | 199/572 [01:01<02:01,  3.06it/s]",
      "\r[1 / 50] Train: Loss = 0.35019, Accuracy = 89.67%:  35%|███▍      | 200/572 [01:02<01:55,  3.23it/s]",
      "\r[1 / 50] Train: Loss = 0.42939, Accuracy = 87.24%:  35%|███▍      | 200/572 [01:02<01:55,  3.23it/s]",
      "\r[1 / 50] Train: Loss = 0.42939, Accuracy = 87.24%:  35%|███▌      | 201/572 [01:02<02:05,  2.95it/s]",
      "\r[1 / 50] Train: Loss = 0.30167, Accuracy = 91.30%:  35%|███▌      | 201/572 [01:02<02:05,  2.95it/s]",
      "\r[1 / 50] Train: Loss = 0.30167, Accuracy = 91.30%:  35%|███▌      | 202/572 [01:02<02:09,  2.85it/s]",
      "\r[1 / 50] Train: Loss = 0.37804, Accuracy = 88.57%:  35%|███▌      | 202/572 [01:02<02:09,  2.85it/s]",
      "\r[1 / 50] Train: Loss = 0.37804, Accuracy = 88.57%:  35%|███▌      | 203/572 [01:03<02:21,  2.61it/s]",
      "\r[1 / 50] Train: Loss = 0.29031, Accuracy = 91.65%:  35%|███▌      | 203/572 [01:03<02:21,  2.61it/s]",
      "\r[1 / 50] Train: Loss = 0.29031, Accuracy = 91.65%:  36%|███▌      | 204/572 [01:03<02:34,  2.38it/s]",
      "\r[1 / 50] Train: Loss = 0.27474, Accuracy = 92.17%:  36%|███▌      | 204/572 [01:03<02:34,  2.38it/s]",
      "\r[1 / 50] Train: Loss = 0.27474, Accuracy = 92.17%:  36%|███▌      | 205/572 [01:04<02:26,  2.51it/s]",
      "\r[1 / 50] Train: Loss = 0.31980, Accuracy = 90.21%:  36%|███▌      | 205/572 [01:04<02:26,  2.51it/s]",
      "\r[1 / 50] Train: Loss = 0.31980, Accuracy = 90.21%:  36%|███▌      | 206/572 [01:04<02:26,  2.49it/s]",
      "\r[1 / 50] Train: Loss = 0.37255, Accuracy = 88.66%:  36%|███▌      | 206/572 [01:04<02:26,  2.49it/s]",
      "\r[1 / 50] Train: Loss = 0.37255, Accuracy = 88.66%:  36%|███▌      | 207/572 [01:05<03:06,  1.96it/s]",
      "\r[1 / 50] Train: Loss = 0.19094, Accuracy = 94.48%:  36%|███▌      | 207/572 [01:05<03:06,  1.96it/s]",
      "\r[1 / 50] Train: Loss = 0.19094, Accuracy = 94.48%:  36%|███▋      | 208/572 [01:05<02:44,  2.22it/s]",
      "\r[1 / 50] Train: Loss = 0.29823, Accuracy = 91.31%:  36%|███▋      | 208/572 [01:05<02:44,  2.22it/s]",
      "\r[1 / 50] Train: Loss = 0.29823, Accuracy = 91.31%:  37%|███▋      | 209/572 [01:05<02:23,  2.54it/s]",
      "\r[1 / 50] Train: Loss = 0.36441, Accuracy = 89.48%:  37%|███▋      | 209/572 [01:05<02:23,  2.54it/s]",
      "\r[1 / 50] Train: Loss = 0.36441, Accuracy = 89.48%:  37%|███▋      | 210/572 [01:06<02:05,  2.89it/s]",
      "\r[1 / 50] Train: Loss = 0.42779, Accuracy = 87.39%:  37%|███▋      | 210/572 [01:06<02:05,  2.89it/s]",
      "\r[1 / 50] Train: Loss = 0.42779, Accuracy = 87.39%:  37%|███▋      | 211/572 [01:06<02:07,  2.83it/s]",
      "\r[1 / 50] Train: Loss = 0.31590, Accuracy = 90.60%:  37%|███▋      | 211/572 [01:06<02:07,  2.83it/s]",
      "\r[1 / 50] Train: Loss = 0.31590, Accuracy = 90.60%:  37%|███▋      | 212/572 [01:06<02:01,  2.97it/s]",
      "\r[1 / 50] Train: Loss = 0.39296, Accuracy = 88.98%:  37%|███▋      | 212/572 [01:06<02:01,  2.97it/s]",
      "\r[1 / 50] Train: Loss = 0.39296, Accuracy = 88.98%:  37%|███▋      | 213/572 [01:07<02:02,  2.94it/s]",
      "\r[1 / 50] Train: Loss = 0.37673, Accuracy = 89.13%:  37%|███▋      | 213/572 [01:07<02:02,  2.94it/s]",
      "\r[1 / 50] Train: Loss = 0.37673, Accuracy = 89.13%:  37%|███▋      | 214/572 [01:07<01:53,  3.16it/s]",
      "\r[1 / 50] Train: Loss = 0.34605, Accuracy = 89.47%:  37%|███▋      | 214/572 [01:07<01:53,  3.16it/s]",
      "\r[1 / 50] Train: Loss = 0.34605, Accuracy = 89.47%:  38%|███▊      | 215/572 [01:07<01:46,  3.36it/s]",
      "\r[1 / 50] Train: Loss = 0.33764, Accuracy = 90.05%:  38%|███▊      | 215/572 [01:07<01:46,  3.36it/s]",
      "\r[1 / 50] Train: Loss = 0.33764, Accuracy = 90.05%:  38%|███▊      | 216/572 [01:07<01:40,  3.56it/s]",
      "\r[1 / 50] Train: Loss = 0.38200, Accuracy = 89.01%:  38%|███▊      | 216/572 [01:07<01:40,  3.56it/s]",
      "\r[1 / 50] Train: Loss = 0.38200, Accuracy = 89.01%:  38%|███▊      | 217/572 [01:08<01:45,  3.36it/s]",
      "\r[1 / 50] Train: Loss = 0.27681, Accuracy = 92.30%:  38%|███▊      | 217/572 [01:08<01:45,  3.36it/s]",
      "\r[1 / 50] Train: Loss = 0.27681, Accuracy = 92.30%:  38%|███▊      | 218/572 [01:08<01:40,  3.52it/s]",
      "\r[1 / 50] Train: Loss = 0.36931, Accuracy = 88.45%:  38%|███▊      | 218/572 [01:08<01:40,  3.52it/s]",
      "\r[1 / 50] Train: Loss = 0.36931, Accuracy = 88.45%:  38%|███▊      | 219/572 [01:08<01:47,  3.30it/s]",
      "\r[1 / 50] Train: Loss = 0.32066, Accuracy = 90.67%:  38%|███▊      | 219/572 [01:08<01:47,  3.30it/s]",
      "\r[1 / 50] Train: Loss = 0.32066, Accuracy = 90.67%:  38%|███▊      | 220/572 [01:09<02:05,  2.82it/s]",
      "\r[1 / 50] Train: Loss = 0.22574, Accuracy = 93.62%:  38%|███▊      | 220/572 [01:09<02:05,  2.82it/s]",
      "\r[1 / 50] Train: Loss = 0.22574, Accuracy = 93.62%:  39%|███▊      | 221/572 [01:09<01:52,  3.13it/s]",
      "\r[1 / 50] Train: Loss = 0.35818, Accuracy = 89.37%:  39%|███▊      | 221/572 [01:09<01:52,  3.13it/s]",
      "\r[1 / 50] Train: Loss = 0.35818, Accuracy = 89.37%:  39%|███▉      | 222/572 [01:09<01:55,  3.04it/s]",
      "\r[1 / 50] Train: Loss = 0.32565, Accuracy = 90.30%:  39%|███▉      | 222/572 [01:09<01:55,  3.04it/s]",
      "\r[1 / 50] Train: Loss = 0.32565, Accuracy = 90.30%:  39%|███▉      | 223/572 [01:10<01:47,  3.24it/s]",
      "\r[1 / 50] Train: Loss = 0.35634, Accuracy = 90.07%:  39%|███▉      | 223/572 [01:10<01:47,  3.24it/s]",
      "\r[1 / 50] Train: Loss = 0.35634, Accuracy = 90.07%:  39%|███▉      | 224/572 [01:10<01:54,  3.03it/s]",
      "\r[1 / 50] Train: Loss = 0.28578, Accuracy = 91.12%:  39%|███▉      | 224/572 [01:10<01:54,  3.03it/s]",
      "\r[1 / 50] Train: Loss = 0.28578, Accuracy = 91.12%:  39%|███▉      | 225/572 [01:10<02:00,  2.87it/s]",
      "\r[1 / 50] Train: Loss = 0.29222, Accuracy = 91.22%:  39%|███▉      | 225/572 [01:10<02:00,  2.87it/s]",
      "\r[1 / 50] Train: Loss = 0.29222, Accuracy = 91.22%:  40%|███▉      | 226/572 [01:11<01:46,  3.25it/s]",
      "\r[1 / 50] Train: Loss = 0.39122, Accuracy = 87.93%:  40%|███▉      | 226/572 [01:11<01:46,  3.25it/s]",
      "\r[1 / 50] Train: Loss = 0.39122, Accuracy = 87.93%:  40%|███▉      | 227/572 [01:11<01:39,  3.48it/s]",
      "\r[1 / 50] Train: Loss = 0.34004, Accuracy = 90.48%:  40%|███▉      | 227/572 [01:11<01:39,  3.48it/s]",
      "\r[1 / 50] Train: Loss = 0.34004, Accuracy = 90.48%:  40%|███▉      | 228/572 [01:11<01:34,  3.66it/s]",
      "\r[1 / 50] Train: Loss = 0.43478, Accuracy = 87.30%:  40%|███▉      | 228/572 [01:11<01:34,  3.66it/s]",
      "\r[1 / 50] Train: Loss = 0.43478, Accuracy = 87.30%:  40%|████      | 229/572 [01:11<01:26,  3.95it/s]",
      "\r[1 / 50] Train: Loss = 0.36239, Accuracy = 89.83%:  40%|████      | 229/572 [01:11<01:26,  3.95it/s]",
      "\r[1 / 50] Train: Loss = 0.36239, Accuracy = 89.83%:  40%|████      | 230/572 [01:12<01:24,  4.07it/s]",
      "\r[1 / 50] Train: Loss = 0.46552, Accuracy = 86.33%:  40%|████      | 230/572 [01:12<01:24,  4.07it/s]",
      "\r[1 / 50] Train: Loss = 0.46552, Accuracy = 86.33%:  40%|████      | 231/572 [01:12<01:38,  3.47it/s]",
      "\r[1 / 50] Train: Loss = 0.30473, Accuracy = 91.03%:  40%|████      | 231/572 [01:12<01:38,  3.47it/s]",
      "\r[1 / 50] Train: Loss = 0.30473, Accuracy = 91.03%:  41%|████      | 232/572 [01:12<01:36,  3.51it/s]",
      "\r[1 / 50] Train: Loss = 0.42213, Accuracy = 87.30%:  41%|████      | 232/572 [01:12<01:36,  3.51it/s]",
      "\r[1 / 50] Train: Loss = 0.42213, Accuracy = 87.30%:  41%|████      | 233/572 [01:12<01:30,  3.73it/s]",
      "\r[1 / 50] Train: Loss = 0.30016, Accuracy = 91.20%:  41%|████      | 233/572 [01:12<01:30,  3.73it/s]",
      "\r[1 / 50] Train: Loss = 0.30016, Accuracy = 91.20%:  41%|████      | 234/572 [01:13<01:30,  3.72it/s]",
      "\r[1 / 50] Train: Loss = 0.33413, Accuracy = 89.96%:  41%|████      | 234/572 [01:13<01:30,  3.72it/s]",
      "\r[1 / 50] Train: Loss = 0.33413, Accuracy = 89.96%:  41%|████      | 235/572 [01:13<01:26,  3.88it/s]",
      "\r[1 / 50] Train: Loss = 0.45295, Accuracy = 86.54%:  41%|████      | 235/572 [01:13<01:26,  3.88it/s]",
      "\r[1 / 50] Train: Loss = 0.45295, Accuracy = 86.54%:  41%|████▏     | 236/572 [01:13<01:29,  3.76it/s]",
      "\r[1 / 50] Train: Loss = 0.30463, Accuracy = 90.60%:  41%|████▏     | 236/572 [01:13<01:29,  3.76it/s]",
      "\r[1 / 50] Train: Loss = 0.30463, Accuracy = 90.60%:  41%|████▏     | 237/572 [01:13<01:28,  3.78it/s]",
      "\r[1 / 50] Train: Loss = 0.41306, Accuracy = 87.38%:  41%|████▏     | 237/572 [01:13<01:28,  3.78it/s]",
      "\r[1 / 50] Train: Loss = 0.41306, Accuracy = 87.38%:  42%|████▏     | 238/572 [01:14<01:23,  4.00it/s]",
      "\r[1 / 50] Train: Loss = 0.38254, Accuracy = 88.39%:  42%|████▏     | 238/572 [01:14<01:23,  4.00it/s]",
      "\r[1 / 50] Train: Loss = 0.38254, Accuracy = 88.39%:  42%|████▏     | 239/572 [01:14<01:32,  3.59it/s]",
      "\r[1 / 50] Train: Loss = 0.32234, Accuracy = 90.24%:  42%|████▏     | 239/572 [01:14<01:32,  3.59it/s]",
      "\r[1 / 50] Train: Loss = 0.32234, Accuracy = 90.24%:  42%|████▏     | 240/572 [01:15<01:55,  2.88it/s]",
      "\r[1 / 50] Train: Loss = 0.19088, Accuracy = 94.45%:  42%|████▏     | 240/572 [01:15<01:55,  2.88it/s]",
      "\r[1 / 50] Train: Loss = 0.19088, Accuracy = 94.45%:  42%|████▏     | 241/572 [01:15<01:49,  3.02it/s]",
      "\r[1 / 50] Train: Loss = 0.34756, Accuracy = 89.16%:  42%|████▏     | 241/572 [01:15<01:49,  3.02it/s]",
      "\r[1 / 50] Train: Loss = 0.34756, Accuracy = 89.16%:  42%|████▏     | 242/572 [01:15<01:40,  3.29it/s]",
      "\r[1 / 50] Train: Loss = 0.35660, Accuracy = 89.06%:  42%|████▏     | 242/572 [01:15<01:40,  3.29it/s]",
      "\r[1 / 50] Train: Loss = 0.35660, Accuracy = 89.06%:  42%|████▏     | 243/572 [01:15<01:40,  3.27it/s]",
      "\r[1 / 50] Train: Loss = 0.27882, Accuracy = 91.69%:  42%|████▏     | 243/572 [01:15<01:40,  3.27it/s]",
      "\r[1 / 50] Train: Loss = 0.27882, Accuracy = 91.69%:  43%|████▎     | 244/572 [01:16<02:09,  2.53it/s]",
      "\r[1 / 50] Train: Loss = 0.21542, Accuracy = 94.89%:  43%|████▎     | 244/572 [01:16<02:09,  2.53it/s]",
      "\r[1 / 50] Train: Loss = 0.21542, Accuracy = 94.89%:  43%|████▎     | 245/572 [01:16<02:00,  2.72it/s]",
      "\r[1 / 50] Train: Loss = 0.42608, Accuracy = 86.67%:  43%|████▎     | 245/572 [01:16<02:00,  2.72it/s]",
      "\r[1 / 50] Train: Loss = 0.42608, Accuracy = 86.67%:  43%|████▎     | 246/572 [01:17<01:57,  2.78it/s]",
      "\r[1 / 50] Train: Loss = 0.29273, Accuracy = 91.27%:  43%|████▎     | 246/572 [01:17<01:57,  2.78it/s]",
      "\r[1 / 50] Train: Loss = 0.29273, Accuracy = 91.27%:  43%|████▎     | 247/572 [01:17<01:45,  3.10it/s]",
      "\r[1 / 50] Train: Loss = 0.32636, Accuracy = 90.38%:  43%|████▎     | 247/572 [01:17<01:45,  3.10it/s]",
      "\r[1 / 50] Train: Loss = 0.32636, Accuracy = 90.38%:  43%|████▎     | 248/572 [01:17<01:36,  3.34it/s]",
      "\r[1 / 50] Train: Loss = 0.41336, Accuracy = 87.50%:  43%|████▎     | 248/572 [01:17<01:36,  3.34it/s]",
      "\r[1 / 50] Train: Loss = 0.41336, Accuracy = 87.50%:  44%|████▎     | 249/572 [01:17<01:31,  3.53it/s]",
      "\r[1 / 50] Train: Loss = 0.34017, Accuracy = 89.93%:  44%|████▎     | 249/572 [01:17<01:31,  3.53it/s]",
      "\r[1 / 50] Train: Loss = 0.34017, Accuracy = 89.93%:  44%|████▎     | 250/572 [01:18<01:26,  3.74it/s]",
      "\r[1 / 50] Train: Loss = 0.39768, Accuracy = 88.40%:  44%|████▎     | 250/572 [01:18<01:26,  3.74it/s]",
      "\r[1 / 50] Train: Loss = 0.39768, Accuracy = 88.40%:  44%|████▍     | 251/572 [01:18<01:23,  3.83it/s]",
      "\r[1 / 50] Train: Loss = 0.38972, Accuracy = 88.08%:  44%|████▍     | 251/572 [01:18<01:23,  3.83it/s]",
      "\r[1 / 50] Train: Loss = 0.38972, Accuracy = 88.08%:  44%|████▍     | 252/572 [01:18<01:23,  3.82it/s]",
      "\r[1 / 50] Train: Loss = 0.35583, Accuracy = 89.21%:  44%|████▍     | 252/572 [01:18<01:23,  3.82it/s]",
      "\r[1 / 50] Train: Loss = 0.35583, Accuracy = 89.21%:  44%|████▍     | 253/572 [01:18<01:23,  3.82it/s]",
      "\r[1 / 50] Train: Loss = 0.33932, Accuracy = 90.26%:  44%|████▍     | 253/572 [01:18<01:23,  3.82it/s]",
      "\r[1 / 50] Train: Loss = 0.33932, Accuracy = 90.26%:  44%|████▍     | 254/572 [01:19<01:27,  3.62it/s]",
      "\r[1 / 50] Train: Loss = 0.29270, Accuracy = 91.37%:  44%|████▍     | 254/572 [01:19<01:27,  3.62it/s]",
      "\r[1 / 50] Train: Loss = 0.29270, Accuracy = 91.37%:  45%|████▍     | 255/572 [01:19<01:22,  3.82it/s]",
      "\r[1 / 50] Train: Loss = 0.33992, Accuracy = 89.90%:  45%|████▍     | 255/572 [01:19<01:22,  3.82it/s]",
      "\r[1 / 50] Train: Loss = 0.33992, Accuracy = 89.90%:  45%|████▍     | 256/572 [01:19<01:21,  3.88it/s]",
      "\r[1 / 50] Train: Loss = 0.42704, Accuracy = 88.02%:  45%|████▍     | 256/572 [01:19<01:21,  3.88it/s]",
      "\r[1 / 50] Train: Loss = 0.42704, Accuracy = 88.02%:  45%|████▍     | 257/572 [01:19<01:18,  4.01it/s]",
      "\r[1 / 50] Train: Loss = 0.44530, Accuracy = 85.87%:  45%|████▍     | 257/572 [01:19<01:18,  4.01it/s]",
      "\r[1 / 50] Train: Loss = 0.44530, Accuracy = 85.87%:  45%|████▌     | 258/572 [01:20<01:25,  3.68it/s]",
      "\r[1 / 50] Train: Loss = 0.32606, Accuracy = 89.90%:  45%|████▌     | 258/572 [01:20<01:25,  3.68it/s]",
      "\r[1 / 50] Train: Loss = 0.32606, Accuracy = 89.90%:  45%|████▌     | 259/572 [01:20<01:23,  3.77it/s]",
      "\r[1 / 50] Train: Loss = 0.34285, Accuracy = 89.61%:  45%|████▌     | 259/572 [01:20<01:23,  3.77it/s]",
      "\r[1 / 50] Train: Loss = 0.34285, Accuracy = 89.61%:  45%|████▌     | 260/572 [01:20<01:25,  3.63it/s]",
      "\r[1 / 50] Train: Loss = 0.31931, Accuracy = 90.37%:  45%|████▌     | 260/572 [01:20<01:25,  3.63it/s]",
      "\r[1 / 50] Train: Loss = 0.31931, Accuracy = 90.37%:  46%|████▌     | 261/572 [01:21<02:01,  2.56it/s]",
      "\r[1 / 50] Train: Loss = 0.18679, Accuracy = 94.80%:  46%|████▌     | 261/572 [01:21<02:01,  2.56it/s]",
      "\r[1 / 50] Train: Loss = 0.18679, Accuracy = 94.80%:  46%|████▌     | 262/572 [01:21<02:01,  2.56it/s]",
      "\r[1 / 50] Train: Loss = 0.26276, Accuracy = 91.93%:  46%|████▌     | 262/572 [01:21<02:01,  2.56it/s]",
      "\r[1 / 50] Train: Loss = 0.26276, Accuracy = 91.93%:  46%|████▌     | 263/572 [01:22<01:48,  2.85it/s]",
      "\r[1 / 50] Train: Loss = 0.31958, Accuracy = 90.34%:  46%|████▌     | 263/572 [01:22<01:48,  2.85it/s]",
      "\r[1 / 50] Train: Loss = 0.31958, Accuracy = 90.34%:  46%|████▌     | 264/572 [01:22<01:41,  3.03it/s]",
      "\r[1 / 50] Train: Loss = 0.39270, Accuracy = 88.25%:  46%|████▌     | 264/572 [01:22<01:41,  3.03it/s]",
      "\r[1 / 50] Train: Loss = 0.39270, Accuracy = 88.25%:  46%|████▋     | 265/572 [01:22<01:42,  2.99it/s]",
      "\r[1 / 50] Train: Loss = 0.26338, Accuracy = 92.49%:  46%|████▋     | 265/572 [01:22<01:42,  2.99it/s]",
      "\r[1 / 50] Train: Loss = 0.26338, Accuracy = 92.49%:  47%|████▋     | 266/572 [01:23<01:38,  3.09it/s]",
      "\r[1 / 50] Train: Loss = 0.27280, Accuracy = 92.37%:  47%|████▋     | 266/572 [01:23<01:38,  3.09it/s]",
      "\r[1 / 50] Train: Loss = 0.27280, Accuracy = 92.37%:  47%|████▋     | 267/572 [01:23<01:38,  3.11it/s]",
      "\r[1 / 50] Train: Loss = 0.30486, Accuracy = 90.81%:  47%|████▋     | 267/572 [01:23<01:38,  3.11it/s]",
      "\r[1 / 50] Train: Loss = 0.30486, Accuracy = 90.81%:  47%|████▋     | 268/572 [01:23<01:39,  3.06it/s]",
      "\r[1 / 50] Train: Loss = 0.28127, Accuracy = 91.15%:  47%|████▋     | 268/572 [01:23<01:39,  3.06it/s]",
      "\r[1 / 50] Train: Loss = 0.28127, Accuracy = 91.15%:  47%|████▋     | 269/572 [01:23<01:35,  3.19it/s]",
      "\r[1 / 50] Train: Loss = 0.27874, Accuracy = 91.30%:  47%|████▋     | 269/572 [01:23<01:35,  3.19it/s]",
      "\r[1 / 50] Train: Loss = 0.27874, Accuracy = 91.30%:  47%|████▋     | 270/572 [01:24<01:30,  3.35it/s]",
      "\r[1 / 50] Train: Loss = 0.36282, Accuracy = 89.14%:  47%|████▋     | 270/572 [01:24<01:30,  3.35it/s]",
      "\r[1 / 50] Train: Loss = 0.36282, Accuracy = 89.14%:  47%|████▋     | 271/572 [01:24<01:25,  3.51it/s]",
      "\r[1 / 50] Train: Loss = 0.36864, Accuracy = 89.35%:  47%|████▋     | 271/572 [01:24<01:25,  3.51it/s]",
      "\r[1 / 50] Train: Loss = 0.36864, Accuracy = 89.35%:  48%|████▊     | 272/572 [01:24<01:26,  3.45it/s]",
      "\r[1 / 50] Train: Loss = 0.31333, Accuracy = 90.65%:  48%|████▊     | 272/572 [01:24<01:26,  3.45it/s]",
      "\r[1 / 50] Train: Loss = 0.31333, Accuracy = 90.65%:  48%|████▊     | 273/572 [01:24<01:20,  3.71it/s]",
      "\r[1 / 50] Train: Loss = 0.36198, Accuracy = 89.00%:  48%|████▊     | 273/572 [01:24<01:20,  3.71it/s]",
      "\r[1 / 50] Train: Loss = 0.36198, Accuracy = 89.00%:  48%|████▊     | 274/572 [01:25<01:21,  3.68it/s]",
      "\r[1 / 50] Train: Loss = 0.38787, Accuracy = 88.19%:  48%|████▊     | 274/572 [01:25<01:21,  3.68it/s]",
      "\r[1 / 50] Train: Loss = 0.38787, Accuracy = 88.19%:  48%|████▊     | 275/572 [01:25<01:14,  3.98it/s]",
      "\r[1 / 50] Train: Loss = 0.38070, Accuracy = 88.30%:  48%|████▊     | 275/572 [01:25<01:14,  3.98it/s]",
      "\r[1 / 50] Train: Loss = 0.38070, Accuracy = 88.30%:  48%|████▊     | 276/572 [01:25<01:16,  3.87it/s]",
      "\r[1 / 50] Train: Loss = 0.28973, Accuracy = 91.48%:  48%|████▊     | 276/572 [01:25<01:16,  3.87it/s]",
      "\r[1 / 50] Train: Loss = 0.28973, Accuracy = 91.48%:  48%|████▊     | 277/572 [01:25<01:13,  4.01it/s]",
      "\r[1 / 50] Train: Loss = 0.33113, Accuracy = 89.88%:  48%|████▊     | 277/572 [01:25<01:13,  4.01it/s]",
      "\r[1 / 50] Train: Loss = 0.33113, Accuracy = 89.88%:  49%|████▊     | 278/572 [01:26<01:22,  3.56it/s]",
      "\r[1 / 50] Train: Loss = 0.30544, Accuracy = 91.11%:  49%|████▊     | 278/572 [01:26<01:22,  3.56it/s]",
      "\r[1 / 50] Train: Loss = 0.30544, Accuracy = 91.11%:  49%|████▉     | 279/572 [01:26<01:19,  3.67it/s]",
      "\r[1 / 50] Train: Loss = 0.41597, Accuracy = 86.67%:  49%|████▉     | 279/572 [01:26<01:19,  3.67it/s]",
      "\r[1 / 50] Train: Loss = 0.41597, Accuracy = 86.67%:  49%|████▉     | 280/572 [01:26<01:19,  3.68it/s]",
      "\r[1 / 50] Train: Loss = 0.37197, Accuracy = 88.32%:  49%|████▉     | 280/572 [01:26<01:19,  3.68it/s]",
      "\r[1 / 50] Train: Loss = 0.37197, Accuracy = 88.32%:  49%|████▉     | 281/572 [01:27<01:14,  3.90it/s]",
      "\r[1 / 50] Train: Loss = 0.41097, Accuracy = 87.60%:  49%|████▉     | 281/572 [01:27<01:14,  3.90it/s]",
      "\r[1 / 50] Train: Loss = 0.41097, Accuracy = 87.60%:  49%|████▉     | 282/572 [01:27<01:14,  3.88it/s]",
      "\r[1 / 50] Train: Loss = 0.33017, Accuracy = 90.26%:  49%|████▉     | 282/572 [01:27<01:14,  3.88it/s]",
      "\r[1 / 50] Train: Loss = 0.33017, Accuracy = 90.26%:  49%|████▉     | 283/572 [01:27<01:15,  3.84it/s]",
      "\r[1 / 50] Train: Loss = 0.28747, Accuracy = 91.18%:  49%|████▉     | 283/572 [01:27<01:15,  3.84it/s]",
      "\r[1 / 50] Train: Loss = 0.28747, Accuracy = 91.18%:  50%|████▉     | 284/572 [01:27<01:15,  3.80it/s]",
      "\r[1 / 50] Train: Loss = 0.29822, Accuracy = 90.75%:  50%|████▉     | 284/572 [01:27<01:15,  3.80it/s]",
      "\r[1 / 50] Train: Loss = 0.29822, Accuracy = 90.75%:  50%|████▉     | 285/572 [01:28<01:16,  3.74it/s]",
      "\r[1 / 50] Train: Loss = 0.32614, Accuracy = 90.04%:  50%|████▉     | 285/572 [01:28<01:16,  3.74it/s]",
      "\r[1 / 50] Train: Loss = 0.32614, Accuracy = 90.04%:  50%|█████     | 286/572 [01:28<01:22,  3.47it/s]",
      "\r[1 / 50] Train: Loss = 0.26852, Accuracy = 91.79%:  50%|█████     | 286/572 [01:28<01:22,  3.47it/s]",
      "\r[1 / 50] Train: Loss = 0.26852, Accuracy = 91.79%:  50%|█████     | 287/572 [01:28<01:37,  2.91it/s]",
      "\r[1 / 50] Train: Loss = 0.18131, Accuracy = 94.92%:  50%|█████     | 287/572 [01:28<01:37,  2.91it/s]",
      "\r[1 / 50] Train: Loss = 0.18131, Accuracy = 94.92%:  50%|█████     | 288/572 [01:29<01:30,  3.13it/s]",
      "\r[1 / 50] Train: Loss = 0.35721, Accuracy = 91.60%:  50%|█████     | 288/572 [01:29<01:30,  3.13it/s]",
      "\r[1 / 50] Train: Loss = 0.35721, Accuracy = 91.60%:  51%|█████     | 289/572 [01:29<01:24,  3.34it/s]",
      "\r[1 / 50] Train: Loss = 0.36925, Accuracy = 88.66%:  51%|█████     | 289/572 [01:29<01:24,  3.34it/s]",
      "\r[1 / 50] Train: Loss = 0.36925, Accuracy = 88.66%:  51%|█████     | 290/572 [01:29<01:18,  3.61it/s]",
      "\r[1 / 50] Train: Loss = 0.33991, Accuracy = 89.99%:  51%|█████     | 290/572 [01:29<01:18,  3.61it/s]",
      "\r[1 / 50] Train: Loss = 0.33991, Accuracy = 89.99%:  51%|█████     | 291/572 [01:29<01:15,  3.74it/s]",
      "\r[1 / 50] Train: Loss = 0.41212, Accuracy = 87.67%:  51%|█████     | 291/572 [01:29<01:15,  3.74it/s]",
      "\r[1 / 50] Train: Loss = 0.41212, Accuracy = 87.67%:  51%|█████     | 292/572 [01:30<01:14,  3.75it/s]",
      "\r[1 / 50] Train: Loss = 0.32744, Accuracy = 89.91%:  51%|█████     | 292/572 [01:30<01:14,  3.75it/s]",
      "\r[1 / 50] Train: Loss = 0.32744, Accuracy = 89.91%:  51%|█████     | 293/572 [01:30<01:13,  3.79it/s]",
      "\r[1 / 50] Train: Loss = 0.35430, Accuracy = 88.69%:  51%|█████     | 293/572 [01:30<01:13,  3.79it/s]",
      "\r[1 / 50] Train: Loss = 0.35430, Accuracy = 88.69%:  51%|█████▏    | 294/572 [01:30<01:09,  4.00it/s]",
      "\r[1 / 50] Train: Loss = 0.43062, Accuracy = 86.37%:  51%|█████▏    | 294/572 [01:30<01:09,  4.00it/s]",
      "\r[1 / 50] Train: Loss = 0.43062, Accuracy = 86.37%:  52%|█████▏    | 295/572 [01:31<01:22,  3.35it/s]",
      "\r[1 / 50] Train: Loss = 0.25353, Accuracy = 92.43%:  52%|█████▏    | 295/572 [01:31<01:22,  3.35it/s]",
      "\r[1 / 50] Train: Loss = 0.25353, Accuracy = 92.43%:  52%|█████▏    | 296/572 [01:31<01:22,  3.33it/s]",
      "\r[1 / 50] Train: Loss = 0.28205, Accuracy = 91.41%:  52%|█████▏    | 296/572 [01:31<01:22,  3.33it/s]",
      "\r[1 / 50] Train: Loss = 0.28205, Accuracy = 91.41%:  52%|█████▏    | 297/572 [01:31<01:16,  3.60it/s]",
      "\r[1 / 50] Train: Loss = 0.35485, Accuracy = 88.60%:  52%|█████▏    | 297/572 [01:31<01:16,  3.60it/s]",
      "\r[1 / 50] Train: Loss = 0.35485, Accuracy = 88.60%:  52%|█████▏    | 298/572 [01:31<01:15,  3.64it/s]",
      "\r[1 / 50] Train: Loss = 0.41634, Accuracy = 87.05%:  52%|█████▏    | 298/572 [01:31<01:15,  3.64it/s]",
      "\r[1 / 50] Train: Loss = 0.41634, Accuracy = 87.05%:  52%|█████▏    | 299/572 [01:32<01:11,  3.83it/s]",
      "\r[1 / 50] Train: Loss = 0.41724, Accuracy = 87.00%:  52%|█████▏    | 299/572 [01:32<01:11,  3.83it/s]",
      "\r[1 / 50] Train: Loss = 0.41724, Accuracy = 87.00%:  52%|█████▏    | 300/572 [01:32<01:33,  2.91it/s]",
      "\r[1 / 50] Train: Loss = 0.17358, Accuracy = 94.98%:  52%|█████▏    | 300/572 [01:32<01:33,  2.91it/s]",
      "\r[1 / 50] Train: Loss = 0.17358, Accuracy = 94.98%:  53%|█████▎    | 301/572 [01:32<01:29,  3.01it/s]",
      "\r[1 / 50] Train: Loss = 0.33367, Accuracy = 89.78%:  53%|█████▎    | 301/572 [01:32<01:29,  3.01it/s]",
      "\r[1 / 50] Train: Loss = 0.33367, Accuracy = 89.78%:  53%|█████▎    | 302/572 [01:33<01:20,  3.35it/s]",
      "\r[1 / 50] Train: Loss = 0.31767, Accuracy = 90.17%:  53%|█████▎    | 302/572 [01:33<01:20,  3.35it/s]",
      "\r[1 / 50] Train: Loss = 0.31767, Accuracy = 90.17%:  53%|█████▎    | 303/572 [01:33<01:12,  3.73it/s]",
      "\r[1 / 50] Train: Loss = 0.38250, Accuracy = 87.94%:  53%|█████▎    | 303/572 [01:33<01:12,  3.73it/s]",
      "\r[1 / 50] Train: Loss = 0.38250, Accuracy = 87.94%:  53%|█████▎    | 304/572 [01:33<01:14,  3.58it/s]",
      "\r[1 / 50] Train: Loss = 0.30221, Accuracy = 90.91%:  53%|█████▎    | 304/572 [01:33<01:14,  3.58it/s]",
      "\r[1 / 50] Train: Loss = 0.30221, Accuracy = 90.91%:  53%|█████▎    | 305/572 [01:33<01:12,  3.68it/s]",
      "\r[1 / 50] Train: Loss = 0.32731, Accuracy = 89.29%:  53%|█████▎    | 305/572 [01:33<01:12,  3.68it/s]",
      "\r[1 / 50] Train: Loss = 0.32731, Accuracy = 89.29%:  53%|█████▎    | 306/572 [01:34<01:11,  3.70it/s]",
      "\r[1 / 50] Train: Loss = 0.36021, Accuracy = 88.61%:  53%|█████▎    | 306/572 [01:34<01:11,  3.70it/s]",
      "\r[1 / 50] Train: Loss = 0.36021, Accuracy = 88.61%:  54%|█████▎    | 307/572 [01:34<01:12,  3.65it/s]",
      "\r[1 / 50] Train: Loss = 0.27977, Accuracy = 92.03%:  54%|█████▎    | 307/572 [01:34<01:12,  3.65it/s]",
      "\r[1 / 50] Train: Loss = 0.27977, Accuracy = 92.03%:  54%|█████▍    | 308/572 [01:34<01:24,  3.12it/s]",
      "\r[1 / 50] Train: Loss = 0.22183, Accuracy = 93.21%:  54%|█████▍    | 308/572 [01:34<01:24,  3.12it/s]",
      "\r[1 / 50] Train: Loss = 0.22183, Accuracy = 93.21%:  54%|█████▍    | 309/572 [01:35<01:35,  2.75it/s]",
      "\r[1 / 50] Train: Loss = 0.22926, Accuracy = 93.19%:  54%|█████▍    | 309/572 [01:35<01:35,  2.75it/s]",
      "\r[1 / 50] Train: Loss = 0.22926, Accuracy = 93.19%:  54%|█████▍    | 310/572 [01:35<01:29,  2.93it/s]",
      "\r[1 / 50] Train: Loss = 0.29843, Accuracy = 91.06%:  54%|█████▍    | 310/572 [01:35<01:29,  2.93it/s]",
      "\r[1 / 50] Train: Loss = 0.29843, Accuracy = 91.06%:  54%|█████▍    | 311/572 [01:35<01:24,  3.08it/s]",
      "\r[1 / 50] Train: Loss = 0.29263, Accuracy = 91.20%:  54%|█████▍    | 311/572 [01:35<01:24,  3.08it/s]",
      "\r[1 / 50] Train: Loss = 0.29263, Accuracy = 91.20%:  55%|█████▍    | 312/572 [01:36<01:19,  3.27it/s]",
      "\r[1 / 50] Train: Loss = 0.28331, Accuracy = 91.24%:  55%|█████▍    | 312/572 [01:36<01:19,  3.27it/s]",
      "\r[1 / 50] Train: Loss = 0.28331, Accuracy = 91.24%:  55%|█████▍    | 313/572 [01:36<01:20,  3.21it/s]",
      "\r[1 / 50] Train: Loss = 0.26710, Accuracy = 92.02%:  55%|█████▍    | 313/572 [01:36<01:20,  3.21it/s]",
      "\r[1 / 50] Train: Loss = 0.26710, Accuracy = 92.02%:  55%|█████▍    | 314/572 [01:36<01:19,  3.25it/s]",
      "\r[1 / 50] Train: Loss = 0.33192, Accuracy = 90.20%:  55%|█████▍    | 314/572 [01:36<01:19,  3.25it/s]",
      "\r[1 / 50] Train: Loss = 0.33192, Accuracy = 90.20%:  55%|█████▌    | 315/572 [01:37<01:15,  3.40it/s]",
      "\r[1 / 50] Train: Loss = 0.28224, Accuracy = 91.31%:  55%|█████▌    | 315/572 [01:37<01:15,  3.40it/s]",
      "\r[1 / 50] Train: Loss = 0.28224, Accuracy = 91.31%:  55%|█████▌    | 316/572 [01:37<01:11,  3.57it/s]",
      "\r[1 / 50] Train: Loss = 0.28776, Accuracy = 91.23%:  55%|█████▌    | 316/572 [01:37<01:11,  3.57it/s]",
      "\r[1 / 50] Train: Loss = 0.28776, Accuracy = 91.23%:  55%|█████▌    | 317/572 [01:37<01:13,  3.48it/s]",
      "\r[1 / 50] Train: Loss = 0.27351, Accuracy = 91.52%:  55%|█████▌    | 317/572 [01:37<01:13,  3.48it/s]",
      "\r[1 / 50] Train: Loss = 0.27351, Accuracy = 91.52%:  56%|█████▌    | 318/572 [01:37<01:11,  3.57it/s]",
      "\r[1 / 50] Train: Loss = 0.30191, Accuracy = 89.99%:  56%|█████▌    | 318/572 [01:37<01:11,  3.57it/s]",
      "\r[1 / 50] Train: Loss = 0.30191, Accuracy = 89.99%:  56%|█████▌    | 319/572 [01:38<01:08,  3.71it/s]",
      "\r[1 / 50] Train: Loss = 0.31104, Accuracy = 90.05%:  56%|█████▌    | 319/572 [01:38<01:08,  3.71it/s]",
      "\r[1 / 50] Train: Loss = 0.31104, Accuracy = 90.05%:  56%|█████▌    | 320/572 [01:38<01:06,  3.76it/s]",
      "\r[1 / 50] Train: Loss = 0.32397, Accuracy = 90.28%:  56%|█████▌    | 320/572 [01:38<01:06,  3.76it/s]",
      "\r[1 / 50] Train: Loss = 0.32397, Accuracy = 90.28%:  56%|█████▌    | 321/572 [01:38<01:07,  3.69it/s]",
      "\r[1 / 50] Train: Loss = 0.24590, Accuracy = 92.84%:  56%|█████▌    | 321/572 [01:38<01:07,  3.69it/s]",
      "\r[1 / 50] Train: Loss = 0.24590, Accuracy = 92.84%:  56%|█████▋    | 322/572 [01:38<01:04,  3.88it/s]",
      "\r[1 / 50] Train: Loss = 0.32009, Accuracy = 90.03%:  56%|█████▋    | 322/572 [01:38<01:04,  3.88it/s]",
      "\r[1 / 50] Train: Loss = 0.32009, Accuracy = 90.03%:  56%|█████▋    | 323/572 [01:39<01:06,  3.72it/s]",
      "\r[1 / 50] Train: Loss = 0.30303, Accuracy = 89.83%:  56%|█████▋    | 323/572 [01:39<01:06,  3.72it/s]",
      "\r[1 / 50] Train: Loss = 0.30303, Accuracy = 89.83%:  57%|█████▋    | 324/572 [01:39<01:16,  3.23it/s]",
      "\r[1 / 50] Train: Loss = 0.20547, Accuracy = 93.67%:  57%|█████▋    | 324/572 [01:39<01:16,  3.23it/s]",
      "\r[1 / 50] Train: Loss = 0.20547, Accuracy = 93.67%:  57%|█████▋    | 325/572 [01:39<01:13,  3.34it/s]",
      "\r[1 / 50] Train: Loss = 0.26457, Accuracy = 91.84%:  57%|█████▋    | 325/572 [01:39<01:13,  3.34it/s]",
      "\r[1 / 50] Train: Loss = 0.26457, Accuracy = 91.84%:  57%|█████▋    | 326/572 [01:40<01:13,  3.34it/s]",
      "\r[1 / 50] Train: Loss = 0.27805, Accuracy = 91.35%:  57%|█████▋    | 326/572 [01:40<01:13,  3.34it/s]",
      "\r[1 / 50] Train: Loss = 0.27805, Accuracy = 91.35%:  57%|█████▋    | 327/572 [01:40<01:11,  3.44it/s]",
      "\r[1 / 50] Train: Loss = 0.28883, Accuracy = 91.20%:  57%|█████▋    | 327/572 [01:40<01:11,  3.44it/s]",
      "\r[1 / 50] Train: Loss = 0.28883, Accuracy = 91.20%:  57%|█████▋    | 328/572 [01:40<01:18,  3.10it/s]",
      "\r[1 / 50] Train: Loss = 0.19804, Accuracy = 93.90%:  57%|█████▋    | 328/572 [01:40<01:18,  3.10it/s]",
      "\r[1 / 50] Train: Loss = 0.19804, Accuracy = 93.90%:  58%|█████▊    | 329/572 [01:41<01:18,  3.11it/s]",
      "\r[1 / 50] Train: Loss = 0.30199, Accuracy = 90.26%:  58%|█████▊    | 329/572 [01:41<01:18,  3.11it/s]",
      "\r[1 / 50] Train: Loss = 0.30199, Accuracy = 90.26%:  58%|█████▊    | 330/572 [01:41<01:12,  3.34it/s]",
      "\r[1 / 50] Train: Loss = 0.33400, Accuracy = 89.41%:  58%|█████▊    | 330/572 [01:41<01:12,  3.34it/s]",
      "\r[1 / 50] Train: Loss = 0.33400, Accuracy = 89.41%:  58%|█████▊    | 331/572 [01:41<01:05,  3.67it/s]",
      "\r[1 / 50] Train: Loss = 0.24722, Accuracy = 92.23%:  58%|█████▊    | 331/572 [01:41<01:05,  3.67it/s]",
      "\r[1 / 50] Train: Loss = 0.24722, Accuracy = 92.23%:  58%|█████▊    | 332/572 [01:42<01:16,  3.14it/s]",
      "\r[1 / 50] Train: Loss = 0.17295, Accuracy = 94.87%:  58%|█████▊    | 332/572 [01:42<01:16,  3.14it/s]",
      "\r[1 / 50] Train: Loss = 0.17295, Accuracy = 94.87%:  58%|█████▊    | 333/572 [01:42<01:18,  3.05it/s]",
      "\r[1 / 50] Train: Loss = 0.24431, Accuracy = 92.66%:  58%|█████▊    | 333/572 [01:42<01:18,  3.05it/s]",
      "\r[1 / 50] Train: Loss = 0.24431, Accuracy = 92.66%:  58%|█████▊    | 334/572 [01:42<01:22,  2.89it/s]",
      "\r[1 / 50] Train: Loss = 0.25955, Accuracy = 92.19%:  58%|█████▊    | 334/572 [01:42<01:22,  2.89it/s]",
      "\r[1 / 50] Train: Loss = 0.25955, Accuracy = 92.19%:  59%|█████▊    | 335/572 [01:43<01:24,  2.79it/s]",
      "\r[1 / 50] Train: Loss = 0.21853, Accuracy = 93.10%:  59%|█████▊    | 335/572 [01:43<01:24,  2.79it/s]",
      "\r[1 / 50] Train: Loss = 0.21853, Accuracy = 93.10%:  59%|█████▊    | 336/572 [01:43<01:20,  2.93it/s]",
      "\r[1 / 50] Train: Loss = 0.25656, Accuracy = 91.77%:  59%|█████▊    | 336/572 [01:43<01:20,  2.93it/s]",
      "\r[1 / 50] Train: Loss = 0.25656, Accuracy = 91.77%:  59%|█████▉    | 337/572 [01:43<01:14,  3.17it/s]",
      "\r[1 / 50] Train: Loss = 0.34138, Accuracy = 89.64%:  59%|█████▉    | 337/572 [01:43<01:14,  3.17it/s]",
      "\r[1 / 50] Train: Loss = 0.34138, Accuracy = 89.64%:  59%|█████▉    | 338/572 [01:44<01:14,  3.15it/s]",
      "\r[1 / 50] Train: Loss = 0.22367, Accuracy = 93.16%:  59%|█████▉    | 338/572 [01:44<01:14,  3.15it/s]"
     ],
     "output_type": "stream"
    }
   ],
   "source": [
    "\n",
    "if torch.cuda.is_available():\n",
    "    model = LSTMTagger(\n",
    "        vocab_size=len(word2ind),\n",
    "        tagset_size=len(tag2ind)\n",
    "    ).cuda()\n",
    "    \n",
    "    criterion = nn.CrossEntropyLoss().cuda()\n",
    "else:\n",
    "    model = LSTMTagger(\n",
    "        vocab_size=len(word2ind),\n",
    "        tagset_size=len(tag2ind)\n",
    "    )\n",
    "    \n",
    "    criterion = nn.CrossEntropyLoss()\n",
    "    \n",
    "    \n",
    "optimizer = optim.Adam(model.parameters())\n",
    "\n",
    "fit(model, criterion, optimizer, train_data=(X_train, y_train), epochs_count=50,\n",
    "    batch_size=64, val_data=(X_val, y_val), val_batch_size=512)"
   ]
  },
  {
   "cell_type": "markdown",
   "metadata": {
    "colab_type": "text",
    "id": "m0qGetIhfUE5"
   },
   "source": [
    "### Masking\n",
    "\n",
    "**Задание** Проверьте себя - не считаете ли вы потери и accuracy на паддингах - очень легко получить высокое качество за счет этого.\n",
    "\n",
    "У функции потерь есть параметр `ignore_index`, для таких целей. Для accuracy нужно использовать маскинг - умножение на маску из нулей и единиц, где нули на позициях паддингов (а потом усреднение по ненулевым позициям в маске)."
   ]
  },
  {
   "cell_type": "markdown",
   "metadata": {
    "colab_type": "text",
    "id": "nAfV2dEOfHo5"
   },
   "source": [
    "**Задание** Посчитайте качество модели на тесте. Ожидается результат лучше бейзлайна!"
   ]
  },
  {
   "cell_type": "code",
   "execution_count": 0,
   "metadata": {
    "colab": {},
    "colab_type": "code",
    "id": "98wr38_rw55D"
   },
   "outputs": [],
   "source": []
  },
  {
   "cell_type": "markdown",
   "metadata": {
    "colab_type": "text",
    "id": "PXUTSFaEHbDG"
   },
   "source": [
    "### Bidirectional LSTM\n",
    "\n",
    "Благодаря BiLSTM можно использовать сразу оба контеста при предсказании тега слова. Т.е. для каждого токена $w_i$ forward LSTM будет выдавать представление $\\mathbf{f_i} \\sim (w_1, \\ldots, w_i)$ - построенное по всему левому контексту - и $\\mathbf{b_i} \\sim (w_n, \\ldots, w_i)$ - представление правого контекста. Их конкатенация автоматически захватит весь доступный контекст слова: $\\mathbf{h_i} = [\\mathbf{f_i}, \\mathbf{b_i}] \\sim (w_1, \\ldots, w_n)$.\n",
    "\n",
    "![BiLSTM](https://www.researchgate.net/profile/Wang_Ling/publication/280912217/figure/fig2/AS:391505383575555@1470353565299/Illustration-of-our-neural-network-for-POS-tagging.png)  \n",
    "*From [Finding Function in Form: Compositional Character Models for Open Vocabulary Word Representation](https://arxiv.org/abs/1508.02096)*\n",
    "\n",
    "**Задание** Добавьте Bidirectional LSTM."
   ]
  },
  {
   "cell_type": "code",
   "execution_count": 0,
   "metadata": {
    "colab": {},
    "colab_type": "code",
    "id": "XVSpedXdE5o_"
   },
   "outputs": [],
   "source": []
  },
  {
   "cell_type": "markdown",
   "metadata": {
    "colab_type": "text",
    "id": "ZTXmYGD_ANhm"
   },
   "source": [
    "### Предобученные эмбеддинги\n",
    "\n",
    "Мы знаем, какая клёвая вещь - предобученные эмбеддинги. При текущем размере обучающей выборки еще можно было учить их и с нуля - с меньшей было бы совсем плохо.\n",
    "\n",
    "Поэтому стандартный пайплайн - скачать эмбеддинги, засунуть их в сеточку. Запустим его:"
   ]
  },
  {
   "cell_type": "code",
   "execution_count": 0,
   "metadata": {
    "colab": {},
    "colab_type": "code",
    "id": "uZpY_Q1xZ18h"
   },
   "outputs": [],
   "source": [
    "import gensim.downloader as api\n",
    "\n",
    "w2v_model = api.load('glove-wiki-gigaword-100')"
   ]
  },
  {
   "cell_type": "markdown",
   "metadata": {
    "colab_type": "text",
    "id": "KYogOoKlgtcf"
   },
   "source": [
    "Построим подматрицу для слов из нашей тренировочной выборки:"
   ]
  },
  {
   "cell_type": "code",
   "execution_count": 0,
   "metadata": {
    "colab": {},
    "colab_type": "code",
    "id": "VsCstxiO03oT"
   },
   "outputs": [],
   "source": [
    "known_count = 0\n",
    "embeddings = np.zeros((len(word2ind), w2v_model.vectors.shape[1]))\n",
    "for word, ind in word2ind.items():\n",
    "    word = word.lower()\n",
    "    if word in w2v_model.vocab:\n",
    "        embeddings[ind] = w2v_model.get_vector(word)\n",
    "        known_count += 1\n",
    "        \n",
    "print('Know {} out of {} word embeddings'.format(known_count, len(word2ind)))"
   ]
  },
  {
   "cell_type": "markdown",
   "metadata": {
    "colab_type": "text",
    "id": "HcG7i-R8hbY3"
   },
   "source": [
    "**Задание** Сделайте модель с предобученной матрицей. Используйте `nn.Embedding.from_pretrained`."
   ]
  },
  {
   "cell_type": "code",
   "execution_count": 0,
   "metadata": {
    "colab": {},
    "colab_type": "code",
    "id": "LxaRBpQd0pat"
   },
   "outputs": [],
   "source": [
    "class LSTMTaggerWithPretrainedEmbs(nn.Module):\n",
    "    def __init__(self, embeddings, tagset_size, lstm_hidden_dim=64, lstm_layers_count=1):\n",
    "        super().__init__()\n",
    "        \n",
    "        <create me>\n",
    "\n",
    "    def forward(self, inputs):\n",
    "        <use me>"
   ]
  },
  {
   "cell_type": "code",
   "execution_count": 0,
   "metadata": {
    "colab": {},
    "colab_type": "code",
    "id": "EBtI6BDE-Fc7"
   },
   "outputs": [],
   "source": [
    "model = LSTMTaggerWithPretrainedEmbs(\n",
    "    embeddings=embeddings,\n",
    "    tagset_size=len(tag2ind)\n",
    ").cuda()\n",
    "\n",
    "criterion = nn.CrossEntropyLoss(ignore_index=0)\n",
    "optimizer = optim.Adam(model.parameters())\n",
    "\n",
    "fit(model, criterion, optimizer, train_data=(X_train, y_train), epochs_count=50,\n",
    "    batch_size=64, val_data=(X_val, y_val), val_batch_size=512)"
   ]
  },
  {
   "cell_type": "markdown",
   "metadata": {
    "colab_type": "text",
    "id": "2Ne_8f24h8kg"
   },
   "source": [
    "**Задание** Оцените качество модели на тестовой выборке. Обратите внимание, вовсе не обязательно ограничиваться векторами из урезанной матрицы - вполне могут найтись слова в тесте, которых не было в трейне и для которых есть эмбеддинги.\n",
    "\n",
    "Добейтесь качества лучше прошлых моделей."
   ]
  },
  {
   "cell_type": "code",
   "execution_count": 0,
   "metadata": {
    "colab": {},
    "colab_type": "code",
    "id": "HPUuAPGhEGVR"
   },
   "outputs": [],
   "source": [
    "<calc test accuracy>"
   ]
  }
 ],
 "metadata": {
  "accelerator": "GPU",
  "colab": {
   "collapsed_sections": [],
   "name": "Week 06 - RNNs, part 2.ipynb",
   "provenance": [],
   "version": "0.3.2"
  },
  "kernelspec": {
   "display_name": "Python 3",
   "language": "python",
   "name": "python3"
  },
  "language_info": {
   "codemirror_mode": {
    "name": "ipython",
    "version": 3
   },
   "file_extension": ".py",
   "mimetype": "text/x-python",
   "name": "python",
   "nbconvert_exporter": "python",
   "pygments_lexer": "ipython3",
   "version": "3.7.3"
  },
  "pycharm": {
   "stem_cell": {
    "cell_type": "raw",
    "source": [],
    "metadata": {
     "collapsed": false
    }
   }
  }
 },
 "nbformat": 4,
 "nbformat_minor": 1
}